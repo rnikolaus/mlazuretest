{
  "cells": [
    {
      "cell_type": "code",
      "source": [
        "from files import BCTrade_utils\r\n",
        "from azureml.core import Workspace,Dataset\r\n",
        "\r\n",
        "ws = Workspace.from_config()\r\n",
        "name ='Btc_with_indicators'\r\n",
        "dataset = Dataset.get_by_name(ws, name=name)\r\n",
        "env = BCTrade_utils.BCTrade(dataset.to_pandas_dataframe())"
      ],
      "outputs": [
        {
          "output_type": "stream",
          "name": "stderr",
          "text": "/anaconda/envs/azureml_py36/lib/python3.6/site-packages/gym/spaces/box.py:74: UserWarning: \u001b[33mWARN: Box bound precision lowered by casting to float32\u001b[0m\n  \"Box bound precision lowered by casting to {}\".format(self.dtype)\n"
        }
      ],
      "execution_count": 1,
      "metadata": {
        "gather": {
          "logged": 1642622464418
        }
      }
    },
    {
      "cell_type": "code",
      "source": [
        "from random import randrange\r\n",
        "#print(randrange(2))\r\n",
        "env.reset()\r\n",
        "\r\n",
        "#env.step(0)\r\n",
        "#env.step(1)\r\n",
        "for i in range(1000):\r\n",
        "    #print(\"drawdown \",env.gettc().getdrawdown())\r\n",
        "    obs, reward, done, _ = env.step(randrange(2))\r\n",
        "    env.render()\r\n",
        "    if done:\r\n",
        "        break;"
      ],
      "outputs": [
        {
          "output_type": "stream",
          "name": "stdout",
          "text": "1000.0\n1000.0\n990.0497512437812\n989.61779236453\n989.61779236453\n989.61779236453\n989.61779236453\n989.61779236453\n979.7708491569228\n979.7666260067109\n978.8121940588253\n969.0727692423197\n960.7900960009323\n951.2299955432115\n944.3637609837772\n944.3637609837772\n944.3637609837772\n944.3637609837772\n934.9671066456303\n934.9671066456303\n961.6975642254963\n960.0796790537881\n960.0796790537881\n950.5266474214123\n958.8043297225862\n958.8043297225862\n949.2639881333067\n947.3433066557238\n949.2680921535581\n949.2721961738093\n949.2721961738093\n949.2721961738093\n949.2721961738093\n949.2721961738093\n949.2721961738093\n949.2721961738093\n949.2721961738093\n939.8267016845178\n939.8143194141697\n939.8184468376193\n947.2436816229775\n947.2436816229775\n937.8183713580723\n937.814285003513\n928.4827995805927\n928.4827995805927\n919.2441647588953\n919.240127692019\n919.240127692019\n919.240127692019\n919.240127692019\n919.240127692019\n919.240127692019\n919.240127692019\n910.093459754785\n937.2224118425444\n911.7147279794037\n911.7106849164994\n935.7022201905329\n911.7106849164994\n902.6389368078776\n925.0160296086518\n903.0197041043264\n902.6389368078776\n902.6188964238538\n902.2220968201862\n902.2180887433814\n901.861369907761\n920.2544343646397\n918.2183313478398\n918.2183313478398\n908.6550600917682\n908.6590681685731\n929.5692048588182\n929.573212935623\n929.573212935623\n920.3237282297962\n908.5599037534771\n908.5559535102009\n899.5155957638309\n"
        }
      ],
      "execution_count": 4,
      "metadata": {
        "jupyter": {
          "source_hidden": false,
          "outputs_hidden": false
        },
        "nteract": {
          "transient": {
            "deleting": false
          }
        },
        "gather": {
          "logged": 1642622523465
        }
      }
    }
  ],
  "metadata": {
    "kernelspec": {
      "name": "python3-azureml",
      "language": "python",
      "display_name": "Python 3.6 - AzureML"
    },
    "language_info": {
      "name": "python",
      "version": "3.6.9",
      "mimetype": "text/x-python",
      "codemirror_mode": {
        "name": "ipython",
        "version": 3
      },
      "pygments_lexer": "ipython3",
      "nbconvert_exporter": "python",
      "file_extension": ".py"
    },
    "kernel_info": {
      "name": "python3-azureml"
    },
    "microsoft": {
      "host": {
        "AzureML": {
          "notebookHasBeenCompleted": true
        }
      }
    },
    "nteract": {
      "version": "nteract-front-end@1.0.0"
    }
  },
  "nbformat": 4,
  "nbformat_minor": 2
}