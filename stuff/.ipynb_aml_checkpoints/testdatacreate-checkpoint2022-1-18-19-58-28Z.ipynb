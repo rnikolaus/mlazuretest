{
  "cells": [
    {
      "cell_type": "code",
      "source": [
        "from azureml.core import Dataset\r\n",
        "from azureml.core import Workspace\r\n",
        "import datetime\r\n",
        "\r\n",
        "ws = Workspace.from_config()\r\n",
        "dataset = Dataset.get_by_name(ws, name='BTC-Bitstamp-raw')\r\n",
        "\r\n",
        "df = dataset.to_pandas_dataframe()\r\n",
        "df = df.rename(columns={\"Timestamp\": \"dateid\", \"Close\": \"price\",\"Volume_(BTC)\":\"volume\"})\r\n",
        "\r\n",
        "\r\n",
        "df"
      ],
      "outputs": [
        {
          "output_type": "execute_result",
          "execution_count": 1,
          "data": {
            "text/plain": "             dateid      Open      High       Low     price    volume  \\\n0        1325317920      4.39      4.39      4.39      4.39  0.455581   \n1        1325317980       NaN       NaN       NaN       NaN       NaN   \n2        1325318040       NaN       NaN       NaN       NaN       NaN   \n3        1325318100       NaN       NaN       NaN       NaN       NaN   \n4        1325318160       NaN       NaN       NaN       NaN       NaN   \n...             ...       ...       ...       ...       ...       ...   \n4857372  1617148560  58714.31  58714.31  58686.00  58686.00  1.384487   \n4857373  1617148620  58683.97  58693.43  58683.97  58685.81  7.294848   \n4857374  1617148680  58693.43  58723.84  58693.43  58723.84  1.705682   \n4857375  1617148740  58742.18  58770.38  58742.18  58760.59  0.720415   \n4857376  1617148800  58767.75  58778.18  58755.97  58778.18  2.712831   \n\n         Volume_(Currency)  Weighted_Price  \n0                 2.000000        4.390000  \n1                      NaN             NaN  \n2                      NaN             NaN  \n3                      NaN             NaN  \n4                      NaN             NaN  \n...                    ...             ...  \n4857372       81259.372187    58692.753339  \n4857373      428158.146640    58693.226508  \n4857374      100117.070370    58696.198496  \n4857375       42332.958633    58761.866202  \n4857376      159417.751000    58764.349363  \n\n[4857377 rows x 8 columns]",
            "text/html": "<div>\n<style scoped>\n    .dataframe tbody tr th:only-of-type {\n        vertical-align: middle;\n    }\n\n    .dataframe tbody tr th {\n        vertical-align: top;\n    }\n\n    .dataframe thead th {\n        text-align: right;\n    }\n</style>\n<table border=\"1\" class=\"dataframe\">\n  <thead>\n    <tr style=\"text-align: right;\">\n      <th></th>\n      <th>dateid</th>\n      <th>Open</th>\n      <th>High</th>\n      <th>Low</th>\n      <th>price</th>\n      <th>volume</th>\n      <th>Volume_(Currency)</th>\n      <th>Weighted_Price</th>\n    </tr>\n  </thead>\n  <tbody>\n    <tr>\n      <th>0</th>\n      <td>1325317920</td>\n      <td>4.39</td>\n      <td>4.39</td>\n      <td>4.39</td>\n      <td>4.39</td>\n      <td>0.455581</td>\n      <td>2.000000</td>\n      <td>4.390000</td>\n    </tr>\n    <tr>\n      <th>1</th>\n      <td>1325317980</td>\n      <td>NaN</td>\n      <td>NaN</td>\n      <td>NaN</td>\n      <td>NaN</td>\n      <td>NaN</td>\n      <td>NaN</td>\n      <td>NaN</td>\n    </tr>\n    <tr>\n      <th>2</th>\n      <td>1325318040</td>\n      <td>NaN</td>\n      <td>NaN</td>\n      <td>NaN</td>\n      <td>NaN</td>\n      <td>NaN</td>\n      <td>NaN</td>\n      <td>NaN</td>\n    </tr>\n    <tr>\n      <th>3</th>\n      <td>1325318100</td>\n      <td>NaN</td>\n      <td>NaN</td>\n      <td>NaN</td>\n      <td>NaN</td>\n      <td>NaN</td>\n      <td>NaN</td>\n      <td>NaN</td>\n    </tr>\n    <tr>\n      <th>4</th>\n      <td>1325318160</td>\n      <td>NaN</td>\n      <td>NaN</td>\n      <td>NaN</td>\n      <td>NaN</td>\n      <td>NaN</td>\n      <td>NaN</td>\n      <td>NaN</td>\n    </tr>\n    <tr>\n      <th>...</th>\n      <td>...</td>\n      <td>...</td>\n      <td>...</td>\n      <td>...</td>\n      <td>...</td>\n      <td>...</td>\n      <td>...</td>\n      <td>...</td>\n    </tr>\n    <tr>\n      <th>4857372</th>\n      <td>1617148560</td>\n      <td>58714.31</td>\n      <td>58714.31</td>\n      <td>58686.00</td>\n      <td>58686.00</td>\n      <td>1.384487</td>\n      <td>81259.372187</td>\n      <td>58692.753339</td>\n    </tr>\n    <tr>\n      <th>4857373</th>\n      <td>1617148620</td>\n      <td>58683.97</td>\n      <td>58693.43</td>\n      <td>58683.97</td>\n      <td>58685.81</td>\n      <td>7.294848</td>\n      <td>428158.146640</td>\n      <td>58693.226508</td>\n    </tr>\n    <tr>\n      <th>4857374</th>\n      <td>1617148680</td>\n      <td>58693.43</td>\n      <td>58723.84</td>\n      <td>58693.43</td>\n      <td>58723.84</td>\n      <td>1.705682</td>\n      <td>100117.070370</td>\n      <td>58696.198496</td>\n    </tr>\n    <tr>\n      <th>4857375</th>\n      <td>1617148740</td>\n      <td>58742.18</td>\n      <td>58770.38</td>\n      <td>58742.18</td>\n      <td>58760.59</td>\n      <td>0.720415</td>\n      <td>42332.958633</td>\n      <td>58761.866202</td>\n    </tr>\n    <tr>\n      <th>4857376</th>\n      <td>1617148800</td>\n      <td>58767.75</td>\n      <td>58778.18</td>\n      <td>58755.97</td>\n      <td>58778.18</td>\n      <td>2.712831</td>\n      <td>159417.751000</td>\n      <td>58764.349363</td>\n    </tr>\n  </tbody>\n</table>\n<p>4857377 rows × 8 columns</p>\n</div>"
          },
          "metadata": {}
        }
      ],
      "execution_count": 1,
      "metadata": {
        "gather": {
          "logged": 1645207342495
        }
      }
    },
    {
      "cell_type": "code",
      "source": [
        "dateparse = lambda x: datetime.datetime.utcfromtimestamp(float(x))\r\n",
        "df['date'] = [dateparse(x) for x in df['dateid']]\r\n",
        "df = df.set_index('date')\r\n",
        "del df['dateid']\r\n",
        "df['ask'] = df['price']*1.01\r\n",
        "df['bid'] = df['price']*0.99\r\n",
        "df = df.reindex(columns=['price','ask','bid','volume','High','Low'])\r\n",
        "df"
      ],
      "outputs": [
        {
          "output_type": "execute_result",
          "execution_count": 2,
          "data": {
            "text/plain": "                        price         ask         bid    volume      High  \\\ndate                                                                        \n2011-12-31 07:52:00      4.39      4.4339      4.3461  0.455581      4.39   \n2011-12-31 07:53:00       NaN         NaN         NaN       NaN       NaN   \n2011-12-31 07:54:00       NaN         NaN         NaN       NaN       NaN   \n2011-12-31 07:55:00       NaN         NaN         NaN       NaN       NaN   \n2011-12-31 07:56:00       NaN         NaN         NaN       NaN       NaN   \n...                       ...         ...         ...       ...       ...   \n2021-03-30 23:56:00  58686.00  59272.8600  58099.1400  1.384487  58714.31   \n2021-03-30 23:57:00  58685.81  59272.6681  58098.9519  7.294848  58693.43   \n2021-03-30 23:58:00  58723.84  59311.0784  58136.6016  1.705682  58723.84   \n2021-03-30 23:59:00  58760.59  59348.1959  58172.9841  0.720415  58770.38   \n2021-03-31 00:00:00  58778.18  59365.9618  58190.3982  2.712831  58778.18   \n\n                          Low  \ndate                           \n2011-12-31 07:52:00      4.39  \n2011-12-31 07:53:00       NaN  \n2011-12-31 07:54:00       NaN  \n2011-12-31 07:55:00       NaN  \n2011-12-31 07:56:00       NaN  \n...                       ...  \n2021-03-30 23:56:00  58686.00  \n2021-03-30 23:57:00  58683.97  \n2021-03-30 23:58:00  58693.43  \n2021-03-30 23:59:00  58742.18  \n2021-03-31 00:00:00  58755.97  \n\n[4857377 rows x 6 columns]",
            "text/html": "<div>\n<style scoped>\n    .dataframe tbody tr th:only-of-type {\n        vertical-align: middle;\n    }\n\n    .dataframe tbody tr th {\n        vertical-align: top;\n    }\n\n    .dataframe thead th {\n        text-align: right;\n    }\n</style>\n<table border=\"1\" class=\"dataframe\">\n  <thead>\n    <tr style=\"text-align: right;\">\n      <th></th>\n      <th>price</th>\n      <th>ask</th>\n      <th>bid</th>\n      <th>volume</th>\n      <th>High</th>\n      <th>Low</th>\n    </tr>\n    <tr>\n      <th>date</th>\n      <th></th>\n      <th></th>\n      <th></th>\n      <th></th>\n      <th></th>\n      <th></th>\n    </tr>\n  </thead>\n  <tbody>\n    <tr>\n      <th>2011-12-31 07:52:00</th>\n      <td>4.39</td>\n      <td>4.4339</td>\n      <td>4.3461</td>\n      <td>0.455581</td>\n      <td>4.39</td>\n      <td>4.39</td>\n    </tr>\n    <tr>\n      <th>2011-12-31 07:53:00</th>\n      <td>NaN</td>\n      <td>NaN</td>\n      <td>NaN</td>\n      <td>NaN</td>\n      <td>NaN</td>\n      <td>NaN</td>\n    </tr>\n    <tr>\n      <th>2011-12-31 07:54:00</th>\n      <td>NaN</td>\n      <td>NaN</td>\n      <td>NaN</td>\n      <td>NaN</td>\n      <td>NaN</td>\n      <td>NaN</td>\n    </tr>\n    <tr>\n      <th>2011-12-31 07:55:00</th>\n      <td>NaN</td>\n      <td>NaN</td>\n      <td>NaN</td>\n      <td>NaN</td>\n      <td>NaN</td>\n      <td>NaN</td>\n    </tr>\n    <tr>\n      <th>2011-12-31 07:56:00</th>\n      <td>NaN</td>\n      <td>NaN</td>\n      <td>NaN</td>\n      <td>NaN</td>\n      <td>NaN</td>\n      <td>NaN</td>\n    </tr>\n    <tr>\n      <th>...</th>\n      <td>...</td>\n      <td>...</td>\n      <td>...</td>\n      <td>...</td>\n      <td>...</td>\n      <td>...</td>\n    </tr>\n    <tr>\n      <th>2021-03-30 23:56:00</th>\n      <td>58686.00</td>\n      <td>59272.8600</td>\n      <td>58099.1400</td>\n      <td>1.384487</td>\n      <td>58714.31</td>\n      <td>58686.00</td>\n    </tr>\n    <tr>\n      <th>2021-03-30 23:57:00</th>\n      <td>58685.81</td>\n      <td>59272.6681</td>\n      <td>58098.9519</td>\n      <td>7.294848</td>\n      <td>58693.43</td>\n      <td>58683.97</td>\n    </tr>\n    <tr>\n      <th>2021-03-30 23:58:00</th>\n      <td>58723.84</td>\n      <td>59311.0784</td>\n      <td>58136.6016</td>\n      <td>1.705682</td>\n      <td>58723.84</td>\n      <td>58693.43</td>\n    </tr>\n    <tr>\n      <th>2021-03-30 23:59:00</th>\n      <td>58760.59</td>\n      <td>59348.1959</td>\n      <td>58172.9841</td>\n      <td>0.720415</td>\n      <td>58770.38</td>\n      <td>58742.18</td>\n    </tr>\n    <tr>\n      <th>2021-03-31 00:00:00</th>\n      <td>58778.18</td>\n      <td>59365.9618</td>\n      <td>58190.3982</td>\n      <td>2.712831</td>\n      <td>58778.18</td>\n      <td>58755.97</td>\n    </tr>\n  </tbody>\n</table>\n<p>4857377 rows × 6 columns</p>\n</div>"
          },
          "metadata": {}
        }
      ],
      "execution_count": 2,
      "metadata": {
        "jupyter": {
          "source_hidden": false,
          "outputs_hidden": false
        },
        "nteract": {
          "transient": {
            "deleting": false
          }
        },
        "gather": {
          "logged": 1645207347739
        }
      }
    },
    {
      "cell_type": "code",
      "source": [
        "#df = df.dropna()\r\n",
        "\r\n",
        "def addMa(timeframe):\r\n",
        "    p=df['price']\r\n",
        "    val =(p/p.rolling(timeframe).mean())-1\r\n",
        "    df['ma'+timeframe] =val\r\n",
        "\r\n",
        "def addMinMax(timeframe):\r\n",
        "    p=df['price']\r\n",
        "   \r\n",
        "    mins = df['Low'].rolling(timeframe).min()\r\n",
        "    df['maxmin'+timeframe]=(p - mins)/(df['High'].rolling(timeframe).max() - mins) \r\n",
        "    \r\n",
        "\r\n",
        "def addBol(timeframe):\r\n",
        "    p=df['price']\r\n",
        "    val =(p/p.rolling(timeframe).mean())-1\r\n",
        "    df['bol'+timeframe] = (val/p.rolling(timeframe).std()).clip(-3,3)\r\n",
        "\r\n",
        "addMa('5min')\r\n",
        "addMa('1h')\r\n",
        "addMa('10D')\r\n",
        "addBol('20D')\r\n",
        "addMinMax('1D')\r\n",
        "\r\n",
        "\r\n",
        "df = df.dropna()\r\n",
        "\r\n",
        "    \r\n",
        "del df['High']\r\n",
        "del df['Low']\r\n",
        "\r\n",
        "df"
      ],
      "outputs": [
        {
          "output_type": "execute_result",
          "execution_count": 3,
          "data": {
            "text/plain": "                        price         ask         bid     volume    ma5min  \\\ndate                                                                         \n2011-12-31 16:59:00      4.57      4.6157      4.5243  37.862297  0.000000   \n2011-12-31 17:00:00      4.58      4.6258      4.5342   9.000000  0.001093   \n2012-01-01 04:16:00      4.58      4.6258      4.5342   1.502000  0.000000   \n2012-01-01 15:28:00      4.84      4.8884      4.7916  10.000000  0.000000   \n2012-01-01 22:45:00      5.00      5.0500      4.9500  10.100000  0.000000   \n...                       ...         ...         ...        ...       ...   \n2021-03-30 23:56:00  58686.00  59272.8600  58099.1400   1.384487 -0.000404   \n2021-03-30 23:57:00  58685.81  59272.6681  58098.9519   7.294848 -0.000325   \n2021-03-30 23:58:00  58723.84  59311.0784  58136.6016   1.705682  0.000236   \n2021-03-30 23:59:00  58760.59  59348.1959  58172.9841   0.720415  0.000792   \n2021-03-31 00:00:00  58778.18  59365.9618  58190.3982   2.712831  0.000873   \n\n                         ma1h     ma10D    bol20D  maxmin1D  \ndate                                                         \n2011-12-31 16:59:00  0.000000  0.026966  0.259483  1.000000  \n2011-12-31 17:00:00  0.001093  0.021751  0.203496  1.000000  \n2012-01-01 04:16:00  0.000000  0.017326  0.169323  1.000000  \n2012-01-01 15:28:00  0.000000  0.061792  0.373183  1.000000  \n2012-01-01 22:45:00  0.000000  0.081917  0.363753  1.000000  \n...                       ...       ...       ...       ...  \n2021-03-30 23:56:00  0.000310  0.056279  0.000017  0.704474  \n2021-03-30 23:57:00  0.000313  0.056275  0.000017  0.704394  \n2021-03-30 23:58:00  0.000956  0.056959  0.000017  0.720389  \n2021-03-30 23:59:00  0.001567  0.057619  0.000017  0.735845  \n2021-03-31 00:00:00  0.001832  0.057935  0.000018  0.743243  \n\n[3613758 rows x 9 columns]",
            "text/html": "<div>\n<style scoped>\n    .dataframe tbody tr th:only-of-type {\n        vertical-align: middle;\n    }\n\n    .dataframe tbody tr th {\n        vertical-align: top;\n    }\n\n    .dataframe thead th {\n        text-align: right;\n    }\n</style>\n<table border=\"1\" class=\"dataframe\">\n  <thead>\n    <tr style=\"text-align: right;\">\n      <th></th>\n      <th>price</th>\n      <th>ask</th>\n      <th>bid</th>\n      <th>volume</th>\n      <th>ma5min</th>\n      <th>ma1h</th>\n      <th>ma10D</th>\n      <th>bol20D</th>\n      <th>maxmin1D</th>\n    </tr>\n    <tr>\n      <th>date</th>\n      <th></th>\n      <th></th>\n      <th></th>\n      <th></th>\n      <th></th>\n      <th></th>\n      <th></th>\n      <th></th>\n      <th></th>\n    </tr>\n  </thead>\n  <tbody>\n    <tr>\n      <th>2011-12-31 16:59:00</th>\n      <td>4.57</td>\n      <td>4.6157</td>\n      <td>4.5243</td>\n      <td>37.862297</td>\n      <td>0.000000</td>\n      <td>0.000000</td>\n      <td>0.026966</td>\n      <td>0.259483</td>\n      <td>1.000000</td>\n    </tr>\n    <tr>\n      <th>2011-12-31 17:00:00</th>\n      <td>4.58</td>\n      <td>4.6258</td>\n      <td>4.5342</td>\n      <td>9.000000</td>\n      <td>0.001093</td>\n      <td>0.001093</td>\n      <td>0.021751</td>\n      <td>0.203496</td>\n      <td>1.000000</td>\n    </tr>\n    <tr>\n      <th>2012-01-01 04:16:00</th>\n      <td>4.58</td>\n      <td>4.6258</td>\n      <td>4.5342</td>\n      <td>1.502000</td>\n      <td>0.000000</td>\n      <td>0.000000</td>\n      <td>0.017326</td>\n      <td>0.169323</td>\n      <td>1.000000</td>\n    </tr>\n    <tr>\n      <th>2012-01-01 15:28:00</th>\n      <td>4.84</td>\n      <td>4.8884</td>\n      <td>4.7916</td>\n      <td>10.000000</td>\n      <td>0.000000</td>\n      <td>0.000000</td>\n      <td>0.061792</td>\n      <td>0.373183</td>\n      <td>1.000000</td>\n    </tr>\n    <tr>\n      <th>2012-01-01 22:45:00</th>\n      <td>5.00</td>\n      <td>5.0500</td>\n      <td>4.9500</td>\n      <td>10.100000</td>\n      <td>0.000000</td>\n      <td>0.000000</td>\n      <td>0.081917</td>\n      <td>0.363753</td>\n      <td>1.000000</td>\n    </tr>\n    <tr>\n      <th>...</th>\n      <td>...</td>\n      <td>...</td>\n      <td>...</td>\n      <td>...</td>\n      <td>...</td>\n      <td>...</td>\n      <td>...</td>\n      <td>...</td>\n      <td>...</td>\n    </tr>\n    <tr>\n      <th>2021-03-30 23:56:00</th>\n      <td>58686.00</td>\n      <td>59272.8600</td>\n      <td>58099.1400</td>\n      <td>1.384487</td>\n      <td>-0.000404</td>\n      <td>0.000310</td>\n      <td>0.056279</td>\n      <td>0.000017</td>\n      <td>0.704474</td>\n    </tr>\n    <tr>\n      <th>2021-03-30 23:57:00</th>\n      <td>58685.81</td>\n      <td>59272.6681</td>\n      <td>58098.9519</td>\n      <td>7.294848</td>\n      <td>-0.000325</td>\n      <td>0.000313</td>\n      <td>0.056275</td>\n      <td>0.000017</td>\n      <td>0.704394</td>\n    </tr>\n    <tr>\n      <th>2021-03-30 23:58:00</th>\n      <td>58723.84</td>\n      <td>59311.0784</td>\n      <td>58136.6016</td>\n      <td>1.705682</td>\n      <td>0.000236</td>\n      <td>0.000956</td>\n      <td>0.056959</td>\n      <td>0.000017</td>\n      <td>0.720389</td>\n    </tr>\n    <tr>\n      <th>2021-03-30 23:59:00</th>\n      <td>58760.59</td>\n      <td>59348.1959</td>\n      <td>58172.9841</td>\n      <td>0.720415</td>\n      <td>0.000792</td>\n      <td>0.001567</td>\n      <td>0.057619</td>\n      <td>0.000017</td>\n      <td>0.735845</td>\n    </tr>\n    <tr>\n      <th>2021-03-31 00:00:00</th>\n      <td>58778.18</td>\n      <td>59365.9618</td>\n      <td>58190.3982</td>\n      <td>2.712831</td>\n      <td>0.000873</td>\n      <td>0.001832</td>\n      <td>0.057935</td>\n      <td>0.000018</td>\n      <td>0.743243</td>\n    </tr>\n  </tbody>\n</table>\n<p>3613758 rows × 9 columns</p>\n</div>"
          },
          "metadata": {}
        }
      ],
      "execution_count": 3,
      "metadata": {
        "jupyter": {
          "source_hidden": false,
          "outputs_hidden": false
        },
        "nteract": {
          "transient": {
            "deleting": false
          }
        },
        "gather": {
          "logged": 1645207351998
        }
      }
    },
    {
      "cell_type": "code",
      "source": [
        "df['bol15min'].max()"
      ],
      "outputs": [
        {
          "output_type": "error",
          "ename": "KeyError",
          "evalue": "'bol15min'",
          "traceback": [
            "\u001b[0;31m---------------------------------------------------------------------------\u001b[0m",
            "\u001b[0;31mKeyError\u001b[0m                                  Traceback (most recent call last)",
            "\u001b[0;32m/anaconda/envs/azureml_py36/lib/python3.6/site-packages/pandas/core/indexes/base.py\u001b[0m in \u001b[0;36mget_loc\u001b[0;34m(self, key, method, tolerance)\u001b[0m\n\u001b[1;32m   2896\u001b[0m             \u001b[0;32mtry\u001b[0m\u001b[0;34m:\u001b[0m\u001b[0;34m\u001b[0m\u001b[0;34m\u001b[0m\u001b[0m\n\u001b[0;32m-> 2897\u001b[0;31m                 \u001b[0;32mreturn\u001b[0m \u001b[0mself\u001b[0m\u001b[0;34m.\u001b[0m\u001b[0m_engine\u001b[0m\u001b[0;34m.\u001b[0m\u001b[0mget_loc\u001b[0m\u001b[0;34m(\u001b[0m\u001b[0mkey\u001b[0m\u001b[0;34m)\u001b[0m\u001b[0;34m\u001b[0m\u001b[0;34m\u001b[0m\u001b[0m\n\u001b[0m\u001b[1;32m   2898\u001b[0m             \u001b[0;32mexcept\u001b[0m \u001b[0mKeyError\u001b[0m\u001b[0;34m:\u001b[0m\u001b[0;34m\u001b[0m\u001b[0;34m\u001b[0m\u001b[0m\n",
            "\u001b[0;32mpandas/_libs/index.pyx\u001b[0m in \u001b[0;36mpandas._libs.index.IndexEngine.get_loc\u001b[0;34m()\u001b[0m\n",
            "\u001b[0;32mpandas/_libs/index.pyx\u001b[0m in \u001b[0;36mpandas._libs.index.IndexEngine.get_loc\u001b[0;34m()\u001b[0m\n",
            "\u001b[0;32mpandas/_libs/hashtable_class_helper.pxi\u001b[0m in \u001b[0;36mpandas._libs.hashtable.PyObjectHashTable.get_item\u001b[0;34m()\u001b[0m\n",
            "\u001b[0;32mpandas/_libs/hashtable_class_helper.pxi\u001b[0m in \u001b[0;36mpandas._libs.hashtable.PyObjectHashTable.get_item\u001b[0;34m()\u001b[0m\n",
            "\u001b[0;31mKeyError\u001b[0m: 'bol15min'",
            "\nDuring handling of the above exception, another exception occurred:\n",
            "\u001b[0;31mKeyError\u001b[0m                                  Traceback (most recent call last)",
            "\u001b[0;32m<ipython-input-4-801ff0b87072>\u001b[0m in \u001b[0;36m<module>\u001b[0;34m\u001b[0m\n\u001b[0;32m----> 1\u001b[0;31m \u001b[0mdf\u001b[0m\u001b[0;34m[\u001b[0m\u001b[0;34m'bol15min'\u001b[0m\u001b[0;34m]\u001b[0m\u001b[0;34m.\u001b[0m\u001b[0mmax\u001b[0m\u001b[0;34m(\u001b[0m\u001b[0;34m)\u001b[0m\u001b[0;34m\u001b[0m\u001b[0;34m\u001b[0m\u001b[0m\n\u001b[0m",
            "\u001b[0;32m/anaconda/envs/azureml_py36/lib/python3.6/site-packages/pandas/core/frame.py\u001b[0m in \u001b[0;36m__getitem__\u001b[0;34m(self, key)\u001b[0m\n\u001b[1;32m   2993\u001b[0m             \u001b[0;32mif\u001b[0m \u001b[0mself\u001b[0m\u001b[0;34m.\u001b[0m\u001b[0mcolumns\u001b[0m\u001b[0;34m.\u001b[0m\u001b[0mnlevels\u001b[0m \u001b[0;34m>\u001b[0m \u001b[0;36m1\u001b[0m\u001b[0;34m:\u001b[0m\u001b[0;34m\u001b[0m\u001b[0;34m\u001b[0m\u001b[0m\n\u001b[1;32m   2994\u001b[0m                 \u001b[0;32mreturn\u001b[0m \u001b[0mself\u001b[0m\u001b[0;34m.\u001b[0m\u001b[0m_getitem_multilevel\u001b[0m\u001b[0;34m(\u001b[0m\u001b[0mkey\u001b[0m\u001b[0;34m)\u001b[0m\u001b[0;34m\u001b[0m\u001b[0;34m\u001b[0m\u001b[0m\n\u001b[0;32m-> 2995\u001b[0;31m             \u001b[0mindexer\u001b[0m \u001b[0;34m=\u001b[0m \u001b[0mself\u001b[0m\u001b[0;34m.\u001b[0m\u001b[0mcolumns\u001b[0m\u001b[0;34m.\u001b[0m\u001b[0mget_loc\u001b[0m\u001b[0;34m(\u001b[0m\u001b[0mkey\u001b[0m\u001b[0;34m)\u001b[0m\u001b[0;34m\u001b[0m\u001b[0;34m\u001b[0m\u001b[0m\n\u001b[0m\u001b[1;32m   2996\u001b[0m             \u001b[0;32mif\u001b[0m \u001b[0mis_integer\u001b[0m\u001b[0;34m(\u001b[0m\u001b[0mindexer\u001b[0m\u001b[0;34m)\u001b[0m\u001b[0;34m:\u001b[0m\u001b[0;34m\u001b[0m\u001b[0;34m\u001b[0m\u001b[0m\n\u001b[1;32m   2997\u001b[0m                 \u001b[0mindexer\u001b[0m \u001b[0;34m=\u001b[0m \u001b[0;34m[\u001b[0m\u001b[0mindexer\u001b[0m\u001b[0;34m]\u001b[0m\u001b[0;34m\u001b[0m\u001b[0;34m\u001b[0m\u001b[0m\n",
            "\u001b[0;32m/anaconda/envs/azureml_py36/lib/python3.6/site-packages/pandas/core/indexes/base.py\u001b[0m in \u001b[0;36mget_loc\u001b[0;34m(self, key, method, tolerance)\u001b[0m\n\u001b[1;32m   2897\u001b[0m                 \u001b[0;32mreturn\u001b[0m \u001b[0mself\u001b[0m\u001b[0;34m.\u001b[0m\u001b[0m_engine\u001b[0m\u001b[0;34m.\u001b[0m\u001b[0mget_loc\u001b[0m\u001b[0;34m(\u001b[0m\u001b[0mkey\u001b[0m\u001b[0;34m)\u001b[0m\u001b[0;34m\u001b[0m\u001b[0;34m\u001b[0m\u001b[0m\n\u001b[1;32m   2898\u001b[0m             \u001b[0;32mexcept\u001b[0m \u001b[0mKeyError\u001b[0m\u001b[0;34m:\u001b[0m\u001b[0;34m\u001b[0m\u001b[0;34m\u001b[0m\u001b[0m\n\u001b[0;32m-> 2899\u001b[0;31m                 \u001b[0;32mreturn\u001b[0m \u001b[0mself\u001b[0m\u001b[0;34m.\u001b[0m\u001b[0m_engine\u001b[0m\u001b[0;34m.\u001b[0m\u001b[0mget_loc\u001b[0m\u001b[0;34m(\u001b[0m\u001b[0mself\u001b[0m\u001b[0;34m.\u001b[0m\u001b[0m_maybe_cast_indexer\u001b[0m\u001b[0;34m(\u001b[0m\u001b[0mkey\u001b[0m\u001b[0;34m)\u001b[0m\u001b[0;34m)\u001b[0m\u001b[0;34m\u001b[0m\u001b[0;34m\u001b[0m\u001b[0m\n\u001b[0m\u001b[1;32m   2900\u001b[0m         \u001b[0mindexer\u001b[0m \u001b[0;34m=\u001b[0m \u001b[0mself\u001b[0m\u001b[0;34m.\u001b[0m\u001b[0mget_indexer\u001b[0m\u001b[0;34m(\u001b[0m\u001b[0;34m[\u001b[0m\u001b[0mkey\u001b[0m\u001b[0;34m]\u001b[0m\u001b[0;34m,\u001b[0m \u001b[0mmethod\u001b[0m\u001b[0;34m=\u001b[0m\u001b[0mmethod\u001b[0m\u001b[0;34m,\u001b[0m \u001b[0mtolerance\u001b[0m\u001b[0;34m=\u001b[0m\u001b[0mtolerance\u001b[0m\u001b[0;34m)\u001b[0m\u001b[0;34m\u001b[0m\u001b[0;34m\u001b[0m\u001b[0m\n\u001b[1;32m   2901\u001b[0m         \u001b[0;32mif\u001b[0m \u001b[0mindexer\u001b[0m\u001b[0;34m.\u001b[0m\u001b[0mndim\u001b[0m \u001b[0;34m>\u001b[0m \u001b[0;36m1\u001b[0m \u001b[0;32mor\u001b[0m \u001b[0mindexer\u001b[0m\u001b[0;34m.\u001b[0m\u001b[0msize\u001b[0m \u001b[0;34m>\u001b[0m \u001b[0;36m1\u001b[0m\u001b[0;34m:\u001b[0m\u001b[0;34m\u001b[0m\u001b[0;34m\u001b[0m\u001b[0m\n",
            "\u001b[0;32mpandas/_libs/index.pyx\u001b[0m in \u001b[0;36mpandas._libs.index.IndexEngine.get_loc\u001b[0;34m()\u001b[0m\n",
            "\u001b[0;32mpandas/_libs/index.pyx\u001b[0m in \u001b[0;36mpandas._libs.index.IndexEngine.get_loc\u001b[0;34m()\u001b[0m\n",
            "\u001b[0;32mpandas/_libs/hashtable_class_helper.pxi\u001b[0m in \u001b[0;36mpandas._libs.hashtable.PyObjectHashTable.get_item\u001b[0;34m()\u001b[0m\n",
            "\u001b[0;32mpandas/_libs/hashtable_class_helper.pxi\u001b[0m in \u001b[0;36mpandas._libs.hashtable.PyObjectHashTable.get_item\u001b[0;34m()\u001b[0m\n",
            "\u001b[0;31mKeyError\u001b[0m: 'bol15min'"
          ]
        }
      ],
      "execution_count": 4,
      "metadata": {
        "jupyter": {
          "source_hidden": false,
          "outputs_hidden": false
        },
        "nteract": {
          "transient": {
            "deleting": false
          }
        },
        "gather": {
          "logged": 1645127292356
        }
      }
    }
  ],
  "metadata": {
    "kernelspec": {
      "name": "python3-azureml",
      "language": "python",
      "display_name": "Python 3.6 - AzureML"
    },
    "language_info": {
      "name": "python",
      "version": "3.6.9",
      "mimetype": "text/x-python",
      "codemirror_mode": {
        "name": "ipython",
        "version": 3
      },
      "pygments_lexer": "ipython3",
      "nbconvert_exporter": "python",
      "file_extension": ".py"
    },
    "kernel_info": {
      "name": "python3-azureml"
    },
    "microsoft": {
      "host": {
        "AzureML": {
          "notebookHasBeenCompleted": true
        }
      }
    },
    "nteract": {
      "version": "nteract-front-end@1.0.0"
    }
  },
  "nbformat": 4,
  "nbformat_minor": 2
}