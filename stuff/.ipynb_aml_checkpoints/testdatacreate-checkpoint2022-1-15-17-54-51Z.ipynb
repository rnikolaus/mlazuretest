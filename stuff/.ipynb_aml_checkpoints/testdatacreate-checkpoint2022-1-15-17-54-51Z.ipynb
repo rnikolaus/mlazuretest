{
  "cells": [
    {
      "cell_type": "code",
      "source": [
        "from azureml.core import Dataset\r\n",
        "from azureml.core import Workspace\r\n",
        "import datetime\r\n",
        "\r\n",
        "ws = Workspace.from_config()\r\n",
        "dataset = Dataset.get_by_name(ws, name='BTC-Bitstamp-raw')\r\n",
        "\r\n",
        "df = dataset.to_pandas_dataframe()\r\n",
        "df = df.rename(columns={\"Timestamp\": \"dateid\", \"Close\": \"price\",\"Volume_(BTC)\":\"volume\"})\r\n",
        "\r\n",
        "\r\n",
        "df"
      ],
      "outputs": [
        {
          "output_type": "execute_result",
          "execution_count": 12,
          "data": {
            "text/plain": "             dateid      Open      High       Low     price    volume  \\\n0        1325317920      4.39      4.39      4.39      4.39  0.455581   \n1        1325317980       NaN       NaN       NaN       NaN       NaN   \n2        1325318040       NaN       NaN       NaN       NaN       NaN   \n3        1325318100       NaN       NaN       NaN       NaN       NaN   \n4        1325318160       NaN       NaN       NaN       NaN       NaN   \n...             ...       ...       ...       ...       ...       ...   \n4857372  1617148560  58714.31  58714.31  58686.00  58686.00  1.384487   \n4857373  1617148620  58683.97  58693.43  58683.97  58685.81  7.294848   \n4857374  1617148680  58693.43  58723.84  58693.43  58723.84  1.705682   \n4857375  1617148740  58742.18  58770.38  58742.18  58760.59  0.720415   \n4857376  1617148800  58767.75  58778.18  58755.97  58778.18  2.712831   \n\n         Volume_(Currency)  Weighted_Price  \n0                 2.000000        4.390000  \n1                      NaN             NaN  \n2                      NaN             NaN  \n3                      NaN             NaN  \n4                      NaN             NaN  \n...                    ...             ...  \n4857372       81259.372187    58692.753339  \n4857373      428158.146640    58693.226508  \n4857374      100117.070370    58696.198496  \n4857375       42332.958633    58761.866202  \n4857376      159417.751000    58764.349363  \n\n[4857377 rows x 8 columns]",
            "text/html": "<div>\n<style scoped>\n    .dataframe tbody tr th:only-of-type {\n        vertical-align: middle;\n    }\n\n    .dataframe tbody tr th {\n        vertical-align: top;\n    }\n\n    .dataframe thead th {\n        text-align: right;\n    }\n</style>\n<table border=\"1\" class=\"dataframe\">\n  <thead>\n    <tr style=\"text-align: right;\">\n      <th></th>\n      <th>dateid</th>\n      <th>Open</th>\n      <th>High</th>\n      <th>Low</th>\n      <th>price</th>\n      <th>volume</th>\n      <th>Volume_(Currency)</th>\n      <th>Weighted_Price</th>\n    </tr>\n  </thead>\n  <tbody>\n    <tr>\n      <th>0</th>\n      <td>1325317920</td>\n      <td>4.39</td>\n      <td>4.39</td>\n      <td>4.39</td>\n      <td>4.39</td>\n      <td>0.455581</td>\n      <td>2.000000</td>\n      <td>4.390000</td>\n    </tr>\n    <tr>\n      <th>1</th>\n      <td>1325317980</td>\n      <td>NaN</td>\n      <td>NaN</td>\n      <td>NaN</td>\n      <td>NaN</td>\n      <td>NaN</td>\n      <td>NaN</td>\n      <td>NaN</td>\n    </tr>\n    <tr>\n      <th>2</th>\n      <td>1325318040</td>\n      <td>NaN</td>\n      <td>NaN</td>\n      <td>NaN</td>\n      <td>NaN</td>\n      <td>NaN</td>\n      <td>NaN</td>\n      <td>NaN</td>\n    </tr>\n    <tr>\n      <th>3</th>\n      <td>1325318100</td>\n      <td>NaN</td>\n      <td>NaN</td>\n      <td>NaN</td>\n      <td>NaN</td>\n      <td>NaN</td>\n      <td>NaN</td>\n      <td>NaN</td>\n    </tr>\n    <tr>\n      <th>4</th>\n      <td>1325318160</td>\n      <td>NaN</td>\n      <td>NaN</td>\n      <td>NaN</td>\n      <td>NaN</td>\n      <td>NaN</td>\n      <td>NaN</td>\n      <td>NaN</td>\n    </tr>\n    <tr>\n      <th>...</th>\n      <td>...</td>\n      <td>...</td>\n      <td>...</td>\n      <td>...</td>\n      <td>...</td>\n      <td>...</td>\n      <td>...</td>\n      <td>...</td>\n    </tr>\n    <tr>\n      <th>4857372</th>\n      <td>1617148560</td>\n      <td>58714.31</td>\n      <td>58714.31</td>\n      <td>58686.00</td>\n      <td>58686.00</td>\n      <td>1.384487</td>\n      <td>81259.372187</td>\n      <td>58692.753339</td>\n    </tr>\n    <tr>\n      <th>4857373</th>\n      <td>1617148620</td>\n      <td>58683.97</td>\n      <td>58693.43</td>\n      <td>58683.97</td>\n      <td>58685.81</td>\n      <td>7.294848</td>\n      <td>428158.146640</td>\n      <td>58693.226508</td>\n    </tr>\n    <tr>\n      <th>4857374</th>\n      <td>1617148680</td>\n      <td>58693.43</td>\n      <td>58723.84</td>\n      <td>58693.43</td>\n      <td>58723.84</td>\n      <td>1.705682</td>\n      <td>100117.070370</td>\n      <td>58696.198496</td>\n    </tr>\n    <tr>\n      <th>4857375</th>\n      <td>1617148740</td>\n      <td>58742.18</td>\n      <td>58770.38</td>\n      <td>58742.18</td>\n      <td>58760.59</td>\n      <td>0.720415</td>\n      <td>42332.958633</td>\n      <td>58761.866202</td>\n    </tr>\n    <tr>\n      <th>4857376</th>\n      <td>1617148800</td>\n      <td>58767.75</td>\n      <td>58778.18</td>\n      <td>58755.97</td>\n      <td>58778.18</td>\n      <td>2.712831</td>\n      <td>159417.751000</td>\n      <td>58764.349363</td>\n    </tr>\n  </tbody>\n</table>\n<p>4857377 rows × 8 columns</p>\n</div>"
          },
          "metadata": {}
        }
      ],
      "execution_count": 12,
      "metadata": {
        "gather": {
          "logged": 1644171682206
        }
      }
    },
    {
      "cell_type": "code",
      "source": [
        "dateparse = lambda x: datetime.datetime.utcfromtimestamp(float(x))\r\n",
        "df['date'] = [dateparse(x) for x in df['dateid']]\r\n",
        "df = df.set_index('date')\r\n",
        "del df['dateid']\r\n",
        "df['ask'] = df['price']*1.01\r\n",
        "df['bid'] = df['price']*0.99\r\n",
        "df = df.reindex(columns=['price','ask','bid','volume','High','Low'])\r\n",
        "df"
      ],
      "outputs": [
        {
          "output_type": "execute_result",
          "execution_count": 13,
          "data": {
            "text/plain": "                        price         ask         bid    volume      High  \\\ndate                                                                        \n2011-12-31 07:52:00      4.39      4.4339      4.3461  0.455581      4.39   \n2011-12-31 07:53:00       NaN         NaN         NaN       NaN       NaN   \n2011-12-31 07:54:00       NaN         NaN         NaN       NaN       NaN   \n2011-12-31 07:55:00       NaN         NaN         NaN       NaN       NaN   \n2011-12-31 07:56:00       NaN         NaN         NaN       NaN       NaN   \n...                       ...         ...         ...       ...       ...   \n2021-03-30 23:56:00  58686.00  59272.8600  58099.1400  1.384487  58714.31   \n2021-03-30 23:57:00  58685.81  59272.6681  58098.9519  7.294848  58693.43   \n2021-03-30 23:58:00  58723.84  59311.0784  58136.6016  1.705682  58723.84   \n2021-03-30 23:59:00  58760.59  59348.1959  58172.9841  0.720415  58770.38   \n2021-03-31 00:00:00  58778.18  59365.9618  58190.3982  2.712831  58778.18   \n\n                          Low  \ndate                           \n2011-12-31 07:52:00      4.39  \n2011-12-31 07:53:00       NaN  \n2011-12-31 07:54:00       NaN  \n2011-12-31 07:55:00       NaN  \n2011-12-31 07:56:00       NaN  \n...                       ...  \n2021-03-30 23:56:00  58686.00  \n2021-03-30 23:57:00  58683.97  \n2021-03-30 23:58:00  58693.43  \n2021-03-30 23:59:00  58742.18  \n2021-03-31 00:00:00  58755.97  \n\n[4857377 rows x 6 columns]",
            "text/html": "<div>\n<style scoped>\n    .dataframe tbody tr th:only-of-type {\n        vertical-align: middle;\n    }\n\n    .dataframe tbody tr th {\n        vertical-align: top;\n    }\n\n    .dataframe thead th {\n        text-align: right;\n    }\n</style>\n<table border=\"1\" class=\"dataframe\">\n  <thead>\n    <tr style=\"text-align: right;\">\n      <th></th>\n      <th>price</th>\n      <th>ask</th>\n      <th>bid</th>\n      <th>volume</th>\n      <th>High</th>\n      <th>Low</th>\n    </tr>\n    <tr>\n      <th>date</th>\n      <th></th>\n      <th></th>\n      <th></th>\n      <th></th>\n      <th></th>\n      <th></th>\n    </tr>\n  </thead>\n  <tbody>\n    <tr>\n      <th>2011-12-31 07:52:00</th>\n      <td>4.39</td>\n      <td>4.4339</td>\n      <td>4.3461</td>\n      <td>0.455581</td>\n      <td>4.39</td>\n      <td>4.39</td>\n    </tr>\n    <tr>\n      <th>2011-12-31 07:53:00</th>\n      <td>NaN</td>\n      <td>NaN</td>\n      <td>NaN</td>\n      <td>NaN</td>\n      <td>NaN</td>\n      <td>NaN</td>\n    </tr>\n    <tr>\n      <th>2011-12-31 07:54:00</th>\n      <td>NaN</td>\n      <td>NaN</td>\n      <td>NaN</td>\n      <td>NaN</td>\n      <td>NaN</td>\n      <td>NaN</td>\n    </tr>\n    <tr>\n      <th>2011-12-31 07:55:00</th>\n      <td>NaN</td>\n      <td>NaN</td>\n      <td>NaN</td>\n      <td>NaN</td>\n      <td>NaN</td>\n      <td>NaN</td>\n    </tr>\n    <tr>\n      <th>2011-12-31 07:56:00</th>\n      <td>NaN</td>\n      <td>NaN</td>\n      <td>NaN</td>\n      <td>NaN</td>\n      <td>NaN</td>\n      <td>NaN</td>\n    </tr>\n    <tr>\n      <th>...</th>\n      <td>...</td>\n      <td>...</td>\n      <td>...</td>\n      <td>...</td>\n      <td>...</td>\n      <td>...</td>\n    </tr>\n    <tr>\n      <th>2021-03-30 23:56:00</th>\n      <td>58686.00</td>\n      <td>59272.8600</td>\n      <td>58099.1400</td>\n      <td>1.384487</td>\n      <td>58714.31</td>\n      <td>58686.00</td>\n    </tr>\n    <tr>\n      <th>2021-03-30 23:57:00</th>\n      <td>58685.81</td>\n      <td>59272.6681</td>\n      <td>58098.9519</td>\n      <td>7.294848</td>\n      <td>58693.43</td>\n      <td>58683.97</td>\n    </tr>\n    <tr>\n      <th>2021-03-30 23:58:00</th>\n      <td>58723.84</td>\n      <td>59311.0784</td>\n      <td>58136.6016</td>\n      <td>1.705682</td>\n      <td>58723.84</td>\n      <td>58693.43</td>\n    </tr>\n    <tr>\n      <th>2021-03-30 23:59:00</th>\n      <td>58760.59</td>\n      <td>59348.1959</td>\n      <td>58172.9841</td>\n      <td>0.720415</td>\n      <td>58770.38</td>\n      <td>58742.18</td>\n    </tr>\n    <tr>\n      <th>2021-03-31 00:00:00</th>\n      <td>58778.18</td>\n      <td>59365.9618</td>\n      <td>58190.3982</td>\n      <td>2.712831</td>\n      <td>58778.18</td>\n      <td>58755.97</td>\n    </tr>\n  </tbody>\n</table>\n<p>4857377 rows × 6 columns</p>\n</div>"
          },
          "metadata": {}
        }
      ],
      "execution_count": 13,
      "metadata": {
        "jupyter": {
          "source_hidden": false,
          "outputs_hidden": false
        },
        "nteract": {
          "transient": {
            "deleting": false
          }
        },
        "gather": {
          "logged": 1644171693086
        }
      }
    },
    {
      "cell_type": "code",
      "source": [
        "df = df.dropna()\r\n",
        " #df['prev'] = df['price'].rolling(2).apply(lambda x: (x[1]/x[0])-1 ,raw=True)\r\n",
        "    \r\n",
        "#df['ma100']=df['price']/df['price'].rolling(10).mean()-1\r\n",
        "df['ma10001']=df['price']/df['price'].rolling('15min').mean()-1\r\n",
        "#df['ma10002']=df['price']/df['price'].rolling('60s').max()-1\r\n",
        "#df['ma10003']=df['price']/df['price'].rolling('60s').min()-1\r\n",
        "\r\n",
        "df['ma1000x1']=df['price']/df['price'].rolling('1h').mean()-1\r\n",
        "df['ma1000x2']=df['price']/df['High'].rolling('1h').max()-1\r\n",
        "df['ma1000x3']=df['price']/df['Low'].rolling('1h').min()-1\r\n",
        "df['ma1000x4'] = df['ma1000x1'] / df['price'].rolling('1h').std()\r\n",
        "\r\n",
        "df['ma1000y1']=df['price']/df['price'].rolling('10h').mean()-1\r\n",
        "    #df['ma1000y2']=df['price']/df['price'].rolling('10h').max()-1\r\n",
        "    #df['ma1000y3']=df['price']/df['price'].rolling('10h').min()-1\r\n",
        "\r\n",
        "df['ma100001']=df['price']/df['price'].rolling('1D').mean()-1\r\n",
        "    #df['ma100002']=df['price']/df['price'].rolling('1D').max()-1\r\n",
        "    #df['ma100003']=df['price']/df['price'].rolling('1D').min()-1\r\n",
        "df['ma100004'] = df['ma100001'] / df['price'].rolling('1D').std()\r\n",
        "df['ma1']=df['price']/df['price'].rolling('10D').mean()-1\r\n",
        "    #df['ma2']=df['price']/df['price'].rolling('10D').max()-1\r\n",
        "    #df['ma3']=df['price']/df['price'].rolling('10D').min()-1\r\n",
        "df['ma4'] = df['ma1'] / df['price'].rolling('10D').std()\r\n",
        "df['mafff1']=df['price']/df['price'].rolling('20D').mean()-1\r\n",
        "df['mafff2']=df['price']/df['High'].rolling('20D').max()-1\r\n",
        "df['mafff3']=df['price']/df['Low'].rolling('20D').min()-1\r\n",
        "df['mafff4'] = df['mafff1'] / df['price'].rolling('20D').std()\r\n",
        "df = df.dropna()\r\n",
        "\r\n",
        "    \r\n",
        "del df['High']\r\n",
        "del df['Low']\r\n",
        "\r\n",
        "df"
      ],
      "outputs": [
        {
          "output_type": "stream",
          "name": "stderr",
          "text": "/anaconda/envs/azureml_py36/lib/python3.6/site-packages/ipykernel_launcher.py:5: SettingWithCopyWarning: \nA value is trying to be set on a copy of a slice from a DataFrame.\nTry using .loc[row_indexer,col_indexer] = value instead\n\nSee the caveats in the documentation: http://pandas.pydata.org/pandas-docs/stable/user_guide/indexing.html#returning-a-view-versus-a-copy\n  \"\"\"\n/anaconda/envs/azureml_py36/lib/python3.6/site-packages/ipykernel_launcher.py:9: SettingWithCopyWarning: \nA value is trying to be set on a copy of a slice from a DataFrame.\nTry using .loc[row_indexer,col_indexer] = value instead\n\nSee the caveats in the documentation: http://pandas.pydata.org/pandas-docs/stable/user_guide/indexing.html#returning-a-view-versus-a-copy\n  if __name__ == '__main__':\n/anaconda/envs/azureml_py36/lib/python3.6/site-packages/ipykernel_launcher.py:10: SettingWithCopyWarning: \nA value is trying to be set on a copy of a slice from a DataFrame.\nTry using .loc[row_indexer,col_indexer] = value instead\n\nSee the caveats in the documentation: http://pandas.pydata.org/pandas-docs/stable/user_guide/indexing.html#returning-a-view-versus-a-copy\n  # Remove the CWD from sys.path while we load stuff.\n/anaconda/envs/azureml_py36/lib/python3.6/site-packages/ipykernel_launcher.py:11: SettingWithCopyWarning: \nA value is trying to be set on a copy of a slice from a DataFrame.\nTry using .loc[row_indexer,col_indexer] = value instead\n\nSee the caveats in the documentation: http://pandas.pydata.org/pandas-docs/stable/user_guide/indexing.html#returning-a-view-versus-a-copy\n  # This is added back by InteractiveShellApp.init_path()\n/anaconda/envs/azureml_py36/lib/python3.6/site-packages/ipykernel_launcher.py:12: SettingWithCopyWarning: \nA value is trying to be set on a copy of a slice from a DataFrame.\nTry using .loc[row_indexer,col_indexer] = value instead\n\nSee the caveats in the documentation: http://pandas.pydata.org/pandas-docs/stable/user_guide/indexing.html#returning-a-view-versus-a-copy\n  if sys.path[0] == '':\n/anaconda/envs/azureml_py36/lib/python3.6/site-packages/ipykernel_launcher.py:14: SettingWithCopyWarning: \nA value is trying to be set on a copy of a slice from a DataFrame.\nTry using .loc[row_indexer,col_indexer] = value instead\n\nSee the caveats in the documentation: http://pandas.pydata.org/pandas-docs/stable/user_guide/indexing.html#returning-a-view-versus-a-copy\n  \n/anaconda/envs/azureml_py36/lib/python3.6/site-packages/ipykernel_launcher.py:18: SettingWithCopyWarning: \nA value is trying to be set on a copy of a slice from a DataFrame.\nTry using .loc[row_indexer,col_indexer] = value instead\n\nSee the caveats in the documentation: http://pandas.pydata.org/pandas-docs/stable/user_guide/indexing.html#returning-a-view-versus-a-copy\n/anaconda/envs/azureml_py36/lib/python3.6/site-packages/ipykernel_launcher.py:21: SettingWithCopyWarning: \nA value is trying to be set on a copy of a slice from a DataFrame.\nTry using .loc[row_indexer,col_indexer] = value instead\n\nSee the caveats in the documentation: http://pandas.pydata.org/pandas-docs/stable/user_guide/indexing.html#returning-a-view-versus-a-copy\n/anaconda/envs/azureml_py36/lib/python3.6/site-packages/ipykernel_launcher.py:22: SettingWithCopyWarning: \nA value is trying to be set on a copy of a slice from a DataFrame.\nTry using .loc[row_indexer,col_indexer] = value instead\n\nSee the caveats in the documentation: http://pandas.pydata.org/pandas-docs/stable/user_guide/indexing.html#returning-a-view-versus-a-copy\n/anaconda/envs/azureml_py36/lib/python3.6/site-packages/ipykernel_launcher.py:25: SettingWithCopyWarning: \nA value is trying to be set on a copy of a slice from a DataFrame.\nTry using .loc[row_indexer,col_indexer] = value instead\n\nSee the caveats in the documentation: http://pandas.pydata.org/pandas-docs/stable/user_guide/indexing.html#returning-a-view-versus-a-copy\n/anaconda/envs/azureml_py36/lib/python3.6/site-packages/ipykernel_launcher.py:26: SettingWithCopyWarning: \nA value is trying to be set on a copy of a slice from a DataFrame.\nTry using .loc[row_indexer,col_indexer] = value instead\n\nSee the caveats in the documentation: http://pandas.pydata.org/pandas-docs/stable/user_guide/indexing.html#returning-a-view-versus-a-copy\n/anaconda/envs/azureml_py36/lib/python3.6/site-packages/ipykernel_launcher.py:27: SettingWithCopyWarning: \nA value is trying to be set on a copy of a slice from a DataFrame.\nTry using .loc[row_indexer,col_indexer] = value instead\n\nSee the caveats in the documentation: http://pandas.pydata.org/pandas-docs/stable/user_guide/indexing.html#returning-a-view-versus-a-copy\n/anaconda/envs/azureml_py36/lib/python3.6/site-packages/ipykernel_launcher.py:28: SettingWithCopyWarning: \nA value is trying to be set on a copy of a slice from a DataFrame.\nTry using .loc[row_indexer,col_indexer] = value instead\n\nSee the caveats in the documentation: http://pandas.pydata.org/pandas-docs/stable/user_guide/indexing.html#returning-a-view-versus-a-copy\n/anaconda/envs/azureml_py36/lib/python3.6/site-packages/ipykernel_launcher.py:29: SettingWithCopyWarning: \nA value is trying to be set on a copy of a slice from a DataFrame.\nTry using .loc[row_indexer,col_indexer] = value instead\n\nSee the caveats in the documentation: http://pandas.pydata.org/pandas-docs/stable/user_guide/indexing.html#returning-a-view-versus-a-copy\n"
        },
        {
          "output_type": "execute_result",
          "execution_count": 14,
          "data": {
            "text/plain": "                        price         ask         bid     volume   ma10001  \\\ndate                                                                         \n2011-12-31 17:00:00      4.58      4.6258      4.5342   9.000000  0.001093   \n2012-01-03 14:54:00      5.26      5.3126      5.2074  29.319392  0.000000   \n2012-01-03 15:32:00      5.29      5.3429      5.2371  29.302457  0.000000   \n2012-01-03 17:14:00      5.14      5.1914      5.0886   0.020000 -0.014382   \n2012-01-03 17:26:00      5.29      5.3429      5.2371  11.000000  0.014382   \n...                       ...         ...         ...        ...       ...   \n2021-03-30 23:56:00  58686.00  59272.8600  58099.1400   1.384487  0.000311   \n2021-03-30 23:57:00  58685.81  59272.6681  58098.9519   7.294848  0.000229   \n2021-03-30 23:58:00  58723.84  59311.0784  58136.6016   1.705682  0.000736   \n2021-03-30 23:59:00  58760.59  59348.1959  58172.9841   0.720415  0.001167   \n2021-03-31 00:00:00  58778.18  59365.9618  58190.3982   2.712831  0.001249   \n\n                     ma1000x1  ma1000x2  ma1000x3  ma1000x4  ma1000y1  \\\ndate                                                                    \n2011-12-31 17:00:00  0.001093  0.000000  0.017778  0.154559  0.021751   \n2012-01-03 14:54:00  0.011538  0.000000  0.023346  0.135982  0.003817   \n2012-01-03 15:32:00  0.002844  0.000000  0.005703  0.134049  0.007139   \n2012-01-03 17:14:00 -0.014382 -0.028355  0.000000 -0.135591 -0.019084   \n2012-01-03 17:26:00  0.009542  0.000000  0.029183  0.110181  0.008168   \n...                       ...       ...       ...       ...       ...   \n2021-03-30 23:56:00  0.000310 -0.001371  0.002030  0.000006 -0.001480   \n2021-03-30 23:57:00  0.000313 -0.001374  0.002027  0.000007 -0.001477   \n2021-03-30 23:58:00  0.000956 -0.000727  0.002676  0.000020 -0.000824   \n2021-03-30 23:59:00  0.001567 -0.000167  0.003304  0.000032 -0.000194   \n2021-03-31 00:00:00  0.001832  0.000000  0.003604  0.000036  0.000110   \n\n                     ma100001  ma100004       ma1       ma4    mafff1  \\\ndate                                                                    \n2011-12-31 17:00:00  0.021751  0.203496  0.021751  0.203496  0.021751   \n2012-01-03 14:54:00  0.015444  0.109206  0.090258  0.265182  0.090258   \n2012-01-03 15:32:00  0.016917  0.128171  0.087731  0.249776  0.087731   \n2012-01-03 17:14:00 -0.012623 -0.108531  0.046082  0.132170  0.046082   \n2012-01-03 17:26:00  0.014139  0.126540  0.071139  0.203399  0.071139   \n...                       ...       ...       ...       ...       ...   \n2021-03-30 23:56:00  0.005809  0.000009  0.056279  0.000028  0.036386   \n2021-03-30 23:57:00  0.005793  0.000009  0.056275  0.000028  0.036380   \n2021-03-30 23:58:00  0.006432  0.000010  0.056959  0.000029  0.037050   \n2021-03-30 23:59:00  0.007048  0.000011  0.057619  0.000029  0.037698   \n2021-03-31 00:00:00  0.007336  0.000011  0.057935  0.000029  0.038006   \n\n                       mafff2    mafff3    mafff4  \ndate                                               \n2011-12-31 17:00:00  0.000000  0.043280  0.203496  \n2012-01-03 14:54:00 -0.011278  0.198178  0.265182  \n2012-01-03 15:32:00 -0.005639  0.205011  0.249776  \n2012-01-03 17:14:00 -0.033835  0.170843  0.132170  \n2012-01-03 17:26:00 -0.005639  0.205011  0.203399  \n...                       ...       ...       ...  \n2021-03-30 23:56:00 -0.050109  0.165330  0.000017  \n2021-03-30 23:57:00 -0.050112  0.165326  0.000017  \n2021-03-30 23:58:00 -0.049497  0.166081  0.000017  \n2021-03-30 23:59:00 -0.048902  0.166811  0.000017  \n2021-03-31 00:00:00 -0.048617  0.167160  0.000018  \n\n[3611632 rows x 18 columns]",
            "text/html": "<div>\n<style scoped>\n    .dataframe tbody tr th:only-of-type {\n        vertical-align: middle;\n    }\n\n    .dataframe tbody tr th {\n        vertical-align: top;\n    }\n\n    .dataframe thead th {\n        text-align: right;\n    }\n</style>\n<table border=\"1\" class=\"dataframe\">\n  <thead>\n    <tr style=\"text-align: right;\">\n      <th></th>\n      <th>price</th>\n      <th>ask</th>\n      <th>bid</th>\n      <th>volume</th>\n      <th>ma10001</th>\n      <th>ma1000x1</th>\n      <th>ma1000x2</th>\n      <th>ma1000x3</th>\n      <th>ma1000x4</th>\n      <th>ma1000y1</th>\n      <th>ma100001</th>\n      <th>ma100004</th>\n      <th>ma1</th>\n      <th>ma4</th>\n      <th>mafff1</th>\n      <th>mafff2</th>\n      <th>mafff3</th>\n      <th>mafff4</th>\n    </tr>\n    <tr>\n      <th>date</th>\n      <th></th>\n      <th></th>\n      <th></th>\n      <th></th>\n      <th></th>\n      <th></th>\n      <th></th>\n      <th></th>\n      <th></th>\n      <th></th>\n      <th></th>\n      <th></th>\n      <th></th>\n      <th></th>\n      <th></th>\n      <th></th>\n      <th></th>\n      <th></th>\n    </tr>\n  </thead>\n  <tbody>\n    <tr>\n      <th>2011-12-31 17:00:00</th>\n      <td>4.58</td>\n      <td>4.6258</td>\n      <td>4.5342</td>\n      <td>9.000000</td>\n      <td>0.001093</td>\n      <td>0.001093</td>\n      <td>0.000000</td>\n      <td>0.017778</td>\n      <td>0.154559</td>\n      <td>0.021751</td>\n      <td>0.021751</td>\n      <td>0.203496</td>\n      <td>0.021751</td>\n      <td>0.203496</td>\n      <td>0.021751</td>\n      <td>0.000000</td>\n      <td>0.043280</td>\n      <td>0.203496</td>\n    </tr>\n    <tr>\n      <th>2012-01-03 14:54:00</th>\n      <td>5.26</td>\n      <td>5.3126</td>\n      <td>5.2074</td>\n      <td>29.319392</td>\n      <td>0.000000</td>\n      <td>0.011538</td>\n      <td>0.000000</td>\n      <td>0.023346</td>\n      <td>0.135982</td>\n      <td>0.003817</td>\n      <td>0.015444</td>\n      <td>0.109206</td>\n      <td>0.090258</td>\n      <td>0.265182</td>\n      <td>0.090258</td>\n      <td>-0.011278</td>\n      <td>0.198178</td>\n      <td>0.265182</td>\n    </tr>\n    <tr>\n      <th>2012-01-03 15:32:00</th>\n      <td>5.29</td>\n      <td>5.3429</td>\n      <td>5.2371</td>\n      <td>29.302457</td>\n      <td>0.000000</td>\n      <td>0.002844</td>\n      <td>0.000000</td>\n      <td>0.005703</td>\n      <td>0.134049</td>\n      <td>0.007139</td>\n      <td>0.016917</td>\n      <td>0.128171</td>\n      <td>0.087731</td>\n      <td>0.249776</td>\n      <td>0.087731</td>\n      <td>-0.005639</td>\n      <td>0.205011</td>\n      <td>0.249776</td>\n    </tr>\n    <tr>\n      <th>2012-01-03 17:14:00</th>\n      <td>5.14</td>\n      <td>5.1914</td>\n      <td>5.0886</td>\n      <td>0.020000</td>\n      <td>-0.014382</td>\n      <td>-0.014382</td>\n      <td>-0.028355</td>\n      <td>0.000000</td>\n      <td>-0.135591</td>\n      <td>-0.019084</td>\n      <td>-0.012623</td>\n      <td>-0.108531</td>\n      <td>0.046082</td>\n      <td>0.132170</td>\n      <td>0.046082</td>\n      <td>-0.033835</td>\n      <td>0.170843</td>\n      <td>0.132170</td>\n    </tr>\n    <tr>\n      <th>2012-01-03 17:26:00</th>\n      <td>5.29</td>\n      <td>5.3429</td>\n      <td>5.2371</td>\n      <td>11.000000</td>\n      <td>0.014382</td>\n      <td>0.009542</td>\n      <td>0.000000</td>\n      <td>0.029183</td>\n      <td>0.110181</td>\n      <td>0.008168</td>\n      <td>0.014139</td>\n      <td>0.126540</td>\n      <td>0.071139</td>\n      <td>0.203399</td>\n      <td>0.071139</td>\n      <td>-0.005639</td>\n      <td>0.205011</td>\n      <td>0.203399</td>\n    </tr>\n    <tr>\n      <th>...</th>\n      <td>...</td>\n      <td>...</td>\n      <td>...</td>\n      <td>...</td>\n      <td>...</td>\n      <td>...</td>\n      <td>...</td>\n      <td>...</td>\n      <td>...</td>\n      <td>...</td>\n      <td>...</td>\n      <td>...</td>\n      <td>...</td>\n      <td>...</td>\n      <td>...</td>\n      <td>...</td>\n      <td>...</td>\n      <td>...</td>\n    </tr>\n    <tr>\n      <th>2021-03-30 23:56:00</th>\n      <td>58686.00</td>\n      <td>59272.8600</td>\n      <td>58099.1400</td>\n      <td>1.384487</td>\n      <td>0.000311</td>\n      <td>0.000310</td>\n      <td>-0.001371</td>\n      <td>0.002030</td>\n      <td>0.000006</td>\n      <td>-0.001480</td>\n      <td>0.005809</td>\n      <td>0.000009</td>\n      <td>0.056279</td>\n      <td>0.000028</td>\n      <td>0.036386</td>\n      <td>-0.050109</td>\n      <td>0.165330</td>\n      <td>0.000017</td>\n    </tr>\n    <tr>\n      <th>2021-03-30 23:57:00</th>\n      <td>58685.81</td>\n      <td>59272.6681</td>\n      <td>58098.9519</td>\n      <td>7.294848</td>\n      <td>0.000229</td>\n      <td>0.000313</td>\n      <td>-0.001374</td>\n      <td>0.002027</td>\n      <td>0.000007</td>\n      <td>-0.001477</td>\n      <td>0.005793</td>\n      <td>0.000009</td>\n      <td>0.056275</td>\n      <td>0.000028</td>\n      <td>0.036380</td>\n      <td>-0.050112</td>\n      <td>0.165326</td>\n      <td>0.000017</td>\n    </tr>\n    <tr>\n      <th>2021-03-30 23:58:00</th>\n      <td>58723.84</td>\n      <td>59311.0784</td>\n      <td>58136.6016</td>\n      <td>1.705682</td>\n      <td>0.000736</td>\n      <td>0.000956</td>\n      <td>-0.000727</td>\n      <td>0.002676</td>\n      <td>0.000020</td>\n      <td>-0.000824</td>\n      <td>0.006432</td>\n      <td>0.000010</td>\n      <td>0.056959</td>\n      <td>0.000029</td>\n      <td>0.037050</td>\n      <td>-0.049497</td>\n      <td>0.166081</td>\n      <td>0.000017</td>\n    </tr>\n    <tr>\n      <th>2021-03-30 23:59:00</th>\n      <td>58760.59</td>\n      <td>59348.1959</td>\n      <td>58172.9841</td>\n      <td>0.720415</td>\n      <td>0.001167</td>\n      <td>0.001567</td>\n      <td>-0.000167</td>\n      <td>0.003304</td>\n      <td>0.000032</td>\n      <td>-0.000194</td>\n      <td>0.007048</td>\n      <td>0.000011</td>\n      <td>0.057619</td>\n      <td>0.000029</td>\n      <td>0.037698</td>\n      <td>-0.048902</td>\n      <td>0.166811</td>\n      <td>0.000017</td>\n    </tr>\n    <tr>\n      <th>2021-03-31 00:00:00</th>\n      <td>58778.18</td>\n      <td>59365.9618</td>\n      <td>58190.3982</td>\n      <td>2.712831</td>\n      <td>0.001249</td>\n      <td>0.001832</td>\n      <td>0.000000</td>\n      <td>0.003604</td>\n      <td>0.000036</td>\n      <td>0.000110</td>\n      <td>0.007336</td>\n      <td>0.000011</td>\n      <td>0.057935</td>\n      <td>0.000029</td>\n      <td>0.038006</td>\n      <td>-0.048617</td>\n      <td>0.167160</td>\n      <td>0.000018</td>\n    </tr>\n  </tbody>\n</table>\n<p>3611632 rows × 18 columns</p>\n</div>"
          },
          "metadata": {}
        }
      ],
      "execution_count": 14,
      "metadata": {
        "jupyter": {
          "source_hidden": false,
          "outputs_hidden": false
        },
        "nteract": {
          "transient": {
            "deleting": false
          }
        },
        "gather": {
          "logged": 1644171716065
        }
      }
    }
  ],
  "metadata": {
    "kernelspec": {
      "name": "python3-azureml",
      "language": "python",
      "display_name": "Python 3.6 - AzureML"
    },
    "language_info": {
      "name": "python",
      "version": "3.6.9",
      "mimetype": "text/x-python",
      "codemirror_mode": {
        "name": "ipython",
        "version": 3
      },
      "pygments_lexer": "ipython3",
      "nbconvert_exporter": "python",
      "file_extension": ".py"
    },
    "kernel_info": {
      "name": "python3-azureml"
    },
    "microsoft": {
      "host": {
        "AzureML": {
          "notebookHasBeenCompleted": true
        }
      }
    },
    "nteract": {
      "version": "nteract-front-end@1.0.0"
    }
  },
  "nbformat": 4,
  "nbformat_minor": 2
}