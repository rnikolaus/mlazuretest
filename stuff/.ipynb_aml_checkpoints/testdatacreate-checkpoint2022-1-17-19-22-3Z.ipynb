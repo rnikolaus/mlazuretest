{
  "cells": [
    {
      "cell_type": "code",
      "source": [
        "from azureml.core import Dataset\r\n",
        "from azureml.core import Workspace\r\n",
        "import datetime\r\n",
        "\r\n",
        "ws = Workspace.from_config()\r\n",
        "dataset = Dataset.get_by_name(ws, name='BTC-Bitstamp-raw')\r\n",
        "\r\n",
        "df = dataset.to_pandas_dataframe()\r\n",
        "df = df.rename(columns={\"Timestamp\": \"dateid\", \"Close\": \"price\",\"Volume_(BTC)\":\"volume\"})\r\n",
        "\r\n",
        "\r\n",
        "df"
      ],
      "outputs": [
        {
          "output_type": "execute_result",
          "execution_count": 1,
          "data": {
            "text/plain": "             dateid      Open      High       Low     price    volume  \\\n0        1325317920      4.39      4.39      4.39      4.39  0.455581   \n1        1325317980       NaN       NaN       NaN       NaN       NaN   \n2        1325318040       NaN       NaN       NaN       NaN       NaN   \n3        1325318100       NaN       NaN       NaN       NaN       NaN   \n4        1325318160       NaN       NaN       NaN       NaN       NaN   \n...             ...       ...       ...       ...       ...       ...   \n4857372  1617148560  58714.31  58714.31  58686.00  58686.00  1.384487   \n4857373  1617148620  58683.97  58693.43  58683.97  58685.81  7.294848   \n4857374  1617148680  58693.43  58723.84  58693.43  58723.84  1.705682   \n4857375  1617148740  58742.18  58770.38  58742.18  58760.59  0.720415   \n4857376  1617148800  58767.75  58778.18  58755.97  58778.18  2.712831   \n\n         Volume_(Currency)  Weighted_Price  \n0                 2.000000        4.390000  \n1                      NaN             NaN  \n2                      NaN             NaN  \n3                      NaN             NaN  \n4                      NaN             NaN  \n...                    ...             ...  \n4857372       81259.372187    58692.753339  \n4857373      428158.146640    58693.226508  \n4857374      100117.070370    58696.198496  \n4857375       42332.958633    58761.866202  \n4857376      159417.751000    58764.349363  \n\n[4857377 rows x 8 columns]",
            "text/html": "<div>\n<style scoped>\n    .dataframe tbody tr th:only-of-type {\n        vertical-align: middle;\n    }\n\n    .dataframe tbody tr th {\n        vertical-align: top;\n    }\n\n    .dataframe thead th {\n        text-align: right;\n    }\n</style>\n<table border=\"1\" class=\"dataframe\">\n  <thead>\n    <tr style=\"text-align: right;\">\n      <th></th>\n      <th>dateid</th>\n      <th>Open</th>\n      <th>High</th>\n      <th>Low</th>\n      <th>price</th>\n      <th>volume</th>\n      <th>Volume_(Currency)</th>\n      <th>Weighted_Price</th>\n    </tr>\n  </thead>\n  <tbody>\n    <tr>\n      <th>0</th>\n      <td>1325317920</td>\n      <td>4.39</td>\n      <td>4.39</td>\n      <td>4.39</td>\n      <td>4.39</td>\n      <td>0.455581</td>\n      <td>2.000000</td>\n      <td>4.390000</td>\n    </tr>\n    <tr>\n      <th>1</th>\n      <td>1325317980</td>\n      <td>NaN</td>\n      <td>NaN</td>\n      <td>NaN</td>\n      <td>NaN</td>\n      <td>NaN</td>\n      <td>NaN</td>\n      <td>NaN</td>\n    </tr>\n    <tr>\n      <th>2</th>\n      <td>1325318040</td>\n      <td>NaN</td>\n      <td>NaN</td>\n      <td>NaN</td>\n      <td>NaN</td>\n      <td>NaN</td>\n      <td>NaN</td>\n      <td>NaN</td>\n    </tr>\n    <tr>\n      <th>3</th>\n      <td>1325318100</td>\n      <td>NaN</td>\n      <td>NaN</td>\n      <td>NaN</td>\n      <td>NaN</td>\n      <td>NaN</td>\n      <td>NaN</td>\n      <td>NaN</td>\n    </tr>\n    <tr>\n      <th>4</th>\n      <td>1325318160</td>\n      <td>NaN</td>\n      <td>NaN</td>\n      <td>NaN</td>\n      <td>NaN</td>\n      <td>NaN</td>\n      <td>NaN</td>\n      <td>NaN</td>\n    </tr>\n    <tr>\n      <th>...</th>\n      <td>...</td>\n      <td>...</td>\n      <td>...</td>\n      <td>...</td>\n      <td>...</td>\n      <td>...</td>\n      <td>...</td>\n      <td>...</td>\n    </tr>\n    <tr>\n      <th>4857372</th>\n      <td>1617148560</td>\n      <td>58714.31</td>\n      <td>58714.31</td>\n      <td>58686.00</td>\n      <td>58686.00</td>\n      <td>1.384487</td>\n      <td>81259.372187</td>\n      <td>58692.753339</td>\n    </tr>\n    <tr>\n      <th>4857373</th>\n      <td>1617148620</td>\n      <td>58683.97</td>\n      <td>58693.43</td>\n      <td>58683.97</td>\n      <td>58685.81</td>\n      <td>7.294848</td>\n      <td>428158.146640</td>\n      <td>58693.226508</td>\n    </tr>\n    <tr>\n      <th>4857374</th>\n      <td>1617148680</td>\n      <td>58693.43</td>\n      <td>58723.84</td>\n      <td>58693.43</td>\n      <td>58723.84</td>\n      <td>1.705682</td>\n      <td>100117.070370</td>\n      <td>58696.198496</td>\n    </tr>\n    <tr>\n      <th>4857375</th>\n      <td>1617148740</td>\n      <td>58742.18</td>\n      <td>58770.38</td>\n      <td>58742.18</td>\n      <td>58760.59</td>\n      <td>0.720415</td>\n      <td>42332.958633</td>\n      <td>58761.866202</td>\n    </tr>\n    <tr>\n      <th>4857376</th>\n      <td>1617148800</td>\n      <td>58767.75</td>\n      <td>58778.18</td>\n      <td>58755.97</td>\n      <td>58778.18</td>\n      <td>2.712831</td>\n      <td>159417.751000</td>\n      <td>58764.349363</td>\n    </tr>\n  </tbody>\n</table>\n<p>4857377 rows × 8 columns</p>\n</div>"
          },
          "metadata": {}
        }
      ],
      "execution_count": 1,
      "metadata": {
        "gather": {
          "logged": 1644948932885
        }
      }
    },
    {
      "cell_type": "code",
      "source": [
        "dateparse = lambda x: datetime.datetime.utcfromtimestamp(float(x))\r\n",
        "df['date'] = [dateparse(x) for x in df['dateid']]\r\n",
        "df = df.set_index('date')\r\n",
        "del df['dateid']\r\n",
        "df['ask'] = df['price']*1.01\r\n",
        "df['bid'] = df['price']*0.99\r\n",
        "df = df.reindex(columns=['price','ask','bid','volume','High','Low'])\r\n",
        "df"
      ],
      "outputs": [
        {
          "output_type": "execute_result",
          "execution_count": 2,
          "data": {
            "text/plain": "                        price         ask         bid    volume      High  \\\ndate                                                                        \n2011-12-31 07:52:00      4.39      4.4339      4.3461  0.455581      4.39   \n2011-12-31 07:53:00       NaN         NaN         NaN       NaN       NaN   \n2011-12-31 07:54:00       NaN         NaN         NaN       NaN       NaN   \n2011-12-31 07:55:00       NaN         NaN         NaN       NaN       NaN   \n2011-12-31 07:56:00       NaN         NaN         NaN       NaN       NaN   \n...                       ...         ...         ...       ...       ...   \n2021-03-30 23:56:00  58686.00  59272.8600  58099.1400  1.384487  58714.31   \n2021-03-30 23:57:00  58685.81  59272.6681  58098.9519  7.294848  58693.43   \n2021-03-30 23:58:00  58723.84  59311.0784  58136.6016  1.705682  58723.84   \n2021-03-30 23:59:00  58760.59  59348.1959  58172.9841  0.720415  58770.38   \n2021-03-31 00:00:00  58778.18  59365.9618  58190.3982  2.712831  58778.18   \n\n                          Low  \ndate                           \n2011-12-31 07:52:00      4.39  \n2011-12-31 07:53:00       NaN  \n2011-12-31 07:54:00       NaN  \n2011-12-31 07:55:00       NaN  \n2011-12-31 07:56:00       NaN  \n...                       ...  \n2021-03-30 23:56:00  58686.00  \n2021-03-30 23:57:00  58683.97  \n2021-03-30 23:58:00  58693.43  \n2021-03-30 23:59:00  58742.18  \n2021-03-31 00:00:00  58755.97  \n\n[4857377 rows x 6 columns]",
            "text/html": "<div>\n<style scoped>\n    .dataframe tbody tr th:only-of-type {\n        vertical-align: middle;\n    }\n\n    .dataframe tbody tr th {\n        vertical-align: top;\n    }\n\n    .dataframe thead th {\n        text-align: right;\n    }\n</style>\n<table border=\"1\" class=\"dataframe\">\n  <thead>\n    <tr style=\"text-align: right;\">\n      <th></th>\n      <th>price</th>\n      <th>ask</th>\n      <th>bid</th>\n      <th>volume</th>\n      <th>High</th>\n      <th>Low</th>\n    </tr>\n    <tr>\n      <th>date</th>\n      <th></th>\n      <th></th>\n      <th></th>\n      <th></th>\n      <th></th>\n      <th></th>\n    </tr>\n  </thead>\n  <tbody>\n    <tr>\n      <th>2011-12-31 07:52:00</th>\n      <td>4.39</td>\n      <td>4.4339</td>\n      <td>4.3461</td>\n      <td>0.455581</td>\n      <td>4.39</td>\n      <td>4.39</td>\n    </tr>\n    <tr>\n      <th>2011-12-31 07:53:00</th>\n      <td>NaN</td>\n      <td>NaN</td>\n      <td>NaN</td>\n      <td>NaN</td>\n      <td>NaN</td>\n      <td>NaN</td>\n    </tr>\n    <tr>\n      <th>2011-12-31 07:54:00</th>\n      <td>NaN</td>\n      <td>NaN</td>\n      <td>NaN</td>\n      <td>NaN</td>\n      <td>NaN</td>\n      <td>NaN</td>\n    </tr>\n    <tr>\n      <th>2011-12-31 07:55:00</th>\n      <td>NaN</td>\n      <td>NaN</td>\n      <td>NaN</td>\n      <td>NaN</td>\n      <td>NaN</td>\n      <td>NaN</td>\n    </tr>\n    <tr>\n      <th>2011-12-31 07:56:00</th>\n      <td>NaN</td>\n      <td>NaN</td>\n      <td>NaN</td>\n      <td>NaN</td>\n      <td>NaN</td>\n      <td>NaN</td>\n    </tr>\n    <tr>\n      <th>...</th>\n      <td>...</td>\n      <td>...</td>\n      <td>...</td>\n      <td>...</td>\n      <td>...</td>\n      <td>...</td>\n    </tr>\n    <tr>\n      <th>2021-03-30 23:56:00</th>\n      <td>58686.00</td>\n      <td>59272.8600</td>\n      <td>58099.1400</td>\n      <td>1.384487</td>\n      <td>58714.31</td>\n      <td>58686.00</td>\n    </tr>\n    <tr>\n      <th>2021-03-30 23:57:00</th>\n      <td>58685.81</td>\n      <td>59272.6681</td>\n      <td>58098.9519</td>\n      <td>7.294848</td>\n      <td>58693.43</td>\n      <td>58683.97</td>\n    </tr>\n    <tr>\n      <th>2021-03-30 23:58:00</th>\n      <td>58723.84</td>\n      <td>59311.0784</td>\n      <td>58136.6016</td>\n      <td>1.705682</td>\n      <td>58723.84</td>\n      <td>58693.43</td>\n    </tr>\n    <tr>\n      <th>2021-03-30 23:59:00</th>\n      <td>58760.59</td>\n      <td>59348.1959</td>\n      <td>58172.9841</td>\n      <td>0.720415</td>\n      <td>58770.38</td>\n      <td>58742.18</td>\n    </tr>\n    <tr>\n      <th>2021-03-31 00:00:00</th>\n      <td>58778.18</td>\n      <td>59365.9618</td>\n      <td>58190.3982</td>\n      <td>2.712831</td>\n      <td>58778.18</td>\n      <td>58755.97</td>\n    </tr>\n  </tbody>\n</table>\n<p>4857377 rows × 6 columns</p>\n</div>"
          },
          "metadata": {}
        }
      ],
      "execution_count": 2,
      "metadata": {
        "jupyter": {
          "source_hidden": false,
          "outputs_hidden": false
        },
        "nteract": {
          "transient": {
            "deleting": false
          }
        },
        "gather": {
          "logged": 1644948937978
        }
      }
    },
    {
      "cell_type": "code",
      "source": [
        "#df = df.dropna()\r\n",
        "\r\n",
        "def addVals(timeframe):\r\n",
        "    p=df['price']\r\n",
        "    df['ma'+timeframe]=(p/p.rolling(timeframe).mean())-1\r\n",
        "    mins = df['Low'].rolling(timeframe).min()\r\n",
        "    df['maxmin'+timeframe]=(p - mins)/(df['High'].rolling(timeframe).max() - mins) \r\n",
        "    df['std'+timeframe] =  p.rolling(timeframe).std()/p\r\n",
        "\r\n",
        "addVals('15min')\r\n",
        "addVals('1h')\r\n",
        "addVals('10h')\r\n",
        "addVals('1D')\r\n",
        "addVals('10D')\r\n",
        "addVals('20D')\r\n",
        "\r\n",
        "df = df.dropna()\r\n",
        "\r\n",
        "    \r\n",
        "del df['High']\r\n",
        "del df['Low']\r\n",
        "\r\n",
        "df"
      ],
      "outputs": [
        {
          "output_type": "execute_result",
          "execution_count": 3,
          "data": {
            "text/plain": "                        price         ask         bid     volume   ma15min  \\\ndate                                                                         \n2011-12-31 17:00:00      4.58      4.6258      4.5342   9.000000  0.001093   \n2012-01-03 17:14:00      5.14      5.1914      5.0886   0.020000 -0.014382   \n2012-01-03 17:26:00      5.29      5.3429      5.2371  11.000000  0.014382   \n2012-01-03 17:27:00      5.29      5.3429      5.2371   4.010815  0.009542   \n2012-01-04 15:53:00      5.32      5.3732      5.2668   0.186090  0.012369   \n...                       ...         ...         ...        ...       ...   \n2021-03-30 23:56:00  58686.00  59272.8600  58099.1400   1.384487  0.000311   \n2021-03-30 23:57:00  58685.81  59272.6681  58098.9519   7.294848  0.000229   \n2021-03-30 23:58:00  58723.84  59311.0784  58136.6016   1.705682  0.000736   \n2021-03-30 23:59:00  58760.59  59348.1959  58172.9841   0.720415  0.001167   \n2021-03-31 00:00:00  58778.18  59365.9618  58190.3982   2.712831  0.001249   \n\n                     maxmin15min  std15min      ma1h  maxmin1h     std1h  ...  \\\ndate                                                                      ...   \n2011-12-31 17:00:00     1.000000  0.001544  0.001093  1.000000  0.001544  ...   \n2012-01-03 17:14:00     0.000000  0.020635 -0.014382  0.000000  0.020635  ...   \n2012-01-03 17:26:00     1.000000  0.020050  0.009542  1.000000  0.016371  ...   \n2012-01-03 17:27:00     1.000000  0.016371  0.007139  1.000000  0.014178  ...   \n2012-01-04 15:53:00     1.000000  0.017279  0.012369  1.000000  0.017279  ...   \n...                          ...       ...       ...       ...       ...  ...   \n2021-03-30 23:56:00     0.530095  0.000776  0.000310  0.596089  0.000813  ...   \n2021-03-30 23:57:00     0.528927  0.000744  0.000313  0.595137  0.000810  ...   \n2021-03-30 23:58:00     0.762742  0.000707  0.000956  0.785811  0.000814  ...   \n2021-03-30 23:59:00     0.942544  0.000675  0.001567  0.951837  0.000834  ...   \n2021-03-31 00:00:00     1.000000  0.000617  0.001832  1.000000  0.000869  ...   \n\n                       std10h      ma1D  maxmin1D     std1D     ma10D  \\\ndate                                                                    \n2011-12-31 17:00:00  0.023338  0.021751  1.000000  0.023338  0.021751   \n2012-01-03 17:14:00  0.015515 -0.012623  0.437500  0.022629  0.046082   \n2012-01-03 17:26:00  0.014218  0.014139  0.906250  0.021121  0.071139   \n2012-01-03 17:27:00  0.013471  0.012548  0.906250  0.020296  0.066398   \n2012-01-04 15:53:00  0.012218  0.027821  1.000000  0.026777  0.062841   \n...                       ...       ...       ...       ...       ...   \n2021-03-30 23:56:00  0.002117  0.005809  0.704474  0.011357  0.056279   \n2021-03-30 23:57:00  0.002115  0.005793  0.704394  0.011353  0.056275   \n2021-03-30 23:58:00  0.002111  0.006432  0.720389  0.011342  0.056959   \n2021-03-30 23:59:00  0.002107  0.007048  0.735845  0.011332  0.057619   \n2021-03-31 00:00:00  0.002102  0.007336  0.743243  0.011326  0.057935   \n\n                     maxmin10D    std10D     ma20D  maxmin20D    std20D  \ndate                                                                     \n2011-12-31 17:00:00   1.000000  0.023338  0.021751   1.000000  0.023338  \n2012-01-03 17:14:00   0.806452  0.067833  0.046082   0.806452  0.067833  \n2012-01-03 17:26:00   0.967742  0.066116  0.071139   0.967742  0.066116  \n2012-01-03 17:27:00   0.967742  0.065997  0.066398   0.967742  0.065997  \n2012-01-04 15:53:00   1.000000  0.059057  0.062841   1.000000  0.059057  \n...                        ...       ...       ...        ...       ...  \n2021-03-30 23:56:00   0.922174  0.033753  0.036386   0.728955  0.036899  \n2021-03-30 23:57:00   0.922153  0.033754  0.036380   0.728938  0.036900  \n2021-03-30 23:58:00   0.926366  0.033734  0.037050   0.732268  0.036877  \n2021-03-30 23:59:00   0.930436  0.033714  0.037698   0.735485  0.036854  \n2021-03-31 00:00:00   0.932384  0.033705  0.038006   0.737026  0.036844  \n\n[3595749 rows x 22 columns]",
            "text/html": "<div>\n<style scoped>\n    .dataframe tbody tr th:only-of-type {\n        vertical-align: middle;\n    }\n\n    .dataframe tbody tr th {\n        vertical-align: top;\n    }\n\n    .dataframe thead th {\n        text-align: right;\n    }\n</style>\n<table border=\"1\" class=\"dataframe\">\n  <thead>\n    <tr style=\"text-align: right;\">\n      <th></th>\n      <th>price</th>\n      <th>ask</th>\n      <th>bid</th>\n      <th>volume</th>\n      <th>ma15min</th>\n      <th>maxmin15min</th>\n      <th>std15min</th>\n      <th>ma1h</th>\n      <th>maxmin1h</th>\n      <th>std1h</th>\n      <th>...</th>\n      <th>std10h</th>\n      <th>ma1D</th>\n      <th>maxmin1D</th>\n      <th>std1D</th>\n      <th>ma10D</th>\n      <th>maxmin10D</th>\n      <th>std10D</th>\n      <th>ma20D</th>\n      <th>maxmin20D</th>\n      <th>std20D</th>\n    </tr>\n    <tr>\n      <th>date</th>\n      <th></th>\n      <th></th>\n      <th></th>\n      <th></th>\n      <th></th>\n      <th></th>\n      <th></th>\n      <th></th>\n      <th></th>\n      <th></th>\n      <th></th>\n      <th></th>\n      <th></th>\n      <th></th>\n      <th></th>\n      <th></th>\n      <th></th>\n      <th></th>\n      <th></th>\n      <th></th>\n      <th></th>\n    </tr>\n  </thead>\n  <tbody>\n    <tr>\n      <th>2011-12-31 17:00:00</th>\n      <td>4.58</td>\n      <td>4.6258</td>\n      <td>4.5342</td>\n      <td>9.000000</td>\n      <td>0.001093</td>\n      <td>1.000000</td>\n      <td>0.001544</td>\n      <td>0.001093</td>\n      <td>1.000000</td>\n      <td>0.001544</td>\n      <td>...</td>\n      <td>0.023338</td>\n      <td>0.021751</td>\n      <td>1.000000</td>\n      <td>0.023338</td>\n      <td>0.021751</td>\n      <td>1.000000</td>\n      <td>0.023338</td>\n      <td>0.021751</td>\n      <td>1.000000</td>\n      <td>0.023338</td>\n    </tr>\n    <tr>\n      <th>2012-01-03 17:14:00</th>\n      <td>5.14</td>\n      <td>5.1914</td>\n      <td>5.0886</td>\n      <td>0.020000</td>\n      <td>-0.014382</td>\n      <td>0.000000</td>\n      <td>0.020635</td>\n      <td>-0.014382</td>\n      <td>0.000000</td>\n      <td>0.020635</td>\n      <td>...</td>\n      <td>0.015515</td>\n      <td>-0.012623</td>\n      <td>0.437500</td>\n      <td>0.022629</td>\n      <td>0.046082</td>\n      <td>0.806452</td>\n      <td>0.067833</td>\n      <td>0.046082</td>\n      <td>0.806452</td>\n      <td>0.067833</td>\n    </tr>\n    <tr>\n      <th>2012-01-03 17:26:00</th>\n      <td>5.29</td>\n      <td>5.3429</td>\n      <td>5.2371</td>\n      <td>11.000000</td>\n      <td>0.014382</td>\n      <td>1.000000</td>\n      <td>0.020050</td>\n      <td>0.009542</td>\n      <td>1.000000</td>\n      <td>0.016371</td>\n      <td>...</td>\n      <td>0.014218</td>\n      <td>0.014139</td>\n      <td>0.906250</td>\n      <td>0.021121</td>\n      <td>0.071139</td>\n      <td>0.967742</td>\n      <td>0.066116</td>\n      <td>0.071139</td>\n      <td>0.967742</td>\n      <td>0.066116</td>\n    </tr>\n    <tr>\n      <th>2012-01-03 17:27:00</th>\n      <td>5.29</td>\n      <td>5.3429</td>\n      <td>5.2371</td>\n      <td>4.010815</td>\n      <td>0.009542</td>\n      <td>1.000000</td>\n      <td>0.016371</td>\n      <td>0.007139</td>\n      <td>1.000000</td>\n      <td>0.014178</td>\n      <td>...</td>\n      <td>0.013471</td>\n      <td>0.012548</td>\n      <td>0.906250</td>\n      <td>0.020296</td>\n      <td>0.066398</td>\n      <td>0.967742</td>\n      <td>0.065997</td>\n      <td>0.066398</td>\n      <td>0.967742</td>\n      <td>0.065997</td>\n    </tr>\n    <tr>\n      <th>2012-01-04 15:53:00</th>\n      <td>5.32</td>\n      <td>5.3732</td>\n      <td>5.2668</td>\n      <td>0.186090</td>\n      <td>0.012369</td>\n      <td>1.000000</td>\n      <td>0.017279</td>\n      <td>0.012369</td>\n      <td>1.000000</td>\n      <td>0.017279</td>\n      <td>...</td>\n      <td>0.012218</td>\n      <td>0.027821</td>\n      <td>1.000000</td>\n      <td>0.026777</td>\n      <td>0.062841</td>\n      <td>1.000000</td>\n      <td>0.059057</td>\n      <td>0.062841</td>\n      <td>1.000000</td>\n      <td>0.059057</td>\n    </tr>\n    <tr>\n      <th>...</th>\n      <td>...</td>\n      <td>...</td>\n      <td>...</td>\n      <td>...</td>\n      <td>...</td>\n      <td>...</td>\n      <td>...</td>\n      <td>...</td>\n      <td>...</td>\n      <td>...</td>\n      <td>...</td>\n      <td>...</td>\n      <td>...</td>\n      <td>...</td>\n      <td>...</td>\n      <td>...</td>\n      <td>...</td>\n      <td>...</td>\n      <td>...</td>\n      <td>...</td>\n      <td>...</td>\n    </tr>\n    <tr>\n      <th>2021-03-30 23:56:00</th>\n      <td>58686.00</td>\n      <td>59272.8600</td>\n      <td>58099.1400</td>\n      <td>1.384487</td>\n      <td>0.000311</td>\n      <td>0.530095</td>\n      <td>0.000776</td>\n      <td>0.000310</td>\n      <td>0.596089</td>\n      <td>0.000813</td>\n      <td>...</td>\n      <td>0.002117</td>\n      <td>0.005809</td>\n      <td>0.704474</td>\n      <td>0.011357</td>\n      <td>0.056279</td>\n      <td>0.922174</td>\n      <td>0.033753</td>\n      <td>0.036386</td>\n      <td>0.728955</td>\n      <td>0.036899</td>\n    </tr>\n    <tr>\n      <th>2021-03-30 23:57:00</th>\n      <td>58685.81</td>\n      <td>59272.6681</td>\n      <td>58098.9519</td>\n      <td>7.294848</td>\n      <td>0.000229</td>\n      <td>0.528927</td>\n      <td>0.000744</td>\n      <td>0.000313</td>\n      <td>0.595137</td>\n      <td>0.000810</td>\n      <td>...</td>\n      <td>0.002115</td>\n      <td>0.005793</td>\n      <td>0.704394</td>\n      <td>0.011353</td>\n      <td>0.056275</td>\n      <td>0.922153</td>\n      <td>0.033754</td>\n      <td>0.036380</td>\n      <td>0.728938</td>\n      <td>0.036900</td>\n    </tr>\n    <tr>\n      <th>2021-03-30 23:58:00</th>\n      <td>58723.84</td>\n      <td>59311.0784</td>\n      <td>58136.6016</td>\n      <td>1.705682</td>\n      <td>0.000736</td>\n      <td>0.762742</td>\n      <td>0.000707</td>\n      <td>0.000956</td>\n      <td>0.785811</td>\n      <td>0.000814</td>\n      <td>...</td>\n      <td>0.002111</td>\n      <td>0.006432</td>\n      <td>0.720389</td>\n      <td>0.011342</td>\n      <td>0.056959</td>\n      <td>0.926366</td>\n      <td>0.033734</td>\n      <td>0.037050</td>\n      <td>0.732268</td>\n      <td>0.036877</td>\n    </tr>\n    <tr>\n      <th>2021-03-30 23:59:00</th>\n      <td>58760.59</td>\n      <td>59348.1959</td>\n      <td>58172.9841</td>\n      <td>0.720415</td>\n      <td>0.001167</td>\n      <td>0.942544</td>\n      <td>0.000675</td>\n      <td>0.001567</td>\n      <td>0.951837</td>\n      <td>0.000834</td>\n      <td>...</td>\n      <td>0.002107</td>\n      <td>0.007048</td>\n      <td>0.735845</td>\n      <td>0.011332</td>\n      <td>0.057619</td>\n      <td>0.930436</td>\n      <td>0.033714</td>\n      <td>0.037698</td>\n      <td>0.735485</td>\n      <td>0.036854</td>\n    </tr>\n    <tr>\n      <th>2021-03-31 00:00:00</th>\n      <td>58778.18</td>\n      <td>59365.9618</td>\n      <td>58190.3982</td>\n      <td>2.712831</td>\n      <td>0.001249</td>\n      <td>1.000000</td>\n      <td>0.000617</td>\n      <td>0.001832</td>\n      <td>1.000000</td>\n      <td>0.000869</td>\n      <td>...</td>\n      <td>0.002102</td>\n      <td>0.007336</td>\n      <td>0.743243</td>\n      <td>0.011326</td>\n      <td>0.057935</td>\n      <td>0.932384</td>\n      <td>0.033705</td>\n      <td>0.038006</td>\n      <td>0.737026</td>\n      <td>0.036844</td>\n    </tr>\n  </tbody>\n</table>\n<p>3595749 rows × 22 columns</p>\n</div>"
          },
          "metadata": {}
        }
      ],
      "execution_count": 3,
      "metadata": {
        "jupyter": {
          "source_hidden": false,
          "outputs_hidden": false
        },
        "nteract": {
          "transient": {
            "deleting": false
          }
        },
        "gather": {
          "logged": 1644948950931
        }
      }
    }
  ],
  "metadata": {
    "kernelspec": {
      "name": "python3-azureml",
      "language": "python",
      "display_name": "Python 3.6 - AzureML"
    },
    "language_info": {
      "name": "python",
      "version": "3.6.9",
      "mimetype": "text/x-python",
      "codemirror_mode": {
        "name": "ipython",
        "version": 3
      },
      "pygments_lexer": "ipython3",
      "nbconvert_exporter": "python",
      "file_extension": ".py"
    },
    "kernel_info": {
      "name": "python3-azureml"
    },
    "microsoft": {
      "host": {
        "AzureML": {
          "notebookHasBeenCompleted": true
        }
      }
    },
    "nteract": {
      "version": "nteract-front-end@1.0.0"
    }
  },
  "nbformat": 4,
  "nbformat_minor": 2
}