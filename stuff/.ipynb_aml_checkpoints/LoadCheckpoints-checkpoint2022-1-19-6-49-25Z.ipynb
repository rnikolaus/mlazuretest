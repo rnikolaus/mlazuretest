{
  "cells": [
    {
      "cell_type": "code",
      "source": [
        "import azureml.core\r\n",
        "\r\n",
        "print(\"Azure Machine Learning SDK Version:\", azureml.core.VERSION)"
      ],
      "outputs": [
        {
          "output_type": "stream",
          "name": "stdout",
          "text": "Azure Machine Learning SDK Version: 1.37.0\n"
        }
      ],
      "execution_count": 1,
      "metadata": {
        "gather": {
          "logged": 1645198082080
        }
      }
    },
    {
      "cell_type": "code",
      "source": [
        "from azureml.core import Workspace\r\n",
        "\r\n",
        "ws = Workspace.from_config()\r\n",
        "print(ws.name, ws.location, ws.resource_group, sep = ' | ')"
      ],
      "outputs": [
        {
          "output_type": "stream",
          "name": "stdout",
          "text": "ml-workspace | eastus | ml-rg\n"
        }
      ],
      "execution_count": 2,
      "metadata": {
        "jupyter": {
          "source_hidden": false,
          "outputs_hidden": false
        },
        "nteract": {
          "transient": {
            "deleting": false
          }
        },
        "gather": {
          "logged": 1645198083025
        }
      }
    },
    {
      "cell_type": "code",
      "source": [],
      "outputs": [],
      "execution_count": null,
      "metadata": {
        "jupyter": {
          "source_hidden": false,
          "outputs_hidden": false
        },
        "nteract": {
          "transient": {
            "deleting": false
          }
        }
      }
    },
    {
      "cell_type": "code",
      "source": [
        "from azureml.core.experiment import Experiment\r\n",
        "\r\n",
        "from files import BCTrade_utils\r\n",
        "env ='Bitstamp_1'\r\n",
        "experiment_name = BCTrade_utils.registerBCTrade(env)\r\n",
        "exp = Experiment(workspace=ws, name=experiment_name)"
      ],
      "outputs": [],
      "execution_count": 3,
      "metadata": {
        "jupyter": {
          "source_hidden": false,
          "outputs_hidden": false
        },
        "nteract": {
          "transient": {
            "deleting": false
          }
        },
        "gather": {
          "logged": 1645198091091
        }
      }
    },
    {
      "cell_type": "code",
      "source": [
        "from azureml.core import Run\r\n",
        "\r\n",
        "#run_id = child_run_0.id # Or set to run id of a completed run (e.g. 'rl-cartpole-v0_1587572312_06e04ace_head')\r\n",
        "run_id = 'BCTrade-Bitstamp_1_1645190582_c39dd4d2_head'\r\n",
        "child_run_0 = Run(exp, run_id=run_id)\r\n",
        "#child_run_0.get_environment()"
      ],
      "outputs": [],
      "execution_count": 4,
      "metadata": {
        "jupyter": {
          "source_hidden": false,
          "outputs_hidden": false
        },
        "nteract": {
          "transient": {
            "deleting": false
          }
        },
        "gather": {
          "logged": 1645198091381
        }
      }
    },
    {
      "cell_type": "code",
      "source": [
        "from os import path\r\n",
        "from distutils import dir_util\r\n",
        "\r\n",
        "training_artifacts_path = path.join(\"logs\", \"PPO\")\r\n",
        "print(\"Training artifacts path:\", training_artifacts_path)\r\n",
        "\r\n",
        "if path.exists(training_artifacts_path):\r\n",
        "    dir_util.remove_tree(training_artifacts_path)\r\n",
        "\r\n",
        "# Download run artifacts to local compute\r\n",
        "child_run_0.download_files(training_artifacts_path)"
      ],
      "outputs": [
        {
          "output_type": "stream",
          "name": "stdout",
          "text": "Training artifacts path: logs/PPO\n"
        }
      ],
      "execution_count": 5,
      "metadata": {
        "jupyter": {
          "source_hidden": false,
          "outputs_hidden": false
        },
        "nteract": {
          "transient": {
            "deleting": false
          }
        },
        "gather": {
          "logged": 1645198097202
        }
      }
    },
    {
      "cell_type": "code",
      "source": [
        "# A helper function to find checkpoint files in a directory\r\n",
        "def find_checkpoints(file_path):\r\n",
        "    print(\"Looking in path:\", file_path)\r\n",
        "    checkpoints = []\r\n",
        "    for root, _, files in os.walk(file_path):\r\n",
        "        for name in files:\r\n",
        "            if os.path.basename(root).startswith('checkpoint_'):\r\n",
        "                checkpoints.append(path.join(root, name))\r\n",
        "    return checkpoints\r\n",
        "\r\n",
        "checkpoint_files = find_checkpoints(training_artifacts_path)"
      ],
      "outputs": [
        {
          "output_type": "stream",
          "name": "stdout",
          "text": "Looking in path: logs/PPO\n"
        }
      ],
      "execution_count": 6,
      "metadata": {
        "jupyter": {
          "source_hidden": false,
          "outputs_hidden": false
        },
        "nteract": {
          "transient": {
            "deleting": false
          }
        },
        "gather": {
          "logged": 1645198097383
        }
      }
    },
    {
      "cell_type": "code",
      "source": [
        "# Find checkpoints and last checkpoint number\r\n",
        "checkpoint_numbers = []\r\n",
        "for file in checkpoint_files:\r\n",
        "    file = os.path.basename(file)\r\n",
        "    if file.startswith('checkpoint-') and not file.endswith('.tune_metadata'):\r\n",
        "        checkpoint_numbers.append(int(file.split('-')[-1]))\r\n",
        "\r\n",
        "print(\"Checkpoints:\", checkpoint_numbers)\r\n",
        "\r\n",
        "last_checkpoint_number = max(checkpoint_numbers)\r\n",
        "print(\"Last checkpoint number:\", last_checkpoint_number)"
      ],
      "outputs": [
        {
          "output_type": "stream",
          "name": "stdout",
          "text": "Checkpoints: [297, 488, 510, 522, 533, 537, 556, 586, 602, 632]\nLast checkpoint number: 632\n"
        }
      ],
      "execution_count": 7,
      "metadata": {
        "jupyter": {
          "source_hidden": false,
          "outputs_hidden": false
        },
        "nteract": {
          "transient": {
            "deleting": false
          }
        },
        "gather": {
          "logged": 1645198097505
        }
      }
    },
    {
      "cell_type": "code",
      "source": [
        "from \tazureml.data.data_reference import DataReference\r\n",
        "from azureml.core import Dataset\r\n",
        "\r\n",
        "datastore = ws.get_default_datastore()\r\n",
        "x = DataReference(datastore, path_\r\n",
        "checkpoint_ds= Dataset.File.from_files(DataReference(datastore, path_on_datastore='checkpoints_BCTrade-Btc_with_indicators_1643483635_6b6906f0_head'))\r\n",
        "\r\n"
      ],
      "outputs": [
        {
          "output_type": "error",
          "ename": "SyntaxError",
          "evalue": "invalid syntax (<ipython-input-9-51b9310036f0>, line 6)",
          "traceback": [
            "\u001b[0;36m  File \u001b[0;32m\"<ipython-input-9-51b9310036f0>\"\u001b[0;36m, line \u001b[0;32m6\u001b[0m\n\u001b[0;31m    checkpoint_ds= Dataset.File.from_files(DataReference(datastore, path_on_datastore='checkpoints_BCTrade-Btc_with_indicators_1643483635_6b6906f0_head'))\u001b[0m\n\u001b[0m                ^\u001b[0m\n\u001b[0;31mSyntaxError\u001b[0m\u001b[0;31m:\u001b[0m invalid syntax\n"
          ]
        }
      ],
      "execution_count": 9,
      "metadata": {
        "jupyter": {
          "source_hidden": false,
          "outputs_hidden": false
        },
        "nteract": {
          "transient": {
            "deleting": false
          }
        },
        "gather": {
          "logged": 1644958653586
        }
      }
    },
    {
      "cell_type": "code",
      "source": [
        "# Upload the checkpoint files and create a DataSet\r\n",
        "from azureml.core import Dataset\r\n",
        "\r\n",
        "datastore = ws.get_default_datastore()\r\n",
        "checkpoint_dataref = datastore.upload_files(checkpoint_files, target_path='checkpoints_' + run_id, overwrite=True)\r\n",
        "checkpoint_ds = Dataset.File.from_files(checkpoint_dataref)\r\n",
        "print(checkpoint_ds)\r\n",
        "print(checkpoint_ds.as_mount())\r\n",
        "#inputs=[\r\n",
        "#        checkpoint_ds.as_named_input('artifacts_dataset'),\r\n",
        "#        checkpoint_ds.as_named_input('artifacts_path').as_mount()]"
      ],
      "outputs": [
        {
          "output_type": "stream",
          "name": "stderr",
          "text": "\"datastore.upload_files\" is deprecated after version 1.0.69. Please use \"FileDatasetFactory.upload_directory\" instead. See Dataset API change notice at https://aka.ms/dataset-deprecation.\n"
        },
        {
          "output_type": "stream",
          "name": "stdout",
          "text": "Uploading an estimated of 20 files\nUploading logs/PPO/PPO_BCTrade-Bitstamp_1_6f00b326_2022-02-18_13-34-01l6e5exla/checkpoint_297/checkpoint-297\nUploaded logs/PPO/PPO_BCTrade-Bitstamp_1_6f00b326_2022-02-18_13-34-01l6e5exla/checkpoint_297/checkpoint-297, 1 files out of an estimated total of 20\nUploading logs/PPO/PPO_BCTrade-Bitstamp_1_6f00b326_2022-02-18_13-34-01l6e5exla/checkpoint_297/checkpoint-297.tune_metadata\nUploaded logs/PPO/PPO_BCTrade-Bitstamp_1_6f00b326_2022-02-18_13-34-01l6e5exla/checkpoint_297/checkpoint-297.tune_metadata, 2 files out of an estimated total of 20\nUploading logs/PPO/PPO_BCTrade-Bitstamp_1_6f00b326_2022-02-18_13-34-01l6e5exla/checkpoint_488/checkpoint-488\nUploaded logs/PPO/PPO_BCTrade-Bitstamp_1_6f00b326_2022-02-18_13-34-01l6e5exla/checkpoint_488/checkpoint-488, 3 files out of an estimated total of 20\nUploading logs/PPO/PPO_BCTrade-Bitstamp_1_6f00b326_2022-02-18_13-34-01l6e5exla/checkpoint_488/checkpoint-488.tune_metadata\nUploaded logs/PPO/PPO_BCTrade-Bitstamp_1_6f00b326_2022-02-18_13-34-01l6e5exla/checkpoint_488/checkpoint-488.tune_metadata, 4 files out of an estimated total of 20\nUploading logs/PPO/PPO_BCTrade-Bitstamp_1_6f00b326_2022-02-18_13-34-01l6e5exla/checkpoint_510/checkpoint-510.tune_metadata\nUploaded logs/PPO/PPO_BCTrade-Bitstamp_1_6f00b326_2022-02-18_13-34-01l6e5exla/checkpoint_510/checkpoint-510.tune_metadata, 5 files out of an estimated total of 20\nUploading logs/PPO/PPO_BCTrade-Bitstamp_1_6f00b326_2022-02-18_13-34-01l6e5exla/checkpoint_522/checkpoint-522\nUploaded logs/PPO/PPO_BCTrade-Bitstamp_1_6f00b326_2022-02-18_13-34-01l6e5exla/checkpoint_522/checkpoint-522, 6 files out of an estimated total of 20\nUploading logs/PPO/PPO_BCTrade-Bitstamp_1_6f00b326_2022-02-18_13-34-01l6e5exla/checkpoint_522/checkpoint-522.tune_metadata\nUploaded logs/PPO/PPO_BCTrade-Bitstamp_1_6f00b326_2022-02-18_13-34-01l6e5exla/checkpoint_522/checkpoint-522.tune_metadata, 7 files out of an estimated total of 20\nUploading logs/PPO/PPO_BCTrade-Bitstamp_1_6f00b326_2022-02-18_13-34-01l6e5exla/checkpoint_533/checkpoint-533\nUploaded logs/PPO/PPO_BCTrade-Bitstamp_1_6f00b326_2022-02-18_13-34-01l6e5exla/checkpoint_533/checkpoint-533, 8 files out of an estimated total of 20\nUploading logs/PPO/PPO_BCTrade-Bitstamp_1_6f00b326_2022-02-18_13-34-01l6e5exla/checkpoint_533/checkpoint-533.tune_metadata\nUploaded logs/PPO/PPO_BCTrade-Bitstamp_1_6f00b326_2022-02-18_13-34-01l6e5exla/checkpoint_533/checkpoint-533.tune_metadata, 9 files out of an estimated total of 20\nUploading logs/PPO/PPO_BCTrade-Bitstamp_1_6f00b326_2022-02-18_13-34-01l6e5exla/checkpoint_537/checkpoint-537\nUploaded logs/PPO/PPO_BCTrade-Bitstamp_1_6f00b326_2022-02-18_13-34-01l6e5exla/checkpoint_537/checkpoint-537, 10 files out of an estimated total of 20\nUploading logs/PPO/PPO_BCTrade-Bitstamp_1_6f00b326_2022-02-18_13-34-01l6e5exla/checkpoint_537/checkpoint-537.tune_metadata\nUploaded logs/PPO/PPO_BCTrade-Bitstamp_1_6f00b326_2022-02-18_13-34-01l6e5exla/checkpoint_537/checkpoint-537.tune_metadata, 11 files out of an estimated total of 20\nUploading logs/PPO/PPO_BCTrade-Bitstamp_1_6f00b326_2022-02-18_13-34-01l6e5exla/checkpoint_556/checkpoint-556.tune_metadata\nUploaded logs/PPO/PPO_BCTrade-Bitstamp_1_6f00b326_2022-02-18_13-34-01l6e5exla/checkpoint_556/checkpoint-556.tune_metadata, 12 files out of an estimated total of 20\nUploading logs/PPO/PPO_BCTrade-Bitstamp_1_6f00b326_2022-02-18_13-34-01l6e5exla/checkpoint_586/checkpoint-586.tune_metadata\nUploaded logs/PPO/PPO_BCTrade-Bitstamp_1_6f00b326_2022-02-18_13-34-01l6e5exla/checkpoint_586/checkpoint-586.tune_metadata, 13 files out of an estimated total of 20\nUploading logs/PPO/PPO_BCTrade-Bitstamp_1_6f00b326_2022-02-18_13-34-01l6e5exla/checkpoint_602/checkpoint-602.tune_metadata\nUploaded logs/PPO/PPO_BCTrade-Bitstamp_1_6f00b326_2022-02-18_13-34-01l6e5exla/checkpoint_602/checkpoint-602.tune_metadata, 14 files out of an estimated total of 20\nUploading logs/PPO/PPO_BCTrade-Bitstamp_1_6f00b326_2022-02-18_13-34-01l6e5exla/checkpoint_632/checkpoint-632.tune_metadata\nUploaded logs/PPO/PPO_BCTrade-Bitstamp_1_6f00b326_2022-02-18_13-34-01l6e5exla/checkpoint_632/checkpoint-632.tune_metadata, 15 files out of an estimated total of 20\nUploading logs/PPO/PPO_BCTrade-Bitstamp_1_6f00b326_2022-02-18_13-34-01l6e5exla/checkpoint_510/checkpoint-510\nUploaded logs/PPO/PPO_BCTrade-Bitstamp_1_6f00b326_2022-02-18_13-34-01l6e5exla/checkpoint_510/checkpoint-510, 16 files out of an estimated total of 20\nUploading logs/PPO/PPO_BCTrade-Bitstamp_1_6f00b326_2022-02-18_13-34-01l6e5exla/checkpoint_556/checkpoint-556\nUploaded logs/PPO/PPO_BCTrade-Bitstamp_1_6f00b326_2022-02-18_13-34-01l6e5exla/checkpoint_556/checkpoint-556, 17 files out of an estimated total of 20\nUploading logs/PPO/PPO_BCTrade-Bitstamp_1_6f00b326_2022-02-18_13-34-01l6e5exla/checkpoint_586/checkpoint-586\nUploaded logs/PPO/PPO_BCTrade-Bitstamp_1_6f00b326_2022-02-18_13-34-01l6e5exla/checkpoint_586/checkpoint-586, 18 files out of an estimated total of 20\nUploading logs/PPO/PPO_BCTrade-Bitstamp_1_6f00b326_2022-02-18_13-34-01l6e5exla/checkpoint_602/checkpoint-602\nUploaded logs/PPO/PPO_BCTrade-Bitstamp_1_6f00b326_2022-02-18_13-34-01l6e5exla/checkpoint_602/checkpoint-602, 19 files out of an estimated total of 20\nUploading logs/PPO/PPO_BCTrade-Bitstamp_1_6f00b326_2022-02-18_13-34-01l6e5exla/checkpoint_632/checkpoint-632\nUploaded logs/PPO/PPO_BCTrade-Bitstamp_1_6f00b326_2022-02-18_13-34-01l6e5exla/checkpoint_632/checkpoint-632, 20 files out of an estimated total of 20\nUploaded 20 files\nFileDataset\n{\n  \"source\": [\n    \"('workspaceblobstore', 'checkpoints_BCTrade-Bitstamp_1_1645190582_c39dd4d2_head')\"\n  ],\n  \"definition\": [\n    \"GetDatastoreFiles\"\n  ]\n}\n<azureml.data.dataset_consumption_config.DatasetConsumptionConfig object at 0x7f81b2172cc0>\n"
        }
      ],
      "execution_count": 8,
      "metadata": {
        "jupyter": {
          "source_hidden": false,
          "outputs_hidden": false
        },
        "nteract": {
          "transient": {
            "deleting": false
          }
        },
        "gather": {
          "logged": 1645198104380
        }
      }
    }
  ],
  "metadata": {
    "kernelspec": {
      "name": "python3-azureml",
      "language": "python",
      "display_name": "Python 3.6 - AzureML"
    },
    "language_info": {
      "name": "python",
      "version": "3.6.9",
      "mimetype": "text/x-python",
      "codemirror_mode": {
        "name": "ipython",
        "version": 3
      },
      "pygments_lexer": "ipython3",
      "nbconvert_exporter": "python",
      "file_extension": ".py"
    },
    "kernel_info": {
      "name": "python3-azureml"
    },
    "microsoft": {
      "host": {
        "AzureML": {
          "notebookHasBeenCompleted": true
        }
      }
    },
    "nteract": {
      "version": "nteract-front-end@1.0.0"
    }
  },
  "nbformat": 4,
  "nbformat_minor": 2
}