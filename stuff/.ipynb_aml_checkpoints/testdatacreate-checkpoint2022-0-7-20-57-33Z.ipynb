{
  "cells": [
    {
      "cell_type": "code",
      "source": [
        "from azureml.core import Dataset\r\n",
        "from azureml.core import Workspace\r\n",
        "import datetime\r\n",
        "\r\n",
        "ws = Workspace.from_config()\r\n",
        "dataset = Dataset.get_by_name(ws, name='btc-raw')\r\n",
        "\r\n",
        "df = dataset.to_pandas_dataframe()\r\n",
        "df = df.rename(columns={\"Column1\": \"dateid\", \"Column2\": \"price\",\"Column3\":\"volume\"})\r\n",
        "df"
      ],
      "outputs": [
        {
          "output_type": "execute_result",
          "execution_count": 11,
          "data": {
            "text/plain": "            dateid    price    volume\n0       1426616869   290.00  3.045430\n1       1426685492   290.00  0.042517\n2       1426759978   290.00  2.521450\n3       1426760403   290.00  0.625478\n4       1426760423   290.00  4.521450\n...            ...      ...       ...\n198528  1532728105  7049.04  0.001698\n198529  1532728155  7049.04  0.200000\n198530  1532728155  7049.05  0.001698\n198531  1532728156  7049.05  0.198302\n198532  1532728404  7054.97  0.003544\n\n[198533 rows x 3 columns]",
            "text/html": "<div>\n<style scoped>\n    .dataframe tbody tr th:only-of-type {\n        vertical-align: middle;\n    }\n\n    .dataframe tbody tr th {\n        vertical-align: top;\n    }\n\n    .dataframe thead th {\n        text-align: right;\n    }\n</style>\n<table border=\"1\" class=\"dataframe\">\n  <thead>\n    <tr style=\"text-align: right;\">\n      <th></th>\n      <th>dateid</th>\n      <th>price</th>\n      <th>volume</th>\n    </tr>\n  </thead>\n  <tbody>\n    <tr>\n      <th>0</th>\n      <td>1426616869</td>\n      <td>290.00</td>\n      <td>3.045430</td>\n    </tr>\n    <tr>\n      <th>1</th>\n      <td>1426685492</td>\n      <td>290.00</td>\n      <td>0.042517</td>\n    </tr>\n    <tr>\n      <th>2</th>\n      <td>1426759978</td>\n      <td>290.00</td>\n      <td>2.521450</td>\n    </tr>\n    <tr>\n      <th>3</th>\n      <td>1426760403</td>\n      <td>290.00</td>\n      <td>0.625478</td>\n    </tr>\n    <tr>\n      <th>4</th>\n      <td>1426760423</td>\n      <td>290.00</td>\n      <td>4.521450</td>\n    </tr>\n    <tr>\n      <th>...</th>\n      <td>...</td>\n      <td>...</td>\n      <td>...</td>\n    </tr>\n    <tr>\n      <th>198528</th>\n      <td>1532728105</td>\n      <td>7049.04</td>\n      <td>0.001698</td>\n    </tr>\n    <tr>\n      <th>198529</th>\n      <td>1532728155</td>\n      <td>7049.04</td>\n      <td>0.200000</td>\n    </tr>\n    <tr>\n      <th>198530</th>\n      <td>1532728155</td>\n      <td>7049.05</td>\n      <td>0.001698</td>\n    </tr>\n    <tr>\n      <th>198531</th>\n      <td>1532728156</td>\n      <td>7049.05</td>\n      <td>0.198302</td>\n    </tr>\n    <tr>\n      <th>198532</th>\n      <td>1532728404</td>\n      <td>7054.97</td>\n      <td>0.003544</td>\n    </tr>\n  </tbody>\n</table>\n<p>198533 rows × 3 columns</p>\n</div>"
          },
          "metadata": {}
        }
      ],
      "execution_count": 11,
      "metadata": {
        "gather": {
          "logged": 1641577194853
        }
      }
    },
    {
      "cell_type": "code",
      "source": [
        "dateparse = lambda x: datetime.datetime.utcfromtimestamp(float(x))\r\n",
        "df['date'] = [dateparse(x) for x in df['dateid']]\r\n",
        "df = df.set_index('date')\r\n",
        "del df['dateid']\r\n",
        "df['ask'] = df['price']*1.01\r\n",
        "df['bid'] = df['price']*0.99\r\n",
        "df = df.reindex(columns=['price','ask','bid','volume'])\r\n",
        "df"
      ],
      "outputs": [
        {
          "output_type": "execute_result",
          "execution_count": 12,
          "data": {
            "text/plain": "                       price        ask        bid    volume\ndate                                                        \n2015-03-17 18:27:49   290.00   292.9000   287.1000  3.045430\n2015-03-18 13:31:32   290.00   292.9000   287.1000  0.042517\n2015-03-19 10:12:58   290.00   292.9000   287.1000  2.521450\n2015-03-19 10:20:03   290.00   292.9000   287.1000  0.625478\n2015-03-19 10:20:23   290.00   292.9000   287.1000  4.521450\n...                      ...        ...        ...       ...\n2018-07-27 21:48:25  7049.04  7119.5304  6978.5496  0.001698\n2018-07-27 21:49:15  7049.04  7119.5304  6978.5496  0.200000\n2018-07-27 21:49:15  7049.05  7119.5405  6978.5595  0.001698\n2018-07-27 21:49:16  7049.05  7119.5405  6978.5595  0.198302\n2018-07-27 21:53:24  7054.97  7125.5197  6984.4203  0.003544\n\n[198533 rows x 4 columns]",
            "text/html": "<div>\n<style scoped>\n    .dataframe tbody tr th:only-of-type {\n        vertical-align: middle;\n    }\n\n    .dataframe tbody tr th {\n        vertical-align: top;\n    }\n\n    .dataframe thead th {\n        text-align: right;\n    }\n</style>\n<table border=\"1\" class=\"dataframe\">\n  <thead>\n    <tr style=\"text-align: right;\">\n      <th></th>\n      <th>price</th>\n      <th>ask</th>\n      <th>bid</th>\n      <th>volume</th>\n    </tr>\n    <tr>\n      <th>date</th>\n      <th></th>\n      <th></th>\n      <th></th>\n      <th></th>\n    </tr>\n  </thead>\n  <tbody>\n    <tr>\n      <th>2015-03-17 18:27:49</th>\n      <td>290.00</td>\n      <td>292.9000</td>\n      <td>287.1000</td>\n      <td>3.045430</td>\n    </tr>\n    <tr>\n      <th>2015-03-18 13:31:32</th>\n      <td>290.00</td>\n      <td>292.9000</td>\n      <td>287.1000</td>\n      <td>0.042517</td>\n    </tr>\n    <tr>\n      <th>2015-03-19 10:12:58</th>\n      <td>290.00</td>\n      <td>292.9000</td>\n      <td>287.1000</td>\n      <td>2.521450</td>\n    </tr>\n    <tr>\n      <th>2015-03-19 10:20:03</th>\n      <td>290.00</td>\n      <td>292.9000</td>\n      <td>287.1000</td>\n      <td>0.625478</td>\n    </tr>\n    <tr>\n      <th>2015-03-19 10:20:23</th>\n      <td>290.00</td>\n      <td>292.9000</td>\n      <td>287.1000</td>\n      <td>4.521450</td>\n    </tr>\n    <tr>\n      <th>...</th>\n      <td>...</td>\n      <td>...</td>\n      <td>...</td>\n      <td>...</td>\n    </tr>\n    <tr>\n      <th>2018-07-27 21:48:25</th>\n      <td>7049.04</td>\n      <td>7119.5304</td>\n      <td>6978.5496</td>\n      <td>0.001698</td>\n    </tr>\n    <tr>\n      <th>2018-07-27 21:49:15</th>\n      <td>7049.04</td>\n      <td>7119.5304</td>\n      <td>6978.5496</td>\n      <td>0.200000</td>\n    </tr>\n    <tr>\n      <th>2018-07-27 21:49:15</th>\n      <td>7049.05</td>\n      <td>7119.5405</td>\n      <td>6978.5595</td>\n      <td>0.001698</td>\n    </tr>\n    <tr>\n      <th>2018-07-27 21:49:16</th>\n      <td>7049.05</td>\n      <td>7119.5405</td>\n      <td>6978.5595</td>\n      <td>0.198302</td>\n    </tr>\n    <tr>\n      <th>2018-07-27 21:53:24</th>\n      <td>7054.97</td>\n      <td>7125.5197</td>\n      <td>6984.4203</td>\n      <td>0.003544</td>\n    </tr>\n  </tbody>\n</table>\n<p>198533 rows × 4 columns</p>\n</div>"
          },
          "metadata": {}
        }
      ],
      "execution_count": 12,
      "metadata": {
        "jupyter": {
          "source_hidden": false,
          "outputs_hidden": false
        },
        "nteract": {
          "transient": {
            "deleting": false
          }
        },
        "gather": {
          "logged": 1641577200220
        }
      }
    },
    {
      "cell_type": "code",
      "source": [
        "#df['prev'] = df['price'].rolling(2).apply(lambda x: (x[1]/x[0])-1 ,raw=True)\r\n",
        "    \r\n",
        "#df['ma100']=df['price']/df['price'].rolling(10).mean()-1\r\n",
        "df['ma10001']=df['price']/df['price'].rolling('60s').mean()-1\r\n",
        "#df['ma10002']=df['price']/df['price'].rolling('60s').max()-1\r\n",
        "#df['ma10003']=df['price']/df['price'].rolling('60s').min()-1\r\n",
        "\r\n",
        "df['ma1000x1']=df['price']/df['price'].rolling('1h').mean()-1\r\n",
        "df['ma1000x2']=df['price']/df['price'].rolling('1h').max()-1\r\n",
        "df['ma1000x3']=df['price']/df['price'].rolling('1h').min()-1\r\n",
        "\r\n",
        "df['ma1000y1']=df['price']/df['price'].rolling('10h').mean()-1\r\n",
        "#df['ma1000y2']=df['price']/df['price'].rolling('10h').max()-1\r\n",
        "#df['ma1000y3']=df['price']/df['price'].rolling('10h').min()-1\r\n",
        "\r\n",
        "df['ma100001']=df['price']/df['price'].rolling('1D').mean()-1\r\n",
        "#df['ma100002']=df['price']/df['price'].rolling('1D').max()-1\r\n",
        "#df['ma100003']=df['price']/df['price'].rolling('1D').min()-1\r\n",
        "df['ma1']=df['price']/df['price'].rolling('10D').mean()-1\r\n",
        "#df['ma2']=df['price']/df['price'].rolling('10D').max()-1\r\n",
        "#df['ma3']=df['price']/df['price'].rolling('10D').min()-1\r\n",
        "df['ma4'] = df['ma1'] / df['price'].rolling('10D').std()\r\n",
        "df['mafff1']=df['price']/df['price'].rolling('20D').mean()-1\r\n",
        "df['mafff2']=df['price']/df['price'].rolling('20D').max()-1\r\n",
        "df['mafff3']=df['price']/df['price'].rolling('20D').min()-1\r\n",
        "df['mafff4'] = df['mafff1'] / df['price'].rolling('20D').std()\r\n",
        "df = df.dropna()\r\n",
        "df"
      ],
      "outputs": [
        {
          "output_type": "execute_result",
          "execution_count": 14,
          "data": {
            "text/plain": "                       price        ask        bid    volume       ma10001  \\\ndate                                                                         \n2015-03-20 09:34:51   270.00   272.7000   267.3000  0.062515  0.000000e+00   \n2015-03-20 14:24:27   270.00   272.7000   267.3000  0.142156  0.000000e+00   \n2015-03-20 16:27:46   270.00   272.7000   267.3000  0.483361  0.000000e+00   \n2015-03-21 22:42:41   270.00   272.7000   267.3000  0.250000  0.000000e+00   \n2015-03-22 16:43:15   270.00   272.7000   267.3000  0.173080  0.000000e+00   \n...                      ...        ...        ...       ...           ...   \n2018-07-27 21:48:25  7049.04  7119.5304  6978.5496  0.001698 -1.797451e-13   \n2018-07-27 21:49:15  7049.04  7119.5304  6978.5496  0.200000 -2.695622e-13   \n2018-07-27 21:49:15  7049.05  7119.5405  6978.5595  0.001698  9.457546e-07   \n2018-07-27 21:49:16  7049.05  7119.5405  6978.5595  0.198302  7.093158e-07   \n2018-07-27 21:53:24  7054.97  7125.5197  6984.4203  0.003544 -5.381251e-13   \n\n                     ma1000x1  ma1000x2  ma1000x3  ma1000y1  ma100001  \\\ndate                                                                    \n2015-03-20 09:34:51  0.000000       0.0  0.000000  0.000000 -0.061776   \n2015-03-20 14:24:27  0.000000       0.0  0.000000  0.000000  0.000000   \n2015-03-20 16:27:46  0.000000       0.0  0.000000  0.000000  0.000000   \n2015-03-21 22:42:41  0.000000       0.0  0.000000  0.000000  0.000000   \n2015-03-22 16:43:15  0.000000       0.0  0.000000  0.000000  0.000000   \n...                       ...       ...       ...       ...       ...   \n2018-07-27 21:48:25  0.000755       0.0  0.001276  0.020358  0.024152   \n2018-07-27 21:49:15  0.000730       0.0  0.001276  0.020288  0.024101   \n2018-07-27 21:49:15  0.000707       0.0  0.001277  0.020221  0.024051   \n2018-07-27 21:49:16  0.000685       0.0  0.001277  0.020152  0.024000   \n2018-07-27 21:53:24  0.001459       0.0  0.002118  0.020907  0.024812   \n\n                          ma1       ma4    mafff1    mafff2    mafff3  \\\ndate                                                                    \n2015-03-20 09:34:51 -0.063091 -0.010463 -0.063091 -0.068966  0.000000   \n2015-03-20 14:24:27 -0.058140 -0.007468 -0.058140 -0.068966  0.000000   \n2015-03-20 16:27:46 -0.053908 -0.006146 -0.053908 -0.068966  0.000000   \n2015-03-21 22:42:41 -0.050251 -0.005359 -0.050251 -0.068966  0.000000   \n2015-03-22 16:43:15 -0.047059 -0.004822 -0.047059 -0.068966  0.000000   \n...                       ...       ...       ...       ...       ...   \n2018-07-27 21:48:25  0.069627  0.000218  0.155064 -0.035374  0.409805   \n2018-07-27 21:49:15  0.069614  0.000217  0.155046 -0.035374  0.409805   \n2018-07-27 21:49:15  0.069602  0.000217  0.155030 -0.035373  0.409807   \n2018-07-27 21:49:16  0.069588  0.000217  0.155012 -0.035373  0.409807   \n2018-07-27 21:53:24  0.070386  0.000220  0.155945 -0.034563  0.410991   \n\n                       mafff4  \ndate                           \n2015-03-20 09:34:51 -0.010463  \n2015-03-20 14:24:27 -0.007468  \n2015-03-20 16:27:46 -0.006146  \n2015-03-21 22:42:41 -0.005359  \n2015-03-22 16:43:15 -0.004822  \n...                       ...  \n2018-07-27 21:48:25  0.000263  \n2018-07-27 21:49:15  0.000263  \n2018-07-27 21:49:15  0.000263  \n2018-07-27 21:49:16  0.000263  \n2018-07-27 21:53:24  0.000265  \n\n[198520 rows x 16 columns]",
            "text/html": "<div>\n<style scoped>\n    .dataframe tbody tr th:only-of-type {\n        vertical-align: middle;\n    }\n\n    .dataframe tbody tr th {\n        vertical-align: top;\n    }\n\n    .dataframe thead th {\n        text-align: right;\n    }\n</style>\n<table border=\"1\" class=\"dataframe\">\n  <thead>\n    <tr style=\"text-align: right;\">\n      <th></th>\n      <th>price</th>\n      <th>ask</th>\n      <th>bid</th>\n      <th>volume</th>\n      <th>ma10001</th>\n      <th>ma1000x1</th>\n      <th>ma1000x2</th>\n      <th>ma1000x3</th>\n      <th>ma1000y1</th>\n      <th>ma100001</th>\n      <th>ma1</th>\n      <th>ma4</th>\n      <th>mafff1</th>\n      <th>mafff2</th>\n      <th>mafff3</th>\n      <th>mafff4</th>\n    </tr>\n    <tr>\n      <th>date</th>\n      <th></th>\n      <th></th>\n      <th></th>\n      <th></th>\n      <th></th>\n      <th></th>\n      <th></th>\n      <th></th>\n      <th></th>\n      <th></th>\n      <th></th>\n      <th></th>\n      <th></th>\n      <th></th>\n      <th></th>\n      <th></th>\n    </tr>\n  </thead>\n  <tbody>\n    <tr>\n      <th>2015-03-20 09:34:51</th>\n      <td>270.00</td>\n      <td>272.7000</td>\n      <td>267.3000</td>\n      <td>0.062515</td>\n      <td>0.000000e+00</td>\n      <td>0.000000</td>\n      <td>0.0</td>\n      <td>0.000000</td>\n      <td>0.000000</td>\n      <td>-0.061776</td>\n      <td>-0.063091</td>\n      <td>-0.010463</td>\n      <td>-0.063091</td>\n      <td>-0.068966</td>\n      <td>0.000000</td>\n      <td>-0.010463</td>\n    </tr>\n    <tr>\n      <th>2015-03-20 14:24:27</th>\n      <td>270.00</td>\n      <td>272.7000</td>\n      <td>267.3000</td>\n      <td>0.142156</td>\n      <td>0.000000e+00</td>\n      <td>0.000000</td>\n      <td>0.0</td>\n      <td>0.000000</td>\n      <td>0.000000</td>\n      <td>0.000000</td>\n      <td>-0.058140</td>\n      <td>-0.007468</td>\n      <td>-0.058140</td>\n      <td>-0.068966</td>\n      <td>0.000000</td>\n      <td>-0.007468</td>\n    </tr>\n    <tr>\n      <th>2015-03-20 16:27:46</th>\n      <td>270.00</td>\n      <td>272.7000</td>\n      <td>267.3000</td>\n      <td>0.483361</td>\n      <td>0.000000e+00</td>\n      <td>0.000000</td>\n      <td>0.0</td>\n      <td>0.000000</td>\n      <td>0.000000</td>\n      <td>0.000000</td>\n      <td>-0.053908</td>\n      <td>-0.006146</td>\n      <td>-0.053908</td>\n      <td>-0.068966</td>\n      <td>0.000000</td>\n      <td>-0.006146</td>\n    </tr>\n    <tr>\n      <th>2015-03-21 22:42:41</th>\n      <td>270.00</td>\n      <td>272.7000</td>\n      <td>267.3000</td>\n      <td>0.250000</td>\n      <td>0.000000e+00</td>\n      <td>0.000000</td>\n      <td>0.0</td>\n      <td>0.000000</td>\n      <td>0.000000</td>\n      <td>0.000000</td>\n      <td>-0.050251</td>\n      <td>-0.005359</td>\n      <td>-0.050251</td>\n      <td>-0.068966</td>\n      <td>0.000000</td>\n      <td>-0.005359</td>\n    </tr>\n    <tr>\n      <th>2015-03-22 16:43:15</th>\n      <td>270.00</td>\n      <td>272.7000</td>\n      <td>267.3000</td>\n      <td>0.173080</td>\n      <td>0.000000e+00</td>\n      <td>0.000000</td>\n      <td>0.0</td>\n      <td>0.000000</td>\n      <td>0.000000</td>\n      <td>0.000000</td>\n      <td>-0.047059</td>\n      <td>-0.004822</td>\n      <td>-0.047059</td>\n      <td>-0.068966</td>\n      <td>0.000000</td>\n      <td>-0.004822</td>\n    </tr>\n    <tr>\n      <th>...</th>\n      <td>...</td>\n      <td>...</td>\n      <td>...</td>\n      <td>...</td>\n      <td>...</td>\n      <td>...</td>\n      <td>...</td>\n      <td>...</td>\n      <td>...</td>\n      <td>...</td>\n      <td>...</td>\n      <td>...</td>\n      <td>...</td>\n      <td>...</td>\n      <td>...</td>\n      <td>...</td>\n    </tr>\n    <tr>\n      <th>2018-07-27 21:48:25</th>\n      <td>7049.04</td>\n      <td>7119.5304</td>\n      <td>6978.5496</td>\n      <td>0.001698</td>\n      <td>-1.797451e-13</td>\n      <td>0.000755</td>\n      <td>0.0</td>\n      <td>0.001276</td>\n      <td>0.020358</td>\n      <td>0.024152</td>\n      <td>0.069627</td>\n      <td>0.000218</td>\n      <td>0.155064</td>\n      <td>-0.035374</td>\n      <td>0.409805</td>\n      <td>0.000263</td>\n    </tr>\n    <tr>\n      <th>2018-07-27 21:49:15</th>\n      <td>7049.04</td>\n      <td>7119.5304</td>\n      <td>6978.5496</td>\n      <td>0.200000</td>\n      <td>-2.695622e-13</td>\n      <td>0.000730</td>\n      <td>0.0</td>\n      <td>0.001276</td>\n      <td>0.020288</td>\n      <td>0.024101</td>\n      <td>0.069614</td>\n      <td>0.000217</td>\n      <td>0.155046</td>\n      <td>-0.035374</td>\n      <td>0.409805</td>\n      <td>0.000263</td>\n    </tr>\n    <tr>\n      <th>2018-07-27 21:49:15</th>\n      <td>7049.05</td>\n      <td>7119.5405</td>\n      <td>6978.5595</td>\n      <td>0.001698</td>\n      <td>9.457546e-07</td>\n      <td>0.000707</td>\n      <td>0.0</td>\n      <td>0.001277</td>\n      <td>0.020221</td>\n      <td>0.024051</td>\n      <td>0.069602</td>\n      <td>0.000217</td>\n      <td>0.155030</td>\n      <td>-0.035373</td>\n      <td>0.409807</td>\n      <td>0.000263</td>\n    </tr>\n    <tr>\n      <th>2018-07-27 21:49:16</th>\n      <td>7049.05</td>\n      <td>7119.5405</td>\n      <td>6978.5595</td>\n      <td>0.198302</td>\n      <td>7.093158e-07</td>\n      <td>0.000685</td>\n      <td>0.0</td>\n      <td>0.001277</td>\n      <td>0.020152</td>\n      <td>0.024000</td>\n      <td>0.069588</td>\n      <td>0.000217</td>\n      <td>0.155012</td>\n      <td>-0.035373</td>\n      <td>0.409807</td>\n      <td>0.000263</td>\n    </tr>\n    <tr>\n      <th>2018-07-27 21:53:24</th>\n      <td>7054.97</td>\n      <td>7125.5197</td>\n      <td>6984.4203</td>\n      <td>0.003544</td>\n      <td>-5.381251e-13</td>\n      <td>0.001459</td>\n      <td>0.0</td>\n      <td>0.002118</td>\n      <td>0.020907</td>\n      <td>0.024812</td>\n      <td>0.070386</td>\n      <td>0.000220</td>\n      <td>0.155945</td>\n      <td>-0.034563</td>\n      <td>0.410991</td>\n      <td>0.000265</td>\n    </tr>\n  </tbody>\n</table>\n<p>198520 rows × 16 columns</p>\n</div>"
          },
          "metadata": {}
        }
      ],
      "execution_count": 14,
      "metadata": {
        "jupyter": {
          "source_hidden": false,
          "outputs_hidden": false
        },
        "nteract": {
          "transient": {
            "deleting": false
          }
        },
        "gather": {
          "logged": 1641577236006
        }
      }
    }
  ],
  "metadata": {
    "kernelspec": {
      "name": "python3-azureml",
      "language": "python",
      "display_name": "Python 3.6 - AzureML"
    },
    "language_info": {
      "name": "python",
      "version": "3.6.9",
      "mimetype": "text/x-python",
      "codemirror_mode": {
        "name": "ipython",
        "version": 3
      },
      "pygments_lexer": "ipython3",
      "nbconvert_exporter": "python",
      "file_extension": ".py"
    },
    "kernel_info": {
      "name": "python3-azureml"
    },
    "microsoft": {
      "host": {
        "AzureML": {
          "notebookHasBeenCompleted": true
        }
      }
    },
    "nteract": {
      "version": "nteract-front-end@1.0.0"
    }
  },
  "nbformat": 4,
  "nbformat_minor": 2
}