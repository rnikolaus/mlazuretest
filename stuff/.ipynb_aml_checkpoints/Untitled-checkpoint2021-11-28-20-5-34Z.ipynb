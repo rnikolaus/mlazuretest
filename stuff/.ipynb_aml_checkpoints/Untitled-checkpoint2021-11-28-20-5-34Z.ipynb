{
  "cells": [
    {
      "cell_type": "code",
      "source": [
        "import matplotlib.pyplot as plt\r\n",
        "import numpy as np\r\n",
        "import pandas as pd\r\n",
        "import random\r\n",
        "from enum import Enum\r\n",
        "import datetime\r\n",
        "import gym\r\n",
        "from gym import spaces\r\n",
        "#from dqn import DQN\r\n",
        "#from utils import tradeclass\r\n",
        "#from utils import BCTrade\r\n",
        "\r\n",
        "from azureml.contrib.train.rl import ReinforcementLearningEstimator, Ray\r\n",
        "from azureml.core.environment import Environment"
      ],
      "outputs": [],
      "execution_count": 2,
      "metadata": {
        "gather": {
          "logged": 1640717435391
        }
      }
    },
    {
      "cell_type": "code",
      "source": [
        "from files import BCTrade_utils\r\n",
        "\r\n",
        "BCTrade_utils.registerBCTrade()"
      ],
      "outputs": [],
      "execution_count": 4,
      "metadata": {
        "jupyter": {
          "source_hidden": false,
          "outputs_hidden": false
        },
        "nteract": {
          "transient": {
            "deleting": false
          }
        },
        "gather": {
          "logged": 1640717500532
        }
      }
    },
    {
      "cell_type": "code",
      "source": [
        "import ray\r\n",
        "from ray import tune\r\n",
        "\r\n",
        "#ray.init()\r\n",
        "tune.run(\r\n",
        "    \"PPO\",\r\n",
        "    stop={\"training_iteration\": 10,\"episode_reward_mean\": 10},\r\n",
        "    checkpoint_at_end=True,\r\n",
        "    config={\r\n",
        "        #\"env\": \"CartPole-v0\",\r\n",
        "        \"env\": \"BCTrade\",\r\n",
        "        \"num_gpus\": 0,\r\n",
        "        \"num_workers\": 1,\r\n",
        "        #\"keep_checkpoints_num\":1,\r\n",
        "       \r\n",
        "        #\"lr\": tune.grid_search([0.01]),\r\n",
        "        #\"lr\": tune.grid_search([0.01, 0.001, 0.0001]),\r\n",
        "    },\r\n",
        ")"
      ],
      "outputs": [
        {
          "output_type": "display_data",
          "data": {
            "text/plain": "<IPython.core.display.HTML object>",
            "text/html": "== Status ==<br>Current time: 2021-12-28 18:57:15 (running for 00:00:00.12)<br>Memory usage on this node: 3.0/13.7 GiB<br>Using FIFO scheduling algorithm.<br>Resources requested: 0/4 CPUs, 0/0 GPUs, 0.0/6.71 GiB heap, 0.0/3.36 GiB objects<br>Result logdir: /home/azureuser/ray_results/PPO<br>Number of trials: 1/1 (1 PENDING)<br><table>\n<thead>\n<tr><th>Trial name             </th><th>status  </th><th>loc  </th></tr>\n</thead>\n<tbody>\n<tr><td>PPO_BCTrade_f8f93_00000</td><td>PENDING </td><td>     </td></tr>\n</tbody>\n</table><br><br>"
          },
          "metadata": {}
        },
        {
          "output_type": "stream",
          "name": "stderr",
          "text": "\u001b[2m\u001b[36m(pid=17062)\u001b[0m 2021-12-28 18:57:19,679\tINFO trainer.py:753 -- Tip: set framework=tfe or the --eager flag to enable TensorFlow eager execution\n\u001b[2m\u001b[36m(pid=17062)\u001b[0m 2021-12-28 18:57:19,679\tINFO ppo.py:167 -- In multi-agent mode, policies will be optimized sequentially by the multi-GPU optimizer. Consider setting simple_optimizer=True if this doesn't work for you.\n\u001b[2m\u001b[36m(pid=17062)\u001b[0m 2021-12-28 18:57:19,679\tINFO trainer.py:772 -- Current log_level is WARN. For more information, set 'log_level': 'INFO' / 'DEBUG' or use the -v and -vv flags.\n\u001b[2m\u001b[36m(pid=17065)\u001b[0m /anaconda/envs/azureml_py36/lib/python3.6/site-packages/gym/spaces/box.py:74: UserWarning: \u001b[33mWARN: Box bound precision lowered by casting to float32\u001b[0m\n\u001b[2m\u001b[36m(pid=17065)\u001b[0m   \"Box bound precision lowered by casting to {}\".format(self.dtype)\n\u001b[2m\u001b[36m(pid=17065)\u001b[0m WARNING:tensorflow:From /anaconda/envs/azureml_py36/lib/python3.6/site-packages/tensorflow_core/python/ops/resource_variable_ops.py:1635: calling BaseResourceVariable.__init__ (from tensorflow.python.ops.resource_variable_ops) with constraint is deprecated and will be removed in a future version.\n\u001b[2m\u001b[36m(pid=17065)\u001b[0m Instructions for updating:\n\u001b[2m\u001b[36m(pid=17065)\u001b[0m If using Keras pass *_constraint arguments to layers.\n\u001b[2m\u001b[36m(pid=17065)\u001b[0m 2021-12-28 18:57:25,249\tWARNING deprecation.py:39 -- DeprecationWarning: `SampleBatch['is_training']` has been deprecated. Use `SampleBatch.is_training` instead. This will raise an error in the future!\n\u001b[2m\u001b[36m(pid=17062)\u001b[0m WARNING:tensorflow:From /anaconda/envs/azureml_py36/lib/python3.6/site-packages/tensorflow_core/python/ops/resource_variable_ops.py:1635: calling BaseResourceVariable.__init__ (from tensorflow.python.ops.resource_variable_ops) with constraint is deprecated and will be removed in a future version.\n\u001b[2m\u001b[36m(pid=17062)\u001b[0m Instructions for updating:\n\u001b[2m\u001b[36m(pid=17062)\u001b[0m If using Keras pass *_constraint arguments to layers.\n\u001b[2m\u001b[36m(pid=17062)\u001b[0m 2021-12-28 18:57:27,082\tWARNING deprecation.py:39 -- DeprecationWarning: `SampleBatch['is_training']` has been deprecated. Use `SampleBatch.is_training` instead. This will raise an error in the future!\n"
        },
        {
          "output_type": "display_data",
          "data": {
            "text/plain": "<IPython.core.display.HTML object>",
            "text/html": "== Status ==<br>Current time: 2021-12-28 18:57:28 (running for 00:00:12.77)<br>Memory usage on this node: 4.0/13.7 GiB<br>Using FIFO scheduling algorithm.<br>Resources requested: 2.0/4 CPUs, 0/0 GPUs, 0.0/6.71 GiB heap, 0.0/3.36 GiB objects<br>Result logdir: /home/azureuser/ray_results/PPO<br>Number of trials: 1/1 (1 RUNNING)<br><table>\n<thead>\n<tr><th>Trial name             </th><th>status  </th><th>loc           </th></tr>\n</thead>\n<tbody>\n<tr><td>PPO_BCTrade_f8f93_00000</td><td>RUNNING </td><td>10.0.0.4:17062</td></tr>\n</tbody>\n</table><br><br>"
          },
          "metadata": {}
        },
        {
          "output_type": "stream",
          "name": "stderr",
          "text": "\u001b[2m\u001b[36m(pid=17062)\u001b[0m 2021-12-28 18:57:27,980\tWARNING trainer_template.py:186 -- `execution_plan` functions should accept `trainer`, `workers`, and `config` as args!\n\u001b[2m\u001b[36m(pid=17062)\u001b[0m 2021-12-28 18:57:28,010\tWARNING util.py:57 -- Install gputil for GPU system monitoring.\n"
        },
        {
          "output_type": "display_data",
          "data": {
            "text/plain": "<IPython.core.display.HTML object>",
            "text/html": "== Status ==<br>Current time: 2021-12-28 18:57:29 (running for 00:00:13.78)<br>Memory usage on this node: 4.0/13.7 GiB<br>Using FIFO scheduling algorithm.<br>Resources requested: 2.0/4 CPUs, 0/0 GPUs, 0.0/6.71 GiB heap, 0.0/3.36 GiB objects<br>Result logdir: /home/azureuser/ray_results/PPO<br>Number of trials: 1/1 (1 RUNNING)<br><table>\n<thead>\n<tr><th>Trial name             </th><th>status  </th><th>loc           </th></tr>\n</thead>\n<tbody>\n<tr><td>PPO_BCTrade_f8f93_00000</td><td>RUNNING </td><td>10.0.0.4:17062</td></tr>\n</tbody>\n</table><br><br>"
          },
          "metadata": {}
        },
        {
          "output_type": "display_data",
          "data": {
            "text/plain": "<IPython.core.display.HTML object>",
            "text/html": "== Status ==<br>Current time: 2021-12-28 18:57:34 (running for 00:00:18.79)<br>Memory usage on this node: 3.9/13.7 GiB<br>Using FIFO scheduling algorithm.<br>Resources requested: 2.0/4 CPUs, 0/0 GPUs, 0.0/6.71 GiB heap, 0.0/3.36 GiB objects<br>Result logdir: /home/azureuser/ray_results/PPO<br>Number of trials: 1/1 (1 RUNNING)<br><table>\n<thead>\n<tr><th>Trial name             </th><th>status  </th><th>loc           </th></tr>\n</thead>\n<tbody>\n<tr><td>PPO_BCTrade_f8f93_00000</td><td>RUNNING </td><td>10.0.0.4:17062</td></tr>\n</tbody>\n</table><br><br>"
          },
          "metadata": {}
        },
        {
          "output_type": "display_data",
          "data": {
            "text/plain": "<IPython.core.display.HTML object>",
            "text/html": "== Status ==<br>Current time: 2021-12-28 18:57:39 (running for 00:00:23.80)<br>Memory usage on this node: 3.9/13.7 GiB<br>Using FIFO scheduling algorithm.<br>Resources requested: 2.0/4 CPUs, 0/0 GPUs, 0.0/6.71 GiB heap, 0.0/3.36 GiB objects<br>Result logdir: /home/azureuser/ray_results/PPO<br>Number of trials: 1/1 (1 RUNNING)<br><table>\n<thead>\n<tr><th>Trial name             </th><th>status  </th><th>loc           </th></tr>\n</thead>\n<tbody>\n<tr><td>PPO_BCTrade_f8f93_00000</td><td>RUNNING </td><td>10.0.0.4:17062</td></tr>\n</tbody>\n</table><br><br>"
          },
          "metadata": {}
        },
        {
          "output_type": "stream",
          "name": "stderr",
          "text": "\u001b[2m\u001b[36m(pid=17062)\u001b[0m 2021-12-28 18:57:41,194\tWARNING deprecation.py:39 -- DeprecationWarning: `slice` has been deprecated. Use `SampleBatch[start:stop]` instead. This will raise an error in the future!\n"
        },
        {
          "output_type": "display_data",
          "data": {
            "text/plain": "<IPython.core.display.HTML object>",
            "text/html": "== Status ==<br>Current time: 2021-12-28 18:57:44 (running for 00:00:28.82)<br>Memory usage on this node: 3.9/13.7 GiB<br>Using FIFO scheduling algorithm.<br>Resources requested: 2.0/4 CPUs, 0/0 GPUs, 0.0/6.71 GiB heap, 0.0/3.36 GiB objects<br>Result logdir: /home/azureuser/ray_results/PPO<br>Number of trials: 1/1 (1 RUNNING)<br><table>\n<thead>\n<tr><th>Trial name             </th><th>status  </th><th>loc           </th></tr>\n</thead>\n<tbody>\n<tr><td>PPO_BCTrade_f8f93_00000</td><td>RUNNING </td><td>10.0.0.4:17062</td></tr>\n</tbody>\n</table><br><br>"
          },
          "metadata": {}
        },
        {
          "output_type": "stream",
          "name": "stdout",
          "text": "Result for PPO_BCTrade_f8f93_00000:\n  agent_timesteps_total: 4000\n  custom_metrics: {}\n  date: 2021-12-28_18-57-44\n  done: false\n  episode_len_mean: 7.840551181102362\n  episode_media: {}\n  episode_reward_max: 1.4965753424657535\n  episode_reward_mean: -0.0016404130486007873\n  episode_reward_min: -1.0\n  episodes_this_iter: 508\n  episodes_total: 508\n  experiment_id: 7e0b731486b04a739f042481dc63f287\n  hostname: rnikolaus1\n  info:\n    learner:\n      default_policy:\n        custom_metrics: {}\n        learner_stats:\n          cur_kl_coeff: 0.20000000298023224\n          cur_lr: 4.999999873689376e-05\n          entropy: 1.3820300102233887\n          entropy_coeff: 0.0\n          kl: 0.004186244215816259\n          model: {}\n          policy_loss: -0.0031470940448343754\n          total_loss: 0.007869225926697254\n          vf_explained_var: -0.019956929609179497\n          vf_loss: 0.010179072618484497\n    num_agent_steps_sampled: 4000\n    num_agent_steps_trained: 4000\n    num_steps_sampled: 4000\n    num_steps_trained: 4000\n  iterations_since_restore: 1\n  node_ip: 10.0.0.4\n  num_healthy_workers: 1\n  off_policy_estimator: {}\n  perf:\n    cpu_util_percent: 34.21666666666667\n    ram_util_percent: 28.599999999999998\n  pid: 17062\n  policy_reward_max: {}\n  policy_reward_mean: {}\n  policy_reward_min: {}\n  sampler_perf:\n    mean_action_processing_ms: 0.05970034590961636\n    mean_env_render_ms: 0.0\n    mean_env_wait_ms: 1.7729161888681269\n    mean_inference_ms: 1.1284552166325486\n    mean_raw_obs_processing_ms: 0.31281876224364324\n  time_since_restore: 16.73919415473938\n  time_this_iter_s: 16.73919415473938\n  time_total_s: 16.73919415473938\n  timers:\n    learn_throughput: 1134.745\n    learn_time_ms: 3525.02\n    load_throughput: 8905104.034\n    load_time_ms: 0.449\n    sample_throughput: 302.722\n    sample_time_ms: 13213.449\n    update_time_ms: 2.546\n  timestamp: 1640717864\n  timesteps_since_restore: 0\n  timesteps_this_iter: 0\n  timesteps_total: 4000\n  training_iteration: 1\n  trial_id: f8f93_00000\n  \n"
        },
        {
          "output_type": "display_data",
          "data": {
            "text/plain": "<IPython.core.display.HTML object>",
            "text/html": "== Status ==<br>Current time: 2021-12-28 18:57:49 (running for 00:00:34.56)<br>Memory usage on this node: 3.9/13.7 GiB<br>Using FIFO scheduling algorithm.<br>Resources requested: 2.0/4 CPUs, 0/0 GPUs, 0.0/6.71 GiB heap, 0.0/3.36 GiB objects<br>Result logdir: /home/azureuser/ray_results/PPO<br>Number of trials: 1/1 (1 RUNNING)<br><table>\n<thead>\n<tr><th>Trial name             </th><th>status  </th><th>loc           </th><th style=\"text-align: right;\">  iter</th><th style=\"text-align: right;\">  total time (s)</th><th style=\"text-align: right;\">  ts</th><th style=\"text-align: right;\">     reward</th><th style=\"text-align: right;\">  episode_reward_max</th><th style=\"text-align: right;\">  episode_reward_min</th><th style=\"text-align: right;\">  episode_len_mean</th></tr>\n</thead>\n<tbody>\n<tr><td>PPO_BCTrade_f8f93_00000</td><td>RUNNING </td><td>10.0.0.4:17062</td><td style=\"text-align: right;\">     1</td><td style=\"text-align: right;\">         16.7392</td><td style=\"text-align: right;\">4000</td><td style=\"text-align: right;\">-0.00164041</td><td style=\"text-align: right;\">             1.49658</td><td style=\"text-align: right;\">                  -1</td><td style=\"text-align: right;\">           7.84055</td></tr>\n</tbody>\n</table><br><br>"
          },
          "metadata": {}
        },
        {
          "output_type": "display_data",
          "data": {
            "text/plain": "<IPython.core.display.HTML object>",
            "text/html": "== Status ==<br>Current time: 2021-12-28 18:57:54 (running for 00:00:39.57)<br>Memory usage on this node: 3.9/13.7 GiB<br>Using FIFO scheduling algorithm.<br>Resources requested: 2.0/4 CPUs, 0/0 GPUs, 0.0/6.71 GiB heap, 0.0/3.36 GiB objects<br>Result logdir: /home/azureuser/ray_results/PPO<br>Number of trials: 1/1 (1 RUNNING)<br><table>\n<thead>\n<tr><th>Trial name             </th><th>status  </th><th>loc           </th><th style=\"text-align: right;\">  iter</th><th style=\"text-align: right;\">  total time (s)</th><th style=\"text-align: right;\">  ts</th><th style=\"text-align: right;\">     reward</th><th style=\"text-align: right;\">  episode_reward_max</th><th style=\"text-align: right;\">  episode_reward_min</th><th style=\"text-align: right;\">  episode_len_mean</th></tr>\n</thead>\n<tbody>\n<tr><td>PPO_BCTrade_f8f93_00000</td><td>RUNNING </td><td>10.0.0.4:17062</td><td style=\"text-align: right;\">     1</td><td style=\"text-align: right;\">         16.7392</td><td style=\"text-align: right;\">4000</td><td style=\"text-align: right;\">-0.00164041</td><td style=\"text-align: right;\">             1.49658</td><td style=\"text-align: right;\">                  -1</td><td style=\"text-align: right;\">           7.84055</td></tr>\n</tbody>\n</table><br><br>"
          },
          "metadata": {}
        },
        {
          "output_type": "display_data",
          "data": {
            "text/plain": "<IPython.core.display.HTML object>",
            "text/html": "== Status ==<br>Current time: 2021-12-28 18:57:59 (running for 00:00:44.58)<br>Memory usage on this node: 3.9/13.7 GiB<br>Using FIFO scheduling algorithm.<br>Resources requested: 2.0/4 CPUs, 0/0 GPUs, 0.0/6.71 GiB heap, 0.0/3.36 GiB objects<br>Result logdir: /home/azureuser/ray_results/PPO<br>Number of trials: 1/1 (1 RUNNING)<br><table>\n<thead>\n<tr><th>Trial name             </th><th>status  </th><th>loc           </th><th style=\"text-align: right;\">  iter</th><th style=\"text-align: right;\">  total time (s)</th><th style=\"text-align: right;\">  ts</th><th style=\"text-align: right;\">     reward</th><th style=\"text-align: right;\">  episode_reward_max</th><th style=\"text-align: right;\">  episode_reward_min</th><th style=\"text-align: right;\">  episode_len_mean</th></tr>\n</thead>\n<tbody>\n<tr><td>PPO_BCTrade_f8f93_00000</td><td>RUNNING </td><td>10.0.0.4:17062</td><td style=\"text-align: right;\">     1</td><td style=\"text-align: right;\">         16.7392</td><td style=\"text-align: right;\">4000</td><td style=\"text-align: right;\">-0.00164041</td><td style=\"text-align: right;\">             1.49658</td><td style=\"text-align: right;\">                  -1</td><td style=\"text-align: right;\">           7.84055</td></tr>\n</tbody>\n</table><br><br>"
          },
          "metadata": {}
        },
        {
          "output_type": "stream",
          "name": "stdout",
          "text": "Result for PPO_BCTrade_f8f93_00000:\n  agent_timesteps_total: 8000\n  custom_metrics: {}\n  date: 2021-12-28_18-58-01\n  done: false\n  episode_len_mean: 8.785087719298245\n  episode_media: {}\n  episode_reward_max: 1.5272867612661774\n  episode_reward_mean: -0.005940508128321974\n  episode_reward_min: -1.3448275862068968\n  episodes_this_iter: 456\n  episodes_total: 964\n  experiment_id: 7e0b731486b04a739f042481dc63f287\n  hostname: rnikolaus1\n  info:\n    learner:\n      default_policy:\n        custom_metrics: {}\n        learner_stats:\n          cur_kl_coeff: 0.10000000149011612\n          cur_lr: 4.999999873689376e-05\n          entropy: 1.3698536157608032\n          entropy_coeff: 0.0\n          kl: 0.007602255791425705\n          model: {}\n          policy_loss: -0.0027849499601870775\n          total_loss: 0.014777456410229206\n          vf_explained_var: -0.2035408318042755\n          vf_loss: 0.01680217869579792\n    num_agent_steps_sampled: 8000\n    num_agent_steps_trained: 8000\n    num_steps_sampled: 8000\n    num_steps_trained: 8000\n    num_steps_trained_this_iter: 0\n  iterations_since_restore: 2\n  node_ip: 10.0.0.4\n  num_healthy_workers: 1\n  off_policy_estimator: {}\n  perf:\n    cpu_util_percent: 36.516666666666666\n    ram_util_percent: 28.683333333333334\n  pid: 17062\n  policy_reward_max: {}\n  policy_reward_mean: {}\n  policy_reward_min: {}\n  sampler_perf:\n    mean_action_processing_ms: 0.0602789274410462\n    mean_env_render_ms: 0.0\n    mean_env_wait_ms: 1.7894462203550392\n    mean_inference_ms: 1.1263330524198092\n    mean_raw_obs_processing_ms: 0.3030759038783329\n  time_since_restore: 33.0408833026886\n  time_this_iter_s: 16.30168914794922\n  time_total_s: 33.0408833026886\n  timers:\n    learn_throughput: 1215.27\n    learn_time_ms: 3291.45\n    load_throughput: 8405418.838\n    load_time_ms: 0.476\n    sample_throughput: 266.307\n    sample_time_ms: 15020.237\n    update_time_ms: 2.299\n  timestamp: 1640717881\n  timesteps_since_restore: 0\n  timesteps_this_iter: 0\n  timesteps_total: 8000\n  training_iteration: 2\n  trial_id: f8f93_00000\n  \n"
        },
        {
          "output_type": "display_data",
          "data": {
            "text/plain": "<IPython.core.display.HTML object>",
            "text/html": "== Status ==<br>Current time: 2021-12-28 18:58:05 (running for 00:00:49.90)<br>Memory usage on this node: 3.8/13.7 GiB<br>Using FIFO scheduling algorithm.<br>Resources requested: 2.0/4 CPUs, 0/0 GPUs, 0.0/6.71 GiB heap, 0.0/3.36 GiB objects<br>Result logdir: /home/azureuser/ray_results/PPO<br>Number of trials: 1/1 (1 RUNNING)<br><table>\n<thead>\n<tr><th>Trial name             </th><th>status  </th><th>loc           </th><th style=\"text-align: right;\">  iter</th><th style=\"text-align: right;\">  total time (s)</th><th style=\"text-align: right;\">  ts</th><th style=\"text-align: right;\">     reward</th><th style=\"text-align: right;\">  episode_reward_max</th><th style=\"text-align: right;\">  episode_reward_min</th><th style=\"text-align: right;\">  episode_len_mean</th></tr>\n</thead>\n<tbody>\n<tr><td>PPO_BCTrade_f8f93_00000</td><td>RUNNING </td><td>10.0.0.4:17062</td><td style=\"text-align: right;\">     2</td><td style=\"text-align: right;\">         33.0409</td><td style=\"text-align: right;\">8000</td><td style=\"text-align: right;\">-0.00594051</td><td style=\"text-align: right;\">             1.52729</td><td style=\"text-align: right;\">            -1.34483</td><td style=\"text-align: right;\">           8.78509</td></tr>\n</tbody>\n</table><br><br>"
          },
          "metadata": {}
        },
        {
          "output_type": "display_data",
          "data": {
            "text/plain": "<IPython.core.display.HTML object>",
            "text/html": "== Status ==<br>Current time: 2021-12-28 18:58:10 (running for 00:00:54.91)<br>Memory usage on this node: 3.8/13.7 GiB<br>Using FIFO scheduling algorithm.<br>Resources requested: 2.0/4 CPUs, 0/0 GPUs, 0.0/6.71 GiB heap, 0.0/3.36 GiB objects<br>Result logdir: /home/azureuser/ray_results/PPO<br>Number of trials: 1/1 (1 RUNNING)<br><table>\n<thead>\n<tr><th>Trial name             </th><th>status  </th><th>loc           </th><th style=\"text-align: right;\">  iter</th><th style=\"text-align: right;\">  total time (s)</th><th style=\"text-align: right;\">  ts</th><th style=\"text-align: right;\">     reward</th><th style=\"text-align: right;\">  episode_reward_max</th><th style=\"text-align: right;\">  episode_reward_min</th><th style=\"text-align: right;\">  episode_len_mean</th></tr>\n</thead>\n<tbody>\n<tr><td>PPO_BCTrade_f8f93_00000</td><td>RUNNING </td><td>10.0.0.4:17062</td><td style=\"text-align: right;\">     2</td><td style=\"text-align: right;\">         33.0409</td><td style=\"text-align: right;\">8000</td><td style=\"text-align: right;\">-0.00594051</td><td style=\"text-align: right;\">             1.52729</td><td style=\"text-align: right;\">            -1.34483</td><td style=\"text-align: right;\">           8.78509</td></tr>\n</tbody>\n</table><br><br>"
          },
          "metadata": {}
        },
        {
          "output_type": "display_data",
          "data": {
            "text/plain": "<IPython.core.display.HTML object>",
            "text/html": "== Status ==<br>Current time: 2021-12-28 18:58:15 (running for 00:00:59.92)<br>Memory usage on this node: 3.8/13.7 GiB<br>Using FIFO scheduling algorithm.<br>Resources requested: 2.0/4 CPUs, 0/0 GPUs, 0.0/6.71 GiB heap, 0.0/3.36 GiB objects<br>Result logdir: /home/azureuser/ray_results/PPO<br>Number of trials: 1/1 (1 RUNNING)<br><table>\n<thead>\n<tr><th>Trial name             </th><th>status  </th><th>loc           </th><th style=\"text-align: right;\">  iter</th><th style=\"text-align: right;\">  total time (s)</th><th style=\"text-align: right;\">  ts</th><th style=\"text-align: right;\">     reward</th><th style=\"text-align: right;\">  episode_reward_max</th><th style=\"text-align: right;\">  episode_reward_min</th><th style=\"text-align: right;\">  episode_len_mean</th></tr>\n</thead>\n<tbody>\n<tr><td>PPO_BCTrade_f8f93_00000</td><td>RUNNING </td><td>10.0.0.4:17062</td><td style=\"text-align: right;\">     2</td><td style=\"text-align: right;\">         33.0409</td><td style=\"text-align: right;\">8000</td><td style=\"text-align: right;\">-0.00594051</td><td style=\"text-align: right;\">             1.52729</td><td style=\"text-align: right;\">            -1.34483</td><td style=\"text-align: right;\">           8.78509</td></tr>\n</tbody>\n</table><br><br>"
          },
          "metadata": {}
        },
        {
          "output_type": "stream",
          "name": "stdout",
          "text": "Result for PPO_BCTrade_f8f93_00000:\n  agent_timesteps_total: 12000\n  custom_metrics: {}\n  date: 2021-12-28_18-58-17\n  done: false\n  episode_len_mean: 10.86720867208672\n  episode_media: {}\n  episode_reward_max: 0.6698833254479064\n  episode_reward_mean: 0.00015382050559290217\n  episode_reward_min: -0.9638114842903576\n  episodes_this_iter: 369\n  episodes_total: 1333\n  experiment_id: 7e0b731486b04a739f042481dc63f287\n  hostname: rnikolaus1\n  info:\n    learner:\n      default_policy:\n        custom_metrics: {}\n        learner_stats:\n          cur_kl_coeff: 0.10000000149011612\n          cur_lr: 4.999999873689376e-05\n          entropy: 1.3481074571609497\n          entropy_coeff: 0.0\n          kl: 0.009723315015435219\n          model: {}\n          policy_loss: -0.006587033625692129\n          total_loss: 0.0030086736660450697\n          vf_explained_var: 0.0036369492299854755\n          vf_loss: 0.008623377420008183\n    num_agent_steps_sampled: 12000\n    num_agent_steps_trained: 12000\n    num_steps_sampled: 12000\n    num_steps_trained: 12000\n    num_steps_trained_this_iter: 0\n  iterations_since_restore: 3\n  node_ip: 10.0.0.4\n  num_healthy_workers: 1\n  off_policy_estimator: {}\n  perf:\n    cpu_util_percent: 37.96521739130435\n    ram_util_percent: 28.039130434782603\n  pid: 17062\n  policy_reward_max: {}\n  policy_reward_mean: {}\n  policy_reward_min: {}\n  sampler_perf:\n    mean_action_processing_ms: 0.059953104226889785\n    mean_env_render_ms: 0.0\n    mean_env_wait_ms: 1.7935773370941626\n    mean_inference_ms: 1.1299404836914833\n    mean_raw_obs_processing_ms: 0.2866304672695122\n  time_since_restore: 49.159966468811035\n  time_this_iter_s: 16.119083166122437\n  time_total_s: 49.159966468811035\n  timers:\n    learn_throughput: 1250.133\n    learn_time_ms: 3199.659\n    load_throughput: 8244332.187\n    load_time_ms: 0.485\n    sample_throughput: 259.459\n    sample_time_ms: 15416.69\n    update_time_ms: 2.246\n  timestamp: 1640717897\n  timesteps_since_restore: 0\n  timesteps_this_iter: 0\n  timesteps_total: 12000\n  training_iteration: 3\n  trial_id: f8f93_00000\n  \n"
        },
        {
          "output_type": "display_data",
          "data": {
            "text/plain": "<IPython.core.display.HTML object>",
            "text/html": "== Status ==<br>Current time: 2021-12-28 18:58:20 (running for 00:01:05.06)<br>Memory usage on this node: 3.8/13.7 GiB<br>Using FIFO scheduling algorithm.<br>Resources requested: 2.0/4 CPUs, 0/0 GPUs, 0.0/6.71 GiB heap, 0.0/3.36 GiB objects<br>Result logdir: /home/azureuser/ray_results/PPO<br>Number of trials: 1/1 (1 RUNNING)<br><table>\n<thead>\n<tr><th>Trial name             </th><th>status  </th><th>loc           </th><th style=\"text-align: right;\">  iter</th><th style=\"text-align: right;\">  total time (s)</th><th style=\"text-align: right;\">   ts</th><th style=\"text-align: right;\">     reward</th><th style=\"text-align: right;\">  episode_reward_max</th><th style=\"text-align: right;\">  episode_reward_min</th><th style=\"text-align: right;\">  episode_len_mean</th></tr>\n</thead>\n<tbody>\n<tr><td>PPO_BCTrade_f8f93_00000</td><td>RUNNING </td><td>10.0.0.4:17062</td><td style=\"text-align: right;\">     3</td><td style=\"text-align: right;\">           49.16</td><td style=\"text-align: right;\">12000</td><td style=\"text-align: right;\">0.000153821</td><td style=\"text-align: right;\">            0.669883</td><td style=\"text-align: right;\">           -0.963811</td><td style=\"text-align: right;\">           10.8672</td></tr>\n</tbody>\n</table><br><br>"
          },
          "metadata": {}
        },
        {
          "output_type": "display_data",
          "data": {
            "text/plain": "<IPython.core.display.HTML object>",
            "text/html": "== Status ==<br>Current time: 2021-12-28 18:58:25 (running for 00:01:10.08)<br>Memory usage on this node: 3.8/13.7 GiB<br>Using FIFO scheduling algorithm.<br>Resources requested: 2.0/4 CPUs, 0/0 GPUs, 0.0/6.71 GiB heap, 0.0/3.36 GiB objects<br>Result logdir: /home/azureuser/ray_results/PPO<br>Number of trials: 1/1 (1 RUNNING)<br><table>\n<thead>\n<tr><th>Trial name             </th><th>status  </th><th>loc           </th><th style=\"text-align: right;\">  iter</th><th style=\"text-align: right;\">  total time (s)</th><th style=\"text-align: right;\">   ts</th><th style=\"text-align: right;\">     reward</th><th style=\"text-align: right;\">  episode_reward_max</th><th style=\"text-align: right;\">  episode_reward_min</th><th style=\"text-align: right;\">  episode_len_mean</th></tr>\n</thead>\n<tbody>\n<tr><td>PPO_BCTrade_f8f93_00000</td><td>RUNNING </td><td>10.0.0.4:17062</td><td style=\"text-align: right;\">     3</td><td style=\"text-align: right;\">           49.16</td><td style=\"text-align: right;\">12000</td><td style=\"text-align: right;\">0.000153821</td><td style=\"text-align: right;\">            0.669883</td><td style=\"text-align: right;\">           -0.963811</td><td style=\"text-align: right;\">           10.8672</td></tr>\n</tbody>\n</table><br><br>"
          },
          "metadata": {}
        },
        {
          "output_type": "display_data",
          "data": {
            "text/plain": "<IPython.core.display.HTML object>",
            "text/html": "== Status ==<br>Current time: 2021-12-28 18:58:30 (running for 00:01:15.09)<br>Memory usage on this node: 3.8/13.7 GiB<br>Using FIFO scheduling algorithm.<br>Resources requested: 2.0/4 CPUs, 0/0 GPUs, 0.0/6.71 GiB heap, 0.0/3.36 GiB objects<br>Result logdir: /home/azureuser/ray_results/PPO<br>Number of trials: 1/1 (1 RUNNING)<br><table>\n<thead>\n<tr><th>Trial name             </th><th>status  </th><th>loc           </th><th style=\"text-align: right;\">  iter</th><th style=\"text-align: right;\">  total time (s)</th><th style=\"text-align: right;\">   ts</th><th style=\"text-align: right;\">     reward</th><th style=\"text-align: right;\">  episode_reward_max</th><th style=\"text-align: right;\">  episode_reward_min</th><th style=\"text-align: right;\">  episode_len_mean</th></tr>\n</thead>\n<tbody>\n<tr><td>PPO_BCTrade_f8f93_00000</td><td>RUNNING </td><td>10.0.0.4:17062</td><td style=\"text-align: right;\">     3</td><td style=\"text-align: right;\">           49.16</td><td style=\"text-align: right;\">12000</td><td style=\"text-align: right;\">0.000153821</td><td style=\"text-align: right;\">            0.669883</td><td style=\"text-align: right;\">           -0.963811</td><td style=\"text-align: right;\">           10.8672</td></tr>\n</tbody>\n</table><br><br>"
          },
          "metadata": {}
        },
        {
          "output_type": "stream",
          "name": "stdout",
          "text": "Result for PPO_BCTrade_f8f93_00000:\n  agent_timesteps_total: 16000\n  custom_metrics: {}\n  date: 2021-12-28_18-58-33\n  done: false\n  episode_len_mean: 11.3342776203966\n  episode_media: {}\n  episode_reward_max: 0.7824408828166036\n  episode_reward_mean: -0.010708046456989874\n  episode_reward_min: -1.0186046511627906\n  episodes_this_iter: 353\n  episodes_total: 1686\n  experiment_id: 7e0b731486b04a739f042481dc63f287\n  hostname: rnikolaus1\n  info:\n    learner:\n      default_policy:\n        custom_metrics: {}\n        learner_stats:\n          cur_kl_coeff: 0.10000000149011612\n          cur_lr: 4.999999873689376e-05\n          entropy: 1.345483660697937\n          entropy_coeff: 0.0\n          kl: 0.006489946506917477\n          model: {}\n          policy_loss: -0.004197912756353617\n          total_loss: 0.01559195201843977\n          vf_explained_var: -0.09198523312807083\n          vf_loss: 0.01914086937904358\n    num_agent_steps_sampled: 16000\n    num_agent_steps_trained: 16000\n    num_steps_sampled: 16000\n    num_steps_trained: 16000\n    num_steps_trained_this_iter: 0\n  iterations_since_restore: 4\n  node_ip: 10.0.0.4\n  num_healthy_workers: 1\n  off_policy_estimator: {}\n  perf:\n    cpu_util_percent: 36.15217391304348\n    ram_util_percent: 27.89999999999999\n  pid: 17062\n  policy_reward_max: {}\n  policy_reward_mean: {}\n  policy_reward_min: {}\n  sampler_perf:\n    mean_action_processing_ms: 0.059772108459568034\n    mean_env_render_ms: 0.0\n    mean_env_wait_ms: 1.7909670194963552\n    mean_inference_ms: 1.1252460237756594\n    mean_raw_obs_processing_ms: 0.27652323510481286\n  time_since_restore: 65.14115476608276\n  time_this_iter_s: 15.981188297271729\n  time_total_s: 65.14115476608276\n  timers:\n    learn_throughput: 1261.159\n    learn_time_ms: 3171.686\n    load_throughput: 7400624.614\n    load_time_ms: 0.54\n    sample_throughput: 257.219\n    sample_time_ms: 15550.968\n    update_time_ms: 2.155\n  timestamp: 1640717913\n  timesteps_since_restore: 0\n  timesteps_this_iter: 0\n  timesteps_total: 16000\n  training_iteration: 4\n  trial_id: f8f93_00000\n  \n"
        },
        {
          "output_type": "display_data",
          "data": {
            "text/plain": "<IPython.core.display.HTML object>",
            "text/html": "== Status ==<br>Current time: 2021-12-28 18:58:36 (running for 00:01:21.08)<br>Memory usage on this node: 3.8/13.7 GiB<br>Using FIFO scheduling algorithm.<br>Resources requested: 2.0/4 CPUs, 0/0 GPUs, 0.0/6.71 GiB heap, 0.0/3.36 GiB objects<br>Result logdir: /home/azureuser/ray_results/PPO<br>Number of trials: 1/1 (1 RUNNING)<br><table>\n<thead>\n<tr><th>Trial name             </th><th>status  </th><th>loc           </th><th style=\"text-align: right;\">  iter</th><th style=\"text-align: right;\">  total time (s)</th><th style=\"text-align: right;\">   ts</th><th style=\"text-align: right;\">   reward</th><th style=\"text-align: right;\">  episode_reward_max</th><th style=\"text-align: right;\">  episode_reward_min</th><th style=\"text-align: right;\">  episode_len_mean</th></tr>\n</thead>\n<tbody>\n<tr><td>PPO_BCTrade_f8f93_00000</td><td>RUNNING </td><td>10.0.0.4:17062</td><td style=\"text-align: right;\">     4</td><td style=\"text-align: right;\">         65.1412</td><td style=\"text-align: right;\">16000</td><td style=\"text-align: right;\">-0.010708</td><td style=\"text-align: right;\">            0.782441</td><td style=\"text-align: right;\">             -1.0186</td><td style=\"text-align: right;\">           11.3343</td></tr>\n</tbody>\n</table><br><br>"
          },
          "metadata": {}
        },
        {
          "output_type": "display_data",
          "data": {
            "text/plain": "<IPython.core.display.HTML object>",
            "text/html": "== Status ==<br>Current time: 2021-12-28 18:58:41 (running for 00:01:26.10)<br>Memory usage on this node: 3.8/13.7 GiB<br>Using FIFO scheduling algorithm.<br>Resources requested: 2.0/4 CPUs, 0/0 GPUs, 0.0/6.71 GiB heap, 0.0/3.36 GiB objects<br>Result logdir: /home/azureuser/ray_results/PPO<br>Number of trials: 1/1 (1 RUNNING)<br><table>\n<thead>\n<tr><th>Trial name             </th><th>status  </th><th>loc           </th><th style=\"text-align: right;\">  iter</th><th style=\"text-align: right;\">  total time (s)</th><th style=\"text-align: right;\">   ts</th><th style=\"text-align: right;\">   reward</th><th style=\"text-align: right;\">  episode_reward_max</th><th style=\"text-align: right;\">  episode_reward_min</th><th style=\"text-align: right;\">  episode_len_mean</th></tr>\n</thead>\n<tbody>\n<tr><td>PPO_BCTrade_f8f93_00000</td><td>RUNNING </td><td>10.0.0.4:17062</td><td style=\"text-align: right;\">     4</td><td style=\"text-align: right;\">         65.1412</td><td style=\"text-align: right;\">16000</td><td style=\"text-align: right;\">-0.010708</td><td style=\"text-align: right;\">            0.782441</td><td style=\"text-align: right;\">             -1.0186</td><td style=\"text-align: right;\">           11.3343</td></tr>\n</tbody>\n</table><br><br>"
          },
          "metadata": {}
        },
        {
          "output_type": "display_data",
          "data": {
            "text/plain": "<IPython.core.display.HTML object>",
            "text/html": "== Status ==<br>Current time: 2021-12-28 18:58:46 (running for 00:01:31.11)<br>Memory usage on this node: 3.8/13.7 GiB<br>Using FIFO scheduling algorithm.<br>Resources requested: 2.0/4 CPUs, 0/0 GPUs, 0.0/6.71 GiB heap, 0.0/3.36 GiB objects<br>Result logdir: /home/azureuser/ray_results/PPO<br>Number of trials: 1/1 (1 RUNNING)<br><table>\n<thead>\n<tr><th>Trial name             </th><th>status  </th><th>loc           </th><th style=\"text-align: right;\">  iter</th><th style=\"text-align: right;\">  total time (s)</th><th style=\"text-align: right;\">   ts</th><th style=\"text-align: right;\">   reward</th><th style=\"text-align: right;\">  episode_reward_max</th><th style=\"text-align: right;\">  episode_reward_min</th><th style=\"text-align: right;\">  episode_len_mean</th></tr>\n</thead>\n<tbody>\n<tr><td>PPO_BCTrade_f8f93_00000</td><td>RUNNING </td><td>10.0.0.4:17062</td><td style=\"text-align: right;\">     4</td><td style=\"text-align: right;\">         65.1412</td><td style=\"text-align: right;\">16000</td><td style=\"text-align: right;\">-0.010708</td><td style=\"text-align: right;\">            0.782441</td><td style=\"text-align: right;\">             -1.0186</td><td style=\"text-align: right;\">           11.3343</td></tr>\n</tbody>\n</table><br><br>"
          },
          "metadata": {}
        },
        {
          "output_type": "stream",
          "name": "stdout",
          "text": "Result for PPO_BCTrade_f8f93_00000:\n  agent_timesteps_total: 20000\n  custom_metrics: {}\n  date: 2021-12-28_18-58-49\n  done: false\n  episode_len_mean: 11.235955056179776\n  episode_media: {}\n  episode_reward_max: 0.8798153879965571\n  episode_reward_mean: 0.0023634552083282127\n  episode_reward_min: -1.0\n  episodes_this_iter: 356\n  episodes_total: 2042\n  experiment_id: 7e0b731486b04a739f042481dc63f287\n  hostname: rnikolaus1\n  info:\n    learner:\n      default_policy:\n        custom_metrics: {}\n        learner_stats:\n          cur_kl_coeff: 0.10000000149011612\n          cur_lr: 4.999999873689376e-05\n          entropy: 1.3149514198303223\n          entropy_coeff: 0.0\n          kl: 0.009857932105660439\n          model: {}\n          policy_loss: -0.0068328422494232655\n          total_loss: 0.005847076419740915\n          vf_explained_var: -0.18489931523799896\n          vf_loss: 0.011694125831127167\n    num_agent_steps_sampled: 20000\n    num_agent_steps_trained: 20000\n    num_steps_sampled: 20000\n    num_steps_trained: 20000\n    num_steps_trained_this_iter: 0\n  iterations_since_restore: 5\n  node_ip: 10.0.0.4\n  num_healthy_workers: 1\n  off_policy_estimator: {}\n  perf:\n    cpu_util_percent: 36.08695652173913\n    ram_util_percent: 27.89999999999999\n  pid: 17062\n  policy_reward_max: {}\n  policy_reward_mean: {}\n  policy_reward_min: {}\n  sampler_perf:\n    mean_action_processing_ms: 0.059722215019162375\n    mean_env_render_ms: 0.0\n    mean_env_wait_ms: 1.7918597030124692\n    mean_inference_ms: 1.1229665271878617\n    mean_raw_obs_processing_ms: 0.2711888021436026\n  time_since_restore: 81.2039213180542\n  time_this_iter_s: 16.062766551971436\n  time_total_s: 81.2039213180542\n  timers:\n    learn_throughput: 1268.134\n    learn_time_ms: 3154.24\n    load_throughput: 7597000.543\n    load_time_ms: 0.527\n    sample_throughput: 255.425\n    sample_time_ms: 15660.154\n    update_time_ms: 2.132\n  timestamp: 1640717929\n  timesteps_since_restore: 0\n  timesteps_this_iter: 0\n  timesteps_total: 20000\n  training_iteration: 5\n  trial_id: f8f93_00000\n  \n"
        },
        {
          "output_type": "display_data",
          "data": {
            "text/plain": "<IPython.core.display.HTML object>",
            "text/html": "== Status ==<br>Current time: 2021-12-28 18:58:51 (running for 00:01:36.18)<br>Memory usage on this node: 3.8/13.7 GiB<br>Using FIFO scheduling algorithm.<br>Resources requested: 2.0/4 CPUs, 0/0 GPUs, 0.0/6.71 GiB heap, 0.0/3.36 GiB objects<br>Result logdir: /home/azureuser/ray_results/PPO<br>Number of trials: 1/1 (1 RUNNING)<br><table>\n<thead>\n<tr><th>Trial name             </th><th>status  </th><th>loc           </th><th style=\"text-align: right;\">  iter</th><th style=\"text-align: right;\">  total time (s)</th><th style=\"text-align: right;\">   ts</th><th style=\"text-align: right;\">    reward</th><th style=\"text-align: right;\">  episode_reward_max</th><th style=\"text-align: right;\">  episode_reward_min</th><th style=\"text-align: right;\">  episode_len_mean</th></tr>\n</thead>\n<tbody>\n<tr><td>PPO_BCTrade_f8f93_00000</td><td>RUNNING </td><td>10.0.0.4:17062</td><td style=\"text-align: right;\">     5</td><td style=\"text-align: right;\">         81.2039</td><td style=\"text-align: right;\">20000</td><td style=\"text-align: right;\">0.00236346</td><td style=\"text-align: right;\">            0.879815</td><td style=\"text-align: right;\">                  -1</td><td style=\"text-align: right;\">            11.236</td></tr>\n</tbody>\n</table><br><br>"
          },
          "metadata": {}
        },
        {
          "output_type": "display_data",
          "data": {
            "text/plain": "<IPython.core.display.HTML object>",
            "text/html": "== Status ==<br>Current time: 2021-12-28 18:58:56 (running for 00:01:41.20)<br>Memory usage on this node: 3.8/13.7 GiB<br>Using FIFO scheduling algorithm.<br>Resources requested: 2.0/4 CPUs, 0/0 GPUs, 0.0/6.71 GiB heap, 0.0/3.36 GiB objects<br>Result logdir: /home/azureuser/ray_results/PPO<br>Number of trials: 1/1 (1 RUNNING)<br><table>\n<thead>\n<tr><th>Trial name             </th><th>status  </th><th>loc           </th><th style=\"text-align: right;\">  iter</th><th style=\"text-align: right;\">  total time (s)</th><th style=\"text-align: right;\">   ts</th><th style=\"text-align: right;\">    reward</th><th style=\"text-align: right;\">  episode_reward_max</th><th style=\"text-align: right;\">  episode_reward_min</th><th style=\"text-align: right;\">  episode_len_mean</th></tr>\n</thead>\n<tbody>\n<tr><td>PPO_BCTrade_f8f93_00000</td><td>RUNNING </td><td>10.0.0.4:17062</td><td style=\"text-align: right;\">     5</td><td style=\"text-align: right;\">         81.2039</td><td style=\"text-align: right;\">20000</td><td style=\"text-align: right;\">0.00236346</td><td style=\"text-align: right;\">            0.879815</td><td style=\"text-align: right;\">                  -1</td><td style=\"text-align: right;\">            11.236</td></tr>\n</tbody>\n</table><br><br>"
          },
          "metadata": {}
        },
        {
          "output_type": "display_data",
          "data": {
            "text/plain": "<IPython.core.display.HTML object>",
            "text/html": "== Status ==<br>Current time: 2021-12-28 18:59:01 (running for 00:01:46.21)<br>Memory usage on this node: 3.8/13.7 GiB<br>Using FIFO scheduling algorithm.<br>Resources requested: 2.0/4 CPUs, 0/0 GPUs, 0.0/6.71 GiB heap, 0.0/3.36 GiB objects<br>Result logdir: /home/azureuser/ray_results/PPO<br>Number of trials: 1/1 (1 RUNNING)<br><table>\n<thead>\n<tr><th>Trial name             </th><th>status  </th><th>loc           </th><th style=\"text-align: right;\">  iter</th><th style=\"text-align: right;\">  total time (s)</th><th style=\"text-align: right;\">   ts</th><th style=\"text-align: right;\">    reward</th><th style=\"text-align: right;\">  episode_reward_max</th><th style=\"text-align: right;\">  episode_reward_min</th><th style=\"text-align: right;\">  episode_len_mean</th></tr>\n</thead>\n<tbody>\n<tr><td>PPO_BCTrade_f8f93_00000</td><td>RUNNING </td><td>10.0.0.4:17062</td><td style=\"text-align: right;\">     5</td><td style=\"text-align: right;\">         81.2039</td><td style=\"text-align: right;\">20000</td><td style=\"text-align: right;\">0.00236346</td><td style=\"text-align: right;\">            0.879815</td><td style=\"text-align: right;\">                  -1</td><td style=\"text-align: right;\">            11.236</td></tr>\n</tbody>\n</table><br><br>"
          },
          "metadata": {}
        },
        {
          "output_type": "stream",
          "name": "stdout",
          "text": "Result for PPO_BCTrade_f8f93_00000:\n  agent_timesteps_total: 24000\n  custom_metrics: {}\n  date: 2021-12-28_18-59-05\n  done: false\n  episode_len_mean: 14.766666666666667\n  episode_media: {}\n  episode_reward_max: 1.0814659098409354\n  episode_reward_mean: -0.021470657611854876\n  episode_reward_min: -1.2142446808510636\n  episodes_this_iter: 270\n  episodes_total: 2312\n  experiment_id: 7e0b731486b04a739f042481dc63f287\n  hostname: rnikolaus1\n  info:\n    learner:\n      default_policy:\n        custom_metrics: {}\n        learner_stats:\n          cur_kl_coeff: 0.10000000149011612\n          cur_lr: 4.999999873689376e-05\n          entropy: 1.3387129306793213\n          entropy_coeff: 0.0\n          kl: 0.01944444328546524\n          model: {}\n          policy_loss: -0.010443962179124355\n          total_loss: 0.03445063531398773\n          vf_explained_var: -0.25319430232048035\n          vf_loss: 0.04295015707612038\n    num_agent_steps_sampled: 24000\n    num_agent_steps_trained: 24000\n    num_steps_sampled: 24000\n    num_steps_trained: 24000\n    num_steps_trained_this_iter: 0\n  iterations_since_restore: 6\n  node_ip: 10.0.0.4\n  num_healthy_workers: 1\n  off_policy_estimator: {}\n  perf:\n    cpu_util_percent: 35.46363636363636\n    ram_util_percent: 27.89999999999999\n  pid: 17062\n  policy_reward_max: {}\n  policy_reward_mean: {}\n  policy_reward_min: {}\n  sampler_perf:\n    mean_action_processing_ms: 0.05956519807826918\n    mean_env_render_ms: 0.0\n    mean_env_wait_ms: 1.7902341307582892\n    mean_inference_ms: 1.1196038528390886\n    mean_raw_obs_processing_ms: 0.26111332388064445\n  time_since_restore: 97.01052165031433\n  time_this_iter_s: 15.806600332260132\n  time_total_s: 97.01052165031433\n  timers:\n    learn_throughput: 1271.666\n    learn_time_ms: 3145.479\n    load_throughput: 7673092.156\n    load_time_ms: 0.521\n    sample_throughput: 254.928\n    sample_time_ms: 15690.716\n    update_time_ms: 2.106\n  timestamp: 1640717945\n  timesteps_since_restore: 0\n  timesteps_this_iter: 0\n  timesteps_total: 24000\n  training_iteration: 6\n  trial_id: f8f93_00000\n  \n"
        },
        {
          "output_type": "display_data",
          "data": {
            "text/plain": "<IPython.core.display.HTML object>",
            "text/html": "== Status ==<br>Current time: 2021-12-28 18:59:07 (running for 00:01:52.03)<br>Memory usage on this node: 3.8/13.7 GiB<br>Using FIFO scheduling algorithm.<br>Resources requested: 2.0/4 CPUs, 0/0 GPUs, 0.0/6.71 GiB heap, 0.0/3.36 GiB objects<br>Result logdir: /home/azureuser/ray_results/PPO<br>Number of trials: 1/1 (1 RUNNING)<br><table>\n<thead>\n<tr><th>Trial name             </th><th>status  </th><th>loc           </th><th style=\"text-align: right;\">  iter</th><th style=\"text-align: right;\">  total time (s)</th><th style=\"text-align: right;\">   ts</th><th style=\"text-align: right;\">    reward</th><th style=\"text-align: right;\">  episode_reward_max</th><th style=\"text-align: right;\">  episode_reward_min</th><th style=\"text-align: right;\">  episode_len_mean</th></tr>\n</thead>\n<tbody>\n<tr><td>PPO_BCTrade_f8f93_00000</td><td>RUNNING </td><td>10.0.0.4:17062</td><td style=\"text-align: right;\">     6</td><td style=\"text-align: right;\">         97.0105</td><td style=\"text-align: right;\">24000</td><td style=\"text-align: right;\">-0.0214707</td><td style=\"text-align: right;\">             1.08147</td><td style=\"text-align: right;\">            -1.21424</td><td style=\"text-align: right;\">           14.7667</td></tr>\n</tbody>\n</table><br><br>"
          },
          "metadata": {}
        },
        {
          "output_type": "display_data",
          "data": {
            "text/plain": "<IPython.core.display.HTML object>",
            "text/html": "== Status ==<br>Current time: 2021-12-28 18:59:12 (running for 00:01:57.04)<br>Memory usage on this node: 3.8/13.7 GiB<br>Using FIFO scheduling algorithm.<br>Resources requested: 2.0/4 CPUs, 0/0 GPUs, 0.0/6.71 GiB heap, 0.0/3.36 GiB objects<br>Result logdir: /home/azureuser/ray_results/PPO<br>Number of trials: 1/1 (1 RUNNING)<br><table>\n<thead>\n<tr><th>Trial name             </th><th>status  </th><th>loc           </th><th style=\"text-align: right;\">  iter</th><th style=\"text-align: right;\">  total time (s)</th><th style=\"text-align: right;\">   ts</th><th style=\"text-align: right;\">    reward</th><th style=\"text-align: right;\">  episode_reward_max</th><th style=\"text-align: right;\">  episode_reward_min</th><th style=\"text-align: right;\">  episode_len_mean</th></tr>\n</thead>\n<tbody>\n<tr><td>PPO_BCTrade_f8f93_00000</td><td>RUNNING </td><td>10.0.0.4:17062</td><td style=\"text-align: right;\">     6</td><td style=\"text-align: right;\">         97.0105</td><td style=\"text-align: right;\">24000</td><td style=\"text-align: right;\">-0.0214707</td><td style=\"text-align: right;\">             1.08147</td><td style=\"text-align: right;\">            -1.21424</td><td style=\"text-align: right;\">           14.7667</td></tr>\n</tbody>\n</table><br><br>"
          },
          "metadata": {}
        },
        {
          "output_type": "display_data",
          "data": {
            "text/plain": "<IPython.core.display.HTML object>",
            "text/html": "== Status ==<br>Current time: 2021-12-28 18:59:17 (running for 00:02:02.05)<br>Memory usage on this node: 3.8/13.7 GiB<br>Using FIFO scheduling algorithm.<br>Resources requested: 2.0/4 CPUs, 0/0 GPUs, 0.0/6.71 GiB heap, 0.0/3.36 GiB objects<br>Result logdir: /home/azureuser/ray_results/PPO<br>Number of trials: 1/1 (1 RUNNING)<br><table>\n<thead>\n<tr><th>Trial name             </th><th>status  </th><th>loc           </th><th style=\"text-align: right;\">  iter</th><th style=\"text-align: right;\">  total time (s)</th><th style=\"text-align: right;\">   ts</th><th style=\"text-align: right;\">    reward</th><th style=\"text-align: right;\">  episode_reward_max</th><th style=\"text-align: right;\">  episode_reward_min</th><th style=\"text-align: right;\">  episode_len_mean</th></tr>\n</thead>\n<tbody>\n<tr><td>PPO_BCTrade_f8f93_00000</td><td>RUNNING </td><td>10.0.0.4:17062</td><td style=\"text-align: right;\">     6</td><td style=\"text-align: right;\">         97.0105</td><td style=\"text-align: right;\">24000</td><td style=\"text-align: right;\">-0.0214707</td><td style=\"text-align: right;\">             1.08147</td><td style=\"text-align: right;\">            -1.21424</td><td style=\"text-align: right;\">           14.7667</td></tr>\n</tbody>\n</table><br><br>"
          },
          "metadata": {}
        },
        {
          "output_type": "stream",
          "name": "stdout",
          "text": "Result for PPO_BCTrade_f8f93_00000:\n  agent_timesteps_total: 28000\n  custom_metrics: {}\n  date: 2021-12-28_18-59-21\n  done: false\n  episode_len_mean: 10.185750636132315\n  episode_media: {}\n  episode_reward_max: 0.46046666666666636\n  episode_reward_mean: -0.008648306117281476\n  episode_reward_min: -1.0\n  episodes_this_iter: 393\n  episodes_total: 2705\n  experiment_id: 7e0b731486b04a739f042481dc63f287\n  hostname: rnikolaus1\n  info:\n    learner:\n      default_policy:\n        custom_metrics: {}\n        learner_stats:\n          cur_kl_coeff: 0.10000000149011612\n          cur_lr: 4.999999873689376e-05\n          entropy: 1.3134576082229614\n          entropy_coeff: 0.0\n          kl: 0.012818599119782448\n          model: {}\n          policy_loss: -0.008830251172184944\n          total_loss: 0.0022803260944783688\n          vf_explained_var: -0.29221034049987793\n          vf_loss: 0.009828719310462475\n    num_agent_steps_sampled: 28000\n    num_agent_steps_trained: 28000\n    num_steps_sampled: 28000\n    num_steps_trained: 28000\n    num_steps_trained_this_iter: 0\n  iterations_since_restore: 7\n  node_ip: 10.0.0.4\n  num_healthy_workers: 1\n  off_policy_estimator: {}\n  perf:\n    cpu_util_percent: 36.33478260869566\n    ram_util_percent: 27.89999999999999\n  pid: 17062\n  policy_reward_max: {}\n  policy_reward_mean: {}\n  policy_reward_min: {}\n  sampler_perf:\n    mean_action_processing_ms: 0.059571480232495706\n    mean_env_render_ms: 0.0\n    mean_env_wait_ms: 1.784960221683999\n    mean_inference_ms: 1.1156591993243155\n    mean_raw_obs_processing_ms: 0.2613568884113645\n  time_since_restore: 112.85871315002441\n  time_this_iter_s: 15.848191499710083\n  time_total_s: 112.85871315002441\n  timers:\n    learn_throughput: 1275.277\n    learn_time_ms: 3136.573\n    load_throughput: 8012588.661\n    load_time_ms: 0.499\n    sample_throughput: 254.447\n    sample_time_ms: 15720.392\n    update_time_ms: 2.118\n  timestamp: 1640717961\n  timesteps_since_restore: 0\n  timesteps_this_iter: 0\n  timesteps_total: 28000\n  training_iteration: 7\n  trial_id: f8f93_00000\n  \n"
        },
        {
          "output_type": "display_data",
          "data": {
            "text/plain": "<IPython.core.display.HTML object>",
            "text/html": "== Status ==<br>Current time: 2021-12-28 18:59:23 (running for 00:02:07.92)<br>Memory usage on this node: 3.8/13.7 GiB<br>Using FIFO scheduling algorithm.<br>Resources requested: 2.0/4 CPUs, 0/0 GPUs, 0.0/6.71 GiB heap, 0.0/3.36 GiB objects<br>Result logdir: /home/azureuser/ray_results/PPO<br>Number of trials: 1/1 (1 RUNNING)<br><table>\n<thead>\n<tr><th>Trial name             </th><th>status  </th><th>loc           </th><th style=\"text-align: right;\">  iter</th><th style=\"text-align: right;\">  total time (s)</th><th style=\"text-align: right;\">   ts</th><th style=\"text-align: right;\">     reward</th><th style=\"text-align: right;\">  episode_reward_max</th><th style=\"text-align: right;\">  episode_reward_min</th><th style=\"text-align: right;\">  episode_len_mean</th></tr>\n</thead>\n<tbody>\n<tr><td>PPO_BCTrade_f8f93_00000</td><td>RUNNING </td><td>10.0.0.4:17062</td><td style=\"text-align: right;\">     7</td><td style=\"text-align: right;\">         112.859</td><td style=\"text-align: right;\">28000</td><td style=\"text-align: right;\">-0.00864831</td><td style=\"text-align: right;\">            0.460467</td><td style=\"text-align: right;\">                  -1</td><td style=\"text-align: right;\">           10.1858</td></tr>\n</tbody>\n</table><br><br>"
          },
          "metadata": {}
        },
        {
          "output_type": "display_data",
          "data": {
            "text/plain": "<IPython.core.display.HTML object>",
            "text/html": "== Status ==<br>Current time: 2021-12-28 18:59:28 (running for 00:02:12.93)<br>Memory usage on this node: 3.8/13.7 GiB<br>Using FIFO scheduling algorithm.<br>Resources requested: 2.0/4 CPUs, 0/0 GPUs, 0.0/6.71 GiB heap, 0.0/3.36 GiB objects<br>Result logdir: /home/azureuser/ray_results/PPO<br>Number of trials: 1/1 (1 RUNNING)<br><table>\n<thead>\n<tr><th>Trial name             </th><th>status  </th><th>loc           </th><th style=\"text-align: right;\">  iter</th><th style=\"text-align: right;\">  total time (s)</th><th style=\"text-align: right;\">   ts</th><th style=\"text-align: right;\">     reward</th><th style=\"text-align: right;\">  episode_reward_max</th><th style=\"text-align: right;\">  episode_reward_min</th><th style=\"text-align: right;\">  episode_len_mean</th></tr>\n</thead>\n<tbody>\n<tr><td>PPO_BCTrade_f8f93_00000</td><td>RUNNING </td><td>10.0.0.4:17062</td><td style=\"text-align: right;\">     7</td><td style=\"text-align: right;\">         112.859</td><td style=\"text-align: right;\">28000</td><td style=\"text-align: right;\">-0.00864831</td><td style=\"text-align: right;\">            0.460467</td><td style=\"text-align: right;\">                  -1</td><td style=\"text-align: right;\">           10.1858</td></tr>\n</tbody>\n</table><br><br>"
          },
          "metadata": {}
        },
        {
          "output_type": "display_data",
          "data": {
            "text/plain": "<IPython.core.display.HTML object>",
            "text/html": "== Status ==<br>Current time: 2021-12-28 18:59:33 (running for 00:02:17.94)<br>Memory usage on this node: 3.8/13.7 GiB<br>Using FIFO scheduling algorithm.<br>Resources requested: 2.0/4 CPUs, 0/0 GPUs, 0.0/6.71 GiB heap, 0.0/3.36 GiB objects<br>Result logdir: /home/azureuser/ray_results/PPO<br>Number of trials: 1/1 (1 RUNNING)<br><table>\n<thead>\n<tr><th>Trial name             </th><th>status  </th><th>loc           </th><th style=\"text-align: right;\">  iter</th><th style=\"text-align: right;\">  total time (s)</th><th style=\"text-align: right;\">   ts</th><th style=\"text-align: right;\">     reward</th><th style=\"text-align: right;\">  episode_reward_max</th><th style=\"text-align: right;\">  episode_reward_min</th><th style=\"text-align: right;\">  episode_len_mean</th></tr>\n</thead>\n<tbody>\n<tr><td>PPO_BCTrade_f8f93_00000</td><td>RUNNING </td><td>10.0.0.4:17062</td><td style=\"text-align: right;\">     7</td><td style=\"text-align: right;\">         112.859</td><td style=\"text-align: right;\">28000</td><td style=\"text-align: right;\">-0.00864831</td><td style=\"text-align: right;\">            0.460467</td><td style=\"text-align: right;\">                  -1</td><td style=\"text-align: right;\">           10.1858</td></tr>\n</tbody>\n</table><br><br>"
          },
          "metadata": {}
        },
        {
          "output_type": "stream",
          "name": "stdout",
          "text": "Result for PPO_BCTrade_f8f93_00000:\n  agent_timesteps_total: 32000\n  custom_metrics: {}\n  date: 2021-12-28_18-59-37\n  done: false\n  episode_len_mean: 12.646687697160884\n  episode_media: {}\n  episode_reward_max: 0.5629551321450517\n  episode_reward_mean: -0.006952157755378599\n  episode_reward_min: -1.2685241610738254\n  episodes_this_iter: 317\n  episodes_total: 3022\n  experiment_id: 7e0b731486b04a739f042481dc63f287\n  hostname: rnikolaus1\n  info:\n    learner:\n      default_policy:\n        custom_metrics: {}\n        learner_stats:\n          cur_kl_coeff: 0.10000000149011612\n          cur_lr: 4.999999873689376e-05\n          entropy: 1.2873046398162842\n          entropy_coeff: 0.0\n          kl: 0.009277870878577232\n          model: {}\n          policy_loss: -0.0037133870646357536\n          total_loss: 0.017252197489142418\n          vf_explained_var: -0.04629525542259216\n          vf_loss: 0.020037798210978508\n    num_agent_steps_sampled: 32000\n    num_agent_steps_trained: 32000\n    num_steps_sampled: 32000\n    num_steps_trained: 32000\n    num_steps_trained_this_iter: 0\n  iterations_since_restore: 8\n  node_ip: 10.0.0.4\n  num_healthy_workers: 1\n  off_policy_estimator: {}\n  perf:\n    cpu_util_percent: 36.20869565217391\n    ram_util_percent: 27.89999999999999\n  pid: 17062\n  policy_reward_max: {}\n  policy_reward_mean: {}\n  policy_reward_min: {}\n  sampler_perf:\n    mean_action_processing_ms: 0.05955062975403235\n    mean_env_render_ms: 0.0\n    mean_env_wait_ms: 1.7842448602217869\n    mean_inference_ms: 1.115415324338104\n    mean_raw_obs_processing_ms: 0.2577294558607964\n  time_since_restore: 128.72480750083923\n  time_this_iter_s: 15.86609435081482\n  time_total_s: 128.72480750083923\n  timers:\n    learn_throughput: 1280.467\n    learn_time_ms: 3123.86\n    load_throughput: 7945638.646\n    load_time_ms: 0.503\n    sample_throughput: 253.969\n    sample_time_ms: 15749.946\n    update_time_ms: 2.119\n  timestamp: 1640717977\n  timesteps_since_restore: 0\n  timesteps_this_iter: 0\n  timesteps_total: 32000\n  training_iteration: 8\n  trial_id: f8f93_00000\n  \n"
        },
        {
          "output_type": "display_data",
          "data": {
            "text/plain": "<IPython.core.display.HTML object>",
            "text/html": "== Status ==<br>Current time: 2021-12-28 18:59:39 (running for 00:02:23.83)<br>Memory usage on this node: 3.8/13.7 GiB<br>Using FIFO scheduling algorithm.<br>Resources requested: 2.0/4 CPUs, 0/0 GPUs, 0.0/6.71 GiB heap, 0.0/3.36 GiB objects<br>Result logdir: /home/azureuser/ray_results/PPO<br>Number of trials: 1/1 (1 RUNNING)<br><table>\n<thead>\n<tr><th>Trial name             </th><th>status  </th><th>loc           </th><th style=\"text-align: right;\">  iter</th><th style=\"text-align: right;\">  total time (s)</th><th style=\"text-align: right;\">   ts</th><th style=\"text-align: right;\">     reward</th><th style=\"text-align: right;\">  episode_reward_max</th><th style=\"text-align: right;\">  episode_reward_min</th><th style=\"text-align: right;\">  episode_len_mean</th></tr>\n</thead>\n<tbody>\n<tr><td>PPO_BCTrade_f8f93_00000</td><td>RUNNING </td><td>10.0.0.4:17062</td><td style=\"text-align: right;\">     8</td><td style=\"text-align: right;\">         128.725</td><td style=\"text-align: right;\">32000</td><td style=\"text-align: right;\">-0.00695216</td><td style=\"text-align: right;\">            0.562955</td><td style=\"text-align: right;\">            -1.26852</td><td style=\"text-align: right;\">           12.6467</td></tr>\n</tbody>\n</table><br><br>"
          },
          "metadata": {}
        },
        {
          "output_type": "display_data",
          "data": {
            "text/plain": "<IPython.core.display.HTML object>",
            "text/html": "== Status ==<br>Current time: 2021-12-28 18:59:44 (running for 00:02:28.84)<br>Memory usage on this node: 3.8/13.7 GiB<br>Using FIFO scheduling algorithm.<br>Resources requested: 2.0/4 CPUs, 0/0 GPUs, 0.0/6.71 GiB heap, 0.0/3.36 GiB objects<br>Result logdir: /home/azureuser/ray_results/PPO<br>Number of trials: 1/1 (1 RUNNING)<br><table>\n<thead>\n<tr><th>Trial name             </th><th>status  </th><th>loc           </th><th style=\"text-align: right;\">  iter</th><th style=\"text-align: right;\">  total time (s)</th><th style=\"text-align: right;\">   ts</th><th style=\"text-align: right;\">     reward</th><th style=\"text-align: right;\">  episode_reward_max</th><th style=\"text-align: right;\">  episode_reward_min</th><th style=\"text-align: right;\">  episode_len_mean</th></tr>\n</thead>\n<tbody>\n<tr><td>PPO_BCTrade_f8f93_00000</td><td>RUNNING </td><td>10.0.0.4:17062</td><td style=\"text-align: right;\">     8</td><td style=\"text-align: right;\">         128.725</td><td style=\"text-align: right;\">32000</td><td style=\"text-align: right;\">-0.00695216</td><td style=\"text-align: right;\">            0.562955</td><td style=\"text-align: right;\">            -1.26852</td><td style=\"text-align: right;\">           12.6467</td></tr>\n</tbody>\n</table><br><br>"
          },
          "metadata": {}
        },
        {
          "output_type": "display_data",
          "data": {
            "text/plain": "<IPython.core.display.HTML object>",
            "text/html": "== Status ==<br>Current time: 2021-12-28 18:59:49 (running for 00:02:33.85)<br>Memory usage on this node: 3.8/13.7 GiB<br>Using FIFO scheduling algorithm.<br>Resources requested: 2.0/4 CPUs, 0/0 GPUs, 0.0/6.71 GiB heap, 0.0/3.36 GiB objects<br>Result logdir: /home/azureuser/ray_results/PPO<br>Number of trials: 1/1 (1 RUNNING)<br><table>\n<thead>\n<tr><th>Trial name             </th><th>status  </th><th>loc           </th><th style=\"text-align: right;\">  iter</th><th style=\"text-align: right;\">  total time (s)</th><th style=\"text-align: right;\">   ts</th><th style=\"text-align: right;\">     reward</th><th style=\"text-align: right;\">  episode_reward_max</th><th style=\"text-align: right;\">  episode_reward_min</th><th style=\"text-align: right;\">  episode_len_mean</th></tr>\n</thead>\n<tbody>\n<tr><td>PPO_BCTrade_f8f93_00000</td><td>RUNNING </td><td>10.0.0.4:17062</td><td style=\"text-align: right;\">     8</td><td style=\"text-align: right;\">         128.725</td><td style=\"text-align: right;\">32000</td><td style=\"text-align: right;\">-0.00695216</td><td style=\"text-align: right;\">            0.562955</td><td style=\"text-align: right;\">            -1.26852</td><td style=\"text-align: right;\">           12.6467</td></tr>\n</tbody>\n</table><br><br>"
          },
          "metadata": {}
        },
        {
          "output_type": "stream",
          "name": "stdout",
          "text": "Result for PPO_BCTrade_f8f93_00000:\n  agent_timesteps_total: 36000\n  custom_metrics: {}\n  date: 2021-12-28_18-59-53\n  done: false\n  episode_len_mean: 11.49712643678161\n  episode_media: {}\n  episode_reward_max: 0.5252489252530854\n  episode_reward_mean: -0.007298835366350271\n  episode_reward_min: -1.0\n  episodes_this_iter: 348\n  episodes_total: 3370\n  experiment_id: 7e0b731486b04a739f042481dc63f287\n  hostname: rnikolaus1\n  info:\n    learner:\n      default_policy:\n        custom_metrics: {}\n        learner_stats:\n          cur_kl_coeff: 0.10000000149011612\n          cur_lr: 4.999999873689376e-05\n          entropy: 1.2944163084030151\n          entropy_coeff: 0.0\n          kl: 0.013156712055206299\n          model: {}\n          policy_loss: -0.005155698861926794\n          total_loss: 0.004189420957118273\n          vf_explained_var: -0.12022781372070312\n          vf_loss: 0.008029448799788952\n    num_agent_steps_sampled: 36000\n    num_agent_steps_trained: 36000\n    num_steps_sampled: 36000\n    num_steps_trained: 36000\n    num_steps_trained_this_iter: 0\n  iterations_since_restore: 9\n  node_ip: 10.0.0.4\n  num_healthy_workers: 1\n  off_policy_estimator: {}\n  perf:\n    cpu_util_percent: 36.09565217391304\n    ram_util_percent: 27.89999999999999\n  pid: 17062\n  policy_reward_max: {}\n  policy_reward_mean: {}\n  policy_reward_min: {}\n  sampler_perf:\n    mean_action_processing_ms: 0.059676817372680956\n    mean_env_render_ms: 0.0\n    mean_env_wait_ms: 1.7853440425418552\n    mean_inference_ms: 1.116910870447877\n    mean_raw_obs_processing_ms: 0.25682739276249694\n  time_since_restore: 144.87743091583252\n  time_this_iter_s: 16.152623414993286\n  time_total_s: 144.87743091583252\n  timers:\n    learn_throughput: 1280.372\n    learn_time_ms: 3124.093\n    load_throughput: 7927076.018\n    load_time_ms: 0.505\n    sample_throughput: 253.333\n    sample_time_ms: 15789.51\n    update_time_ms: 2.096\n  timestamp: 1640717993\n  timesteps_since_restore: 0\n  timesteps_this_iter: 0\n  timesteps_total: 36000\n  training_iteration: 9\n  trial_id: f8f93_00000\n  \n"
        },
        {
          "output_type": "display_data",
          "data": {
            "text/plain": "<IPython.core.display.HTML object>",
            "text/html": "== Status ==<br>Current time: 2021-12-28 18:59:54 (running for 00:02:39.02)<br>Memory usage on this node: 3.8/13.7 GiB<br>Using FIFO scheduling algorithm.<br>Resources requested: 2.0/4 CPUs, 0/0 GPUs, 0.0/6.71 GiB heap, 0.0/3.36 GiB objects<br>Result logdir: /home/azureuser/ray_results/PPO<br>Number of trials: 1/1 (1 RUNNING)<br><table>\n<thead>\n<tr><th>Trial name             </th><th>status  </th><th>loc           </th><th style=\"text-align: right;\">  iter</th><th style=\"text-align: right;\">  total time (s)</th><th style=\"text-align: right;\">   ts</th><th style=\"text-align: right;\">     reward</th><th style=\"text-align: right;\">  episode_reward_max</th><th style=\"text-align: right;\">  episode_reward_min</th><th style=\"text-align: right;\">  episode_len_mean</th></tr>\n</thead>\n<tbody>\n<tr><td>PPO_BCTrade_f8f93_00000</td><td>RUNNING </td><td>10.0.0.4:17062</td><td style=\"text-align: right;\">     9</td><td style=\"text-align: right;\">         144.877</td><td style=\"text-align: right;\">36000</td><td style=\"text-align: right;\">-0.00729884</td><td style=\"text-align: right;\">            0.525249</td><td style=\"text-align: right;\">                  -1</td><td style=\"text-align: right;\">           11.4971</td></tr>\n</tbody>\n</table><br><br>"
          },
          "metadata": {}
        },
        {
          "output_type": "display_data",
          "data": {
            "text/plain": "<IPython.core.display.HTML object>",
            "text/html": "== Status ==<br>Current time: 2021-12-28 18:59:59 (running for 00:02:44.03)<br>Memory usage on this node: 3.8/13.7 GiB<br>Using FIFO scheduling algorithm.<br>Resources requested: 2.0/4 CPUs, 0/0 GPUs, 0.0/6.71 GiB heap, 0.0/3.36 GiB objects<br>Result logdir: /home/azureuser/ray_results/PPO<br>Number of trials: 1/1 (1 RUNNING)<br><table>\n<thead>\n<tr><th>Trial name             </th><th>status  </th><th>loc           </th><th style=\"text-align: right;\">  iter</th><th style=\"text-align: right;\">  total time (s)</th><th style=\"text-align: right;\">   ts</th><th style=\"text-align: right;\">     reward</th><th style=\"text-align: right;\">  episode_reward_max</th><th style=\"text-align: right;\">  episode_reward_min</th><th style=\"text-align: right;\">  episode_len_mean</th></tr>\n</thead>\n<tbody>\n<tr><td>PPO_BCTrade_f8f93_00000</td><td>RUNNING </td><td>10.0.0.4:17062</td><td style=\"text-align: right;\">     9</td><td style=\"text-align: right;\">         144.877</td><td style=\"text-align: right;\">36000</td><td style=\"text-align: right;\">-0.00729884</td><td style=\"text-align: right;\">            0.525249</td><td style=\"text-align: right;\">                  -1</td><td style=\"text-align: right;\">           11.4971</td></tr>\n</tbody>\n</table><br><br>"
          },
          "metadata": {}
        },
        {
          "output_type": "display_data",
          "data": {
            "text/plain": "<IPython.core.display.HTML object>",
            "text/html": "== Status ==<br>Current time: 2021-12-28 19:00:04 (running for 00:02:49.05)<br>Memory usage on this node: 3.8/13.7 GiB<br>Using FIFO scheduling algorithm.<br>Resources requested: 2.0/4 CPUs, 0/0 GPUs, 0.0/6.71 GiB heap, 0.0/3.36 GiB objects<br>Result logdir: /home/azureuser/ray_results/PPO<br>Number of trials: 1/1 (1 RUNNING)<br><table>\n<thead>\n<tr><th>Trial name             </th><th>status  </th><th>loc           </th><th style=\"text-align: right;\">  iter</th><th style=\"text-align: right;\">  total time (s)</th><th style=\"text-align: right;\">   ts</th><th style=\"text-align: right;\">     reward</th><th style=\"text-align: right;\">  episode_reward_max</th><th style=\"text-align: right;\">  episode_reward_min</th><th style=\"text-align: right;\">  episode_len_mean</th></tr>\n</thead>\n<tbody>\n<tr><td>PPO_BCTrade_f8f93_00000</td><td>RUNNING </td><td>10.0.0.4:17062</td><td style=\"text-align: right;\">     9</td><td style=\"text-align: right;\">         144.877</td><td style=\"text-align: right;\">36000</td><td style=\"text-align: right;\">-0.00729884</td><td style=\"text-align: right;\">            0.525249</td><td style=\"text-align: right;\">                  -1</td><td style=\"text-align: right;\">           11.4971</td></tr>\n</tbody>\n</table><br><br>"
          },
          "metadata": {}
        },
        {
          "output_type": "display_data",
          "data": {
            "text/plain": "<IPython.core.display.HTML object>",
            "text/html": "== Status ==<br>Current time: 2021-12-28 19:00:09 (running for 00:02:54.05)<br>Memory usage on this node: 3.8/13.7 GiB<br>Using FIFO scheduling algorithm.<br>Resources requested: 2.0/4 CPUs, 0/0 GPUs, 0.0/6.71 GiB heap, 0.0/3.36 GiB objects<br>Result logdir: /home/azureuser/ray_results/PPO<br>Number of trials: 1/1 (1 RUNNING)<br><table>\n<thead>\n<tr><th>Trial name             </th><th>status  </th><th>loc           </th><th style=\"text-align: right;\">  iter</th><th style=\"text-align: right;\">  total time (s)</th><th style=\"text-align: right;\">   ts</th><th style=\"text-align: right;\">     reward</th><th style=\"text-align: right;\">  episode_reward_max</th><th style=\"text-align: right;\">  episode_reward_min</th><th style=\"text-align: right;\">  episode_len_mean</th></tr>\n</thead>\n<tbody>\n<tr><td>PPO_BCTrade_f8f93_00000</td><td>RUNNING </td><td>10.0.0.4:17062</td><td style=\"text-align: right;\">     9</td><td style=\"text-align: right;\">         144.877</td><td style=\"text-align: right;\">36000</td><td style=\"text-align: right;\">-0.00729884</td><td style=\"text-align: right;\">            0.525249</td><td style=\"text-align: right;\">                  -1</td><td style=\"text-align: right;\">           11.4971</td></tr>\n</tbody>\n</table><br><br>"
          },
          "metadata": {}
        },
        {
          "output_type": "stream",
          "name": "stdout",
          "text": "Result for PPO_BCTrade_f8f93_00000:\n  agent_timesteps_total: 40000\n  custom_metrics: {}\n  date: 2021-12-28_19-00-09\n  done: true\n  episode_len_mean: 8.340292275574113\n  episode_media: {}\n  episode_reward_max: 0.29243697478991626\n  episode_reward_mean: -8.691085097603738e-05\n  episode_reward_min: -1.0\n  episodes_this_iter: 479\n  episodes_total: 3849\n  experiment_id: 7e0b731486b04a739f042481dc63f287\n  hostname: rnikolaus1\n  info:\n    learner:\n      default_policy:\n        custom_metrics: {}\n        learner_stats:\n          cur_kl_coeff: 0.10000000149011612\n          cur_lr: 4.999999873689376e-05\n          entropy: 1.3166162967681885\n          entropy_coeff: 0.0\n          kl: 0.004529917612671852\n          model: {}\n          policy_loss: -0.0031365156173706055\n          total_loss: 0.0027632087003439665\n          vf_explained_var: -0.19155952334403992\n          vf_loss: 0.005446731578558683\n    num_agent_steps_sampled: 40000\n    num_agent_steps_trained: 40000\n    num_steps_sampled: 40000\n    num_steps_trained: 40000\n    num_steps_trained_this_iter: 0\n  iterations_since_restore: 10\n  node_ip: 10.0.0.4\n  num_healthy_workers: 1\n  off_policy_estimator: {}\n  perf:\n    cpu_util_percent: 35.28695652173913\n    ram_util_percent: 27.89999999999999\n  pid: 17062\n  policy_reward_max: {}\n  policy_reward_mean: {}\n  policy_reward_min: {}\n  sampler_perf:\n    mean_action_processing_ms: 0.059842216989695496\n    mean_env_render_ms: 0.0\n    mean_env_wait_ms: 1.7865958540073814\n    mean_inference_ms: 1.1194092324815903\n    mean_raw_obs_processing_ms: 0.2618863735731588\n  time_since_restore: 161.37960648536682\n  time_this_iter_s: 16.5021755695343\n  time_total_s: 161.37960648536682\n  timers:\n    learn_throughput: 1278.685\n    learn_time_ms: 3128.213\n    load_throughput: 7910422.934\n    load_time_ms: 0.506\n    sample_throughput: 252.203\n    sample_time_ms: 15860.217\n    update_time_ms: 2.171\n  timestamp: 1640718009\n  timesteps_since_restore: 0\n  timesteps_this_iter: 0\n  timesteps_total: 40000\n  training_iteration: 10\n  trial_id: f8f93_00000\n  \n"
        },
        {
          "output_type": "display_data",
          "data": {
            "text/plain": "<IPython.core.display.HTML object>",
            "text/html": "== Status ==<br>Current time: 2021-12-28 19:00:09 (running for 00:02:54.67)<br>Memory usage on this node: 3.8/13.7 GiB<br>Using FIFO scheduling algorithm.<br>Resources requested: 0/4 CPUs, 0/0 GPUs, 0.0/6.71 GiB heap, 0.0/3.36 GiB objects<br>Result logdir: /home/azureuser/ray_results/PPO<br>Number of trials: 1/1 (1 TERMINATED)<br><table>\n<thead>\n<tr><th>Trial name             </th><th>status    </th><th>loc           </th><th style=\"text-align: right;\">  iter</th><th style=\"text-align: right;\">  total time (s)</th><th style=\"text-align: right;\">   ts</th><th style=\"text-align: right;\">      reward</th><th style=\"text-align: right;\">  episode_reward_max</th><th style=\"text-align: right;\">  episode_reward_min</th><th style=\"text-align: right;\">  episode_len_mean</th></tr>\n</thead>\n<tbody>\n<tr><td>PPO_BCTrade_f8f93_00000</td><td>TERMINATED</td><td>10.0.0.4:17062</td><td style=\"text-align: right;\">    10</td><td style=\"text-align: right;\">          161.38</td><td style=\"text-align: right;\">40000</td><td style=\"text-align: right;\">-8.69109e-05</td><td style=\"text-align: right;\">            0.292437</td><td style=\"text-align: right;\">                  -1</td><td style=\"text-align: right;\">           8.34029</td></tr>\n</tbody>\n</table><br><br>"
          },
          "metadata": {}
        },
        {
          "output_type": "stream",
          "name": "stderr",
          "text": "\u001b[2m\u001b[36m(pid=17065)\u001b[0m [2021-12-28 19:00:09,961 E 17065 17142] raylet_client.cc:159: IOError: Broken pipe [RayletClient] Failed to disconnect from raylet.\n2021-12-28 19:00:10,063\tINFO tune.py:630 -- Total run time: 174.82 seconds (174.62 seconds for the tuning loop).\n"
        },
        {
          "output_type": "execute_result",
          "execution_count": 6,
          "data": {
            "text/plain": "<ray.tune.analysis.experiment_analysis.ExperimentAnalysis at 0x7fe3b7a8ce10>"
          },
          "metadata": {}
        },
        {
          "output_type": "stream",
          "name": "stderr",
          "text": "\u001b[2m\u001b[33m(raylet)\u001b[0m [2021-12-28 19:36:45,787 E 16875 16875] agent_manager.cc:134: Not all required Ray dependencies for the runtime_env feature were found. To install the required dependencies, please run `pip install 'ray[default]'`.\n\u001b[2m\u001b[33m(raylet)\u001b[0m [2021-12-28 19:36:45,787 E 16875 16875] worker_pool.cc:566: [Eagerly] Couldn't create a runtime environment for job 02000000.\n\u001b[2m\u001b[33m(raylet)\u001b[0m [2021-12-28 19:36:46,445 E 16875 16875] agent_manager.cc:134: Not all required Ray dependencies for the runtime_env feature were found. To install the required dependencies, please run `pip install 'ray[default]'`.\n\u001b[2m\u001b[33m(raylet)\u001b[0m [2021-12-28 19:36:46,445 E 16875 16875] worker_pool.cc:566: [Eagerly] Couldn't create a runtime environment for job 02000000.\n\u001b[2m\u001b[33m(raylet)\u001b[0m [2021-12-28 19:37:19,950 E 16875 16875] agent_manager.cc:134: Not all required Ray dependencies for the runtime_env feature were found. To install the required dependencies, please run `pip install 'ray[default]'`.\n\u001b[2m\u001b[33m(raylet)\u001b[0m [2021-12-28 19:37:19,950 E 16875 16875] worker_pool.cc:566: [Eagerly] Couldn't create a runtime environment for job 03000000.\n\u001b[2m\u001b[33m(raylet)\u001b[0m [2021-12-28 19:37:20,636 E 16875 16875] agent_manager.cc:134: Not all required Ray dependencies for the runtime_env feature were found. To install the required dependencies, please run `pip install 'ray[default]'`.\n\u001b[2m\u001b[33m(raylet)\u001b[0m [2021-12-28 19:37:20,636 E 16875 16875] worker_pool.cc:566: [Eagerly] Couldn't create a runtime environment for job 03000000.\n\u001b[2m\u001b[33m(raylet)\u001b[0m [2021-12-28 19:37:52,985 E 16875 16875] agent_manager.cc:134: Not all required Ray dependencies for the runtime_env feature were found. To install the required dependencies, please run `pip install 'ray[default]'`.\n\u001b[2m\u001b[33m(raylet)\u001b[0m [2021-12-28 19:37:52,985 E 16875 16875] worker_pool.cc:566: [Eagerly] Couldn't create a runtime environment for job 04000000.\n\u001b[2m\u001b[33m(raylet)\u001b[0m [2021-12-28 19:38:28,456 E 16875 16875] agent_manager.cc:134: Not all required Ray dependencies for the runtime_env feature were found. To install the required dependencies, please run `pip install 'ray[default]'`.\n\u001b[2m\u001b[33m(raylet)\u001b[0m [2021-12-28 19:38:28,456 E 16875 16875] worker_pool.cc:566: [Eagerly] Couldn't create a runtime environment for job 04000000.\n\u001b[2m\u001b[33m(raylet)\u001b[0m [2021-12-28 19:42:03,672 E 16875 16875] agent_manager.cc:134: Not all required Ray dependencies for the runtime_env feature were found. To install the required dependencies, please run `pip install 'ray[default]'`.\n\u001b[2m\u001b[33m(raylet)\u001b[0m [2021-12-28 19:42:03,672 E 16875 16875] worker_pool.cc:566: [Eagerly] Couldn't create a runtime environment for job 05000000.\n\u001b[2m\u001b[33m(raylet)\u001b[0m [2021-12-28 19:42:39,548 E 16875 16875] agent_manager.cc:134: Not all required Ray dependencies for the runtime_env feature were found. To install the required dependencies, please run `pip install 'ray[default]'`.\n\u001b[2m\u001b[33m(raylet)\u001b[0m [2021-12-28 19:42:39,548 E 16875 16875] worker_pool.cc:566: [Eagerly] Couldn't create a runtime environment for job 05000000.\n\u001b[2m\u001b[33m(raylet)\u001b[0m [2021-12-28 19:46:12,618 E 16875 16875] agent_manager.cc:134: Not all required Ray dependencies for the runtime_env feature were found. To install the required dependencies, please run `pip install 'ray[default]'`.\n\u001b[2m\u001b[33m(raylet)\u001b[0m [2021-12-28 19:46:12,618 E 16875 16875] worker_pool.cc:566: [Eagerly] Couldn't create a runtime environment for job 06000000.\n\u001b[2m\u001b[33m(raylet)\u001b[0m [2021-12-28 19:46:44,020 E 16875 16875] agent_manager.cc:134: Not all required Ray dependencies for the runtime_env feature were found. To install the required dependencies, please run `pip install 'ray[default]'`.\n\u001b[2m\u001b[33m(raylet)\u001b[0m [2021-12-28 19:46:44,020 E 16875 16875] worker_pool.cc:566: [Eagerly] Couldn't create a runtime environment for job 06000000.\n\u001b[2m\u001b[33m(raylet)\u001b[0m [2021-12-28 19:50:10,649 E 16875 16875] agent_manager.cc:134: Not all required Ray dependencies for the runtime_env feature were found. To install the required dependencies, please run `pip install 'ray[default]'`.\n\u001b[2m\u001b[33m(raylet)\u001b[0m [2021-12-28 19:50:10,649 E 16875 16875] worker_pool.cc:566: [Eagerly] Couldn't create a runtime environment for job 07000000.\n\u001b[2m\u001b[33m(raylet)\u001b[0m [2021-12-28 19:50:42,327 E 16875 16875] agent_manager.cc:134: Not all required Ray dependencies for the runtime_env feature were found. To install the required dependencies, please run `pip install 'ray[default]'`.\n\u001b[2m\u001b[33m(raylet)\u001b[0m [2021-12-28 19:50:42,327 E 16875 16875] worker_pool.cc:566: [Eagerly] Couldn't create a runtime environment for job 07000000.\n\u001b[2m\u001b[33m(raylet)\u001b[0m [2021-12-28 19:53:28,876 E 16875 16875] agent_manager.cc:134: Not all required Ray dependencies for the runtime_env feature were found. To install the required dependencies, please run `pip install 'ray[default]'`.\n\u001b[2m\u001b[33m(raylet)\u001b[0m [2021-12-28 19:53:28,876 E 16875 16875] worker_pool.cc:566: [Eagerly] Couldn't create a runtime environment for job 08000000.\n\u001b[2m\u001b[33m(raylet)\u001b[0m [2021-12-28 19:58:59,076 E 16875 16875] agent_manager.cc:134: Not all required Ray dependencies for the runtime_env feature were found. To install the required dependencies, please run `pip install 'ray[default]'`.\n\u001b[2m\u001b[33m(raylet)\u001b[0m [2021-12-28 19:58:59,076 E 16875 16875] worker_pool.cc:566: [Eagerly] Couldn't create a runtime environment for job 08000000.\n"
        }
      ],
      "execution_count": 6,
      "metadata": {
        "jupyter": {
          "source_hidden": false,
          "outputs_hidden": false
        },
        "nteract": {
          "transient": {
            "deleting": false
          }
        },
        "gather": {
          "logged": 1640718009992
        }
      }
    }
  ],
  "metadata": {
    "kernelspec": {
      "name": "python3-azureml",
      "language": "python",
      "display_name": "Python 3.6 - AzureML"
    },
    "language_info": {
      "name": "python",
      "version": "3.6.9",
      "mimetype": "text/x-python",
      "codemirror_mode": {
        "name": "ipython",
        "version": 3
      },
      "pygments_lexer": "ipython3",
      "nbconvert_exporter": "python",
      "file_extension": ".py"
    },
    "kernel_info": {
      "name": "python3-azureml"
    },
    "microsoft": {
      "host": {
        "AzureML": {
          "notebookHasBeenCompleted": true
        }
      }
    },
    "nteract": {
      "version": "nteract-front-end@1.0.0"
    }
  },
  "nbformat": 4,
  "nbformat_minor": 2
}