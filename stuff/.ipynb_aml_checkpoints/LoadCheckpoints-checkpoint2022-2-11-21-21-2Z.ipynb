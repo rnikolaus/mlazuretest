{
  "cells": [
    {
      "cell_type": "code",
      "source": [
        "import azureml.core\r\n",
        "\r\n",
        "print(\"Azure Machine Learning SDK Version:\", azureml.core.VERSION)"
      ],
      "outputs": [
        {
          "output_type": "stream",
          "name": "stdout",
          "text": "Azure Machine Learning SDK Version: 1.37.0\n"
        }
      ],
      "execution_count": 1,
      "metadata": {
        "gather": {
          "logged": 1646567502237
        }
      }
    },
    {
      "cell_type": "code",
      "source": [
        "from azureml.core import Workspace\r\n",
        "\r\n",
        "ws = Workspace.from_config()\r\n",
        "print(ws.name, ws.location, ws.resource_group, sep = ' | ')"
      ],
      "outputs": [
        {
          "output_type": "stream",
          "name": "stdout",
          "text": "ml-workspace | eastus | ml-rg\n"
        }
      ],
      "execution_count": 2,
      "metadata": {
        "jupyter": {
          "source_hidden": false,
          "outputs_hidden": false
        },
        "nteract": {
          "transient": {
            "deleting": false
          }
        },
        "gather": {
          "logged": 1646567502874
        }
      }
    },
    {
      "cell_type": "code",
      "source": [],
      "outputs": [],
      "execution_count": null,
      "metadata": {
        "jupyter": {
          "source_hidden": false,
          "outputs_hidden": false
        },
        "nteract": {
          "transient": {
            "deleting": false
          }
        }
      }
    },
    {
      "cell_type": "code",
      "source": [
        "from azureml.core.experiment import Experiment\r\n",
        "\r\n",
        "from files import BCTrade_utils\r\n",
        "env ='Bitstamp_1'\r\n",
        "experiment_name = BCTrade_utils.registerBCTrade(env)\r\n",
        "exp = Experiment(workspace=ws, name=experiment_name)"
      ],
      "outputs": [],
      "execution_count": 3,
      "metadata": {
        "jupyter": {
          "source_hidden": false,
          "outputs_hidden": false
        },
        "nteract": {
          "transient": {
            "deleting": false
          }
        },
        "gather": {
          "logged": 1646567509404
        }
      }
    },
    {
      "cell_type": "code",
      "source": [
        "from azureml.core import Run\r\n",
        "\r\n",
        "#run_id = child_run_0.id # Or set to run id of a completed run (e.g. 'rl-cartpole-v0_1587572312_06e04ace_head')\r\n",
        "run_id = 'BCTrade-Bitstamp_1_1646556835_d8cf9986_head'\r\n",
        "child_run_0 = Run(exp, run_id=run_id)\r\n",
        "#child_run_0.get_environment()"
      ],
      "outputs": [],
      "execution_count": 4,
      "metadata": {
        "jupyter": {
          "source_hidden": false,
          "outputs_hidden": false
        },
        "nteract": {
          "transient": {
            "deleting": false
          }
        },
        "gather": {
          "logged": 1646567509701
        }
      }
    },
    {
      "cell_type": "code",
      "source": [
        "from os import path\r\n",
        "from distutils import dir_util\r\n",
        "\r\n",
        "training_artifacts_path = path.join(\"logs\", \"PPO\")\r\n",
        "print(\"Training artifacts path:\", training_artifacts_path)\r\n",
        "\r\n",
        "if path.exists(training_artifacts_path):\r\n",
        "    dir_util.remove_tree(training_artifacts_path)\r\n",
        "\r\n",
        "# Download run artifacts to local compute\r\n",
        "child_run_0.download_files(training_artifacts_path)"
      ],
      "outputs": [
        {
          "output_type": "stream",
          "name": "stdout",
          "text": "Training artifacts path: logs/PPO\n"
        }
      ],
      "execution_count": 5,
      "metadata": {
        "jupyter": {
          "source_hidden": false,
          "outputs_hidden": false
        },
        "nteract": {
          "transient": {
            "deleting": false
          }
        },
        "gather": {
          "logged": 1646567513907
        }
      }
    },
    {
      "cell_type": "code",
      "source": [
        "# A helper function to find checkpoint files in a directory\r\n",
        "def find_checkpoints(file_path):\r\n",
        "    print(\"Looking in path:\", file_path)\r\n",
        "    checkpoints = []\r\n",
        "    for root, _, files in os.walk(file_path):\r\n",
        "        for name in files:\r\n",
        "            if os.path.basename(root).startswith('checkpoint_'):\r\n",
        "                checkpoints.append(path.join(root, name))\r\n",
        "    return checkpoints\r\n",
        "\r\n",
        "checkpoint_files = find_checkpoints(training_artifacts_path)"
      ],
      "outputs": [
        {
          "output_type": "stream",
          "name": "stdout",
          "text": "Looking in path: logs/PPO\n"
        }
      ],
      "execution_count": 6,
      "metadata": {
        "jupyter": {
          "source_hidden": false,
          "outputs_hidden": false
        },
        "nteract": {
          "transient": {
            "deleting": false
          }
        },
        "gather": {
          "logged": 1646567514135
        }
      }
    },
    {
      "cell_type": "code",
      "source": [
        "# Find checkpoints and last checkpoint number\r\n",
        "checkpoint_numbers = []\r\n",
        "for file in checkpoint_files:\r\n",
        "    file = os.path.basename(file)\r\n",
        "    if file.startswith('checkpoint-') and not file.endswith('.tune_metadata'):\r\n",
        "        checkpoint_numbers.append(int(file.split('-')[-1]))\r\n",
        "\r\n",
        "print(\"Checkpoints:\", checkpoint_numbers)\r\n",
        "\r\n",
        "last_checkpoint_number = max(checkpoint_numbers)\r\n",
        "print(\"Last checkpoint number:\", last_checkpoint_number)"
      ],
      "outputs": [
        {
          "output_type": "stream",
          "name": "stdout",
          "text": "Checkpoints: [257, 299, 322, 325, 334, 337, 339, 351, 61, 78]\nLast checkpoint number: 351\n"
        }
      ],
      "execution_count": 7,
      "metadata": {
        "jupyter": {
          "source_hidden": false,
          "outputs_hidden": false
        },
        "nteract": {
          "transient": {
            "deleting": false
          }
        },
        "gather": {
          "logged": 1646567514322
        }
      }
    },
    {
      "cell_type": "code",
      "source": [
        "# Upload the checkpoint files and create a DataSet\r\n",
        "from azureml.core import Dataset\r\n",
        "\r\n",
        "datastore = ws.get_default_datastore()\r\n",
        "checkpoint_dataref = datastore.upload_files(checkpoint_files, target_path='checkpoints_' + run_id, overwrite=True)\r\n",
        "checkpoint_ds = Dataset.File.from_files(checkpoint_dataref)\r\n",
        "print(checkpoint_ds)\r\n",
        "print(checkpoint_ds.as_mount())\r\n",
        "#inputs=[\r\n",
        "#        checkpoint_ds.as_named_input('artifacts_dataset'),\r\n",
        "#        checkpoint_ds.as_named_input('artifacts_path').as_mount()]"
      ],
      "outputs": [
        {
          "output_type": "stream",
          "name": "stdout",
          "text": "Uploading an estimated of 20 files\nUploading logs/PPO/PPO_BCTrade-Bitstamp_1_beeb32bc_2022-03-06_08-59-358hl16iub/checkpoint_257/checkpoint-257.tune_metadata\nUploaded logs/PPO/PPO_BCTrade-Bitstamp_1_beeb32bc_2022-03-06_08-59-358hl16iub/checkpoint_257/checkpoint-257.tune_metadata, 1 files out of an estimated total of 20\nUploading logs/PPO/PPO_BCTrade-Bitstamp_1_beeb32bc_2022-03-06_08-59-358hl16iub/checkpoint_299/checkpoint-299\nUploaded logs/PPO/PPO_BCTrade-Bitstamp_1_beeb32bc_2022-03-06_08-59-358hl16iub/checkpoint_299/checkpoint-299, 2 files out of an estimated total of 20\nUploading logs/PPO/PPO_BCTrade-Bitstamp_1_beeb32bc_2022-03-06_08-59-358hl16iub/checkpoint_299/checkpoint-299.tune_metadata\nUploaded logs/PPO/PPO_BCTrade-Bitstamp_1_beeb32bc_2022-03-06_08-59-358hl16iub/checkpoint_299/checkpoint-299.tune_metadata, 3 files out of an estimated total of 20\nUploading logs/PPO/PPO_BCTrade-Bitstamp_1_beeb32bc_2022-03-06_08-59-358hl16iub/checkpoint_322/checkpoint-322.tune_metadata\nUploaded logs/PPO/PPO_BCTrade-Bitstamp_1_beeb32bc_2022-03-06_08-59-358hl16iub/checkpoint_322/checkpoint-322.tune_metadata, 4 files out of an estimated total of 20\nUploading logs/PPO/PPO_BCTrade-Bitstamp_1_beeb32bc_2022-03-06_08-59-358hl16iub/checkpoint_325/checkpoint-325\nUploaded logs/PPO/PPO_BCTrade-Bitstamp_1_beeb32bc_2022-03-06_08-59-358hl16iub/checkpoint_325/checkpoint-325, 5 files out of an estimated total of 20\nUploading logs/PPO/PPO_BCTrade-Bitstamp_1_beeb32bc_2022-03-06_08-59-358hl16iub/checkpoint_325/checkpoint-325.tune_metadata\nUploaded logs/PPO/PPO_BCTrade-Bitstamp_1_beeb32bc_2022-03-06_08-59-358hl16iub/checkpoint_325/checkpoint-325.tune_metadata, 6 files out of an estimated total of 20\nUploading logs/PPO/PPO_BCTrade-Bitstamp_1_beeb32bc_2022-03-06_08-59-358hl16iub/checkpoint_334/checkpoint-334\nUploaded logs/PPO/PPO_BCTrade-Bitstamp_1_beeb32bc_2022-03-06_08-59-358hl16iub/checkpoint_334/checkpoint-334, 7 files out of an estimated total of 20\nUploading logs/PPO/PPO_BCTrade-Bitstamp_1_beeb32bc_2022-03-06_08-59-358hl16iub/checkpoint_334/checkpoint-334.tune_metadata\nUploaded logs/PPO/PPO_BCTrade-Bitstamp_1_beeb32bc_2022-03-06_08-59-358hl16iub/checkpoint_334/checkpoint-334.tune_metadata, 8 files out of an estimated total of 20\nUploading logs/PPO/PPO_BCTrade-Bitstamp_1_beeb32bc_2022-03-06_08-59-358hl16iub/checkpoint_337/checkpoint-337.tune_metadata\nUploaded logs/PPO/PPO_BCTrade-Bitstamp_1_beeb32bc_2022-03-06_08-59-358hl16iub/checkpoint_337/checkpoint-337.tune_metadata, 9 files out of an estimated total of 20\nUploading logs/PPO/PPO_BCTrade-Bitstamp_1_beeb32bc_2022-03-06_08-59-358hl16iub/checkpoint_339/checkpoint-339.tune_metadata\nUploaded logs/PPO/PPO_BCTrade-Bitstamp_1_beeb32bc_2022-03-06_08-59-358hl16iub/checkpoint_339/checkpoint-339.tune_metadata, 10 files out of an estimated total of 20\nUploading logs/PPO/PPO_BCTrade-Bitstamp_1_beeb32bc_2022-03-06_08-59-358hl16iub/checkpoint_351/checkpoint-351.tune_metadata\nUploaded logs/PPO/PPO_BCTrade-Bitstamp_1_beeb32bc_2022-03-06_08-59-358hl16iub/checkpoint_351/checkpoint-351.tune_metadata, 11 files out of an estimated total of 20\nUploading logs/PPO/PPO_BCTrade-Bitstamp_1_beeb32bc_2022-03-06_08-59-358hl16iub/checkpoint_257/checkpoint-257\nUploaded logs/PPO/PPO_BCTrade-Bitstamp_1_beeb32bc_2022-03-06_08-59-358hl16iub/checkpoint_257/checkpoint-257, 12 files out of an estimated total of 20\nUploading logs/PPO/PPO_BCTrade-Bitstamp_1_beeb32bc_2022-03-06_08-59-358hl16iub/checkpoint_322/checkpoint-322\nUploaded logs/PPO/PPO_BCTrade-Bitstamp_1_beeb32bc_2022-03-06_08-59-358hl16iub/checkpoint_322/checkpoint-322, 13 files out of an estimated total of 20\nUploading logs/PPO/PPO_BCTrade-Bitstamp_1_beeb32bc_2022-03-06_08-59-358hl16iub/checkpoint_337/checkpoint-337\nUploaded logs/PPO/PPO_BCTrade-Bitstamp_1_beeb32bc_2022-03-06_08-59-358hl16iub/checkpoint_337/checkpoint-337, 14 files out of an estimated total of 20\nUploading logs/PPO/PPO_BCTrade-Bitstamp_1_beeb32bc_2022-03-06_08-59-358hl16iub/checkpoint_339/checkpoint-339\nUploaded logs/PPO/PPO_BCTrade-Bitstamp_1_beeb32bc_2022-03-06_08-59-358hl16iub/checkpoint_339/checkpoint-339, 15 files out of an estimated total of 20\nUploading logs/PPO/PPO_BCTrade-Bitstamp_1_beeb32bc_2022-03-06_08-59-358hl16iub/checkpoint_351/checkpoint-351\nUploaded logs/PPO/PPO_BCTrade-Bitstamp_1_beeb32bc_2022-03-06_08-59-358hl16iub/checkpoint_351/checkpoint-351, 16 files out of an estimated total of 20\nUploading logs/PPO/PPO_BCTrade-Bitstamp_1_beeb32bc_2022-03-06_08-59-358hl16iub/checkpoint_61/checkpoint-61\nUploaded logs/PPO/PPO_BCTrade-Bitstamp_1_beeb32bc_2022-03-06_08-59-358hl16iub/checkpoint_61/checkpoint-61, 17 files out of an estimated total of 20\nUploading logs/PPO/PPO_BCTrade-Bitstamp_1_beeb32bc_2022-03-06_08-59-358hl16iub/checkpoint_61/checkpoint-61.tune_metadata\nUploaded logs/PPO/PPO_BCTrade-Bitstamp_1_beeb32bc_2022-03-06_08-59-358hl16iub/checkpoint_61/checkpoint-61.tune_metadata, 18 files out of an estimated total of 20\nUploading logs/PPO/PPO_BCTrade-Bitstamp_1_beeb32bc_2022-03-06_08-59-358hl16iub/checkpoint_78/checkpoint-78\nUploaded logs/PPO/PPO_BCTrade-Bitstamp_1_beeb32bc_2022-03-06_08-59-358hl16iub/checkpoint_78/checkpoint-78, 19 files out of an estimated total of 20\nUploading logs/PPO/PPO_BCTrade-Bitstamp_1_beeb32bc_2022-03-06_08-59-358hl16iub/checkpoint_78/checkpoint-78.tune_metadata\nUploaded logs/PPO/PPO_BCTrade-Bitstamp_1_beeb32bc_2022-03-06_08-59-358hl16iub/checkpoint_78/checkpoint-78.tune_metadata, 20 files out of an estimated total of 20\nUploaded 20 files\nFileDataset\n{\n  \"source\": [\n    \"('workspaceblobstore', 'checkpoints_BCTrade-Bitstamp_1_1646556835_d8cf9986_head')\"\n  ],\n  \"definition\": [\n    \"GetDatastoreFiles\"\n  ]\n}\n<azureml.data.dataset_consumption_config.DatasetConsumptionConfig object at 0x7f4170a7e828>\n"
        },
        {
          "output_type": "stream",
          "name": "stderr",
          "text": "\"datastore.upload_files\" is deprecated after version 1.0.69. Please use \"FileDatasetFactory.upload_directory\" instead. See Dataset API change notice at https://aka.ms/dataset-deprecation.\n"
        }
      ],
      "execution_count": 8,
      "metadata": {
        "jupyter": {
          "source_hidden": false,
          "outputs_hidden": false
        },
        "nteract": {
          "transient": {
            "deleting": false
          }
        },
        "gather": {
          "logged": 1646567520288
        }
      }
    }
  ],
  "metadata": {
    "kernelspec": {
      "name": "python3-azureml",
      "language": "python",
      "display_name": "Python 3.6 - AzureML"
    },
    "language_info": {
      "name": "python",
      "version": "3.6.9",
      "mimetype": "text/x-python",
      "codemirror_mode": {
        "name": "ipython",
        "version": 3
      },
      "pygments_lexer": "ipython3",
      "nbconvert_exporter": "python",
      "file_extension": ".py"
    },
    "kernel_info": {
      "name": "python3-azureml"
    },
    "microsoft": {
      "host": {
        "AzureML": {
          "notebookHasBeenCompleted": true
        }
      }
    },
    "nteract": {
      "version": "nteract-front-end@1.0.0"
    }
  },
  "nbformat": 4,
  "nbformat_minor": 2
}