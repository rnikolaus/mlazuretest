{
  "cells": [
    {
      "cell_type": "code",
      "source": [
        "import azureml.core\r\n",
        "\r\n",
        "print(\"Azure Machine Learning SDK Version:\", azureml.core.VERSION)"
      ],
      "outputs": [
        {
          "output_type": "stream",
          "name": "stdout",
          "text": "Azure Machine Learning SDK Version: 1.37.0\n"
        }
      ],
      "execution_count": 1,
      "metadata": {
        "gather": {
          "logged": 1645253521469
        }
      }
    },
    {
      "cell_type": "code",
      "source": [
        "from azureml.core import Workspace\r\n",
        "\r\n",
        "ws = Workspace.from_config()\r\n",
        "print(ws.name, ws.location, ws.resource_group, sep = ' | ')"
      ],
      "outputs": [
        {
          "output_type": "stream",
          "name": "stdout",
          "text": "ml-workspace | eastus | ml-rg\n"
        }
      ],
      "execution_count": 2,
      "metadata": {
        "jupyter": {
          "source_hidden": false,
          "outputs_hidden": false
        },
        "nteract": {
          "transient": {
            "deleting": false
          }
        },
        "gather": {
          "logged": 1645253521701
        }
      }
    },
    {
      "cell_type": "code",
      "source": [],
      "outputs": [],
      "execution_count": null,
      "metadata": {
        "jupyter": {
          "source_hidden": false,
          "outputs_hidden": false
        },
        "nteract": {
          "transient": {
            "deleting": false
          }
        }
      }
    },
    {
      "cell_type": "code",
      "source": [
        "from azureml.core.experiment import Experiment\r\n",
        "\r\n",
        "from files import BCTrade_utils\r\n",
        "env ='Bitstamp_1'\r\n",
        "experiment_name = BCTrade_utils.registerBCTrade(env)\r\n",
        "exp = Experiment(workspace=ws, name=experiment_name)"
      ],
      "outputs": [],
      "execution_count": 3,
      "metadata": {
        "jupyter": {
          "source_hidden": false,
          "outputs_hidden": false
        },
        "nteract": {
          "transient": {
            "deleting": false
          }
        },
        "gather": {
          "logged": 1645253528935
        }
      }
    },
    {
      "cell_type": "code",
      "source": [
        "from azureml.core import Run\r\n",
        "\r\n",
        "#run_id = child_run_0.id # Or set to run id of a completed run (e.g. 'rl-cartpole-v0_1587572312_06e04ace_head')\r\n",
        "run_id = 'BCTrade-Bitstamp_1_1645218103_43d2dc6b_head'\r\n",
        "child_run_0 = Run(exp, run_id=run_id)\r\n",
        "#child_run_0.get_environment()"
      ],
      "outputs": [],
      "execution_count": 4,
      "metadata": {
        "jupyter": {
          "source_hidden": false,
          "outputs_hidden": false
        },
        "nteract": {
          "transient": {
            "deleting": false
          }
        },
        "gather": {
          "logged": 1645253529261
        }
      }
    },
    {
      "cell_type": "code",
      "source": [
        "from os import path\r\n",
        "from distutils import dir_util\r\n",
        "\r\n",
        "training_artifacts_path = path.join(\"logs\", \"PPO\")\r\n",
        "print(\"Training artifacts path:\", training_artifacts_path)\r\n",
        "\r\n",
        "if path.exists(training_artifacts_path):\r\n",
        "    dir_util.remove_tree(training_artifacts_path)\r\n",
        "\r\n",
        "# Download run artifacts to local compute\r\n",
        "child_run_0.download_files(training_artifacts_path)"
      ],
      "outputs": [
        {
          "output_type": "stream",
          "name": "stdout",
          "text": "Training artifacts path: logs/PPO\n"
        }
      ],
      "execution_count": 5,
      "metadata": {
        "jupyter": {
          "source_hidden": false,
          "outputs_hidden": false
        },
        "nteract": {
          "transient": {
            "deleting": false
          }
        },
        "gather": {
          "logged": 1645253535826
        }
      }
    },
    {
      "cell_type": "code",
      "source": [
        "# A helper function to find checkpoint files in a directory\r\n",
        "def find_checkpoints(file_path):\r\n",
        "    print(\"Looking in path:\", file_path)\r\n",
        "    checkpoints = []\r\n",
        "    for root, _, files in os.walk(file_path):\r\n",
        "        for name in files:\r\n",
        "            if os.path.basename(root).startswith('checkpoint_'):\r\n",
        "                checkpoints.append(path.join(root, name))\r\n",
        "    return checkpoints\r\n",
        "\r\n",
        "checkpoint_files = find_checkpoints(training_artifacts_path)"
      ],
      "outputs": [
        {
          "output_type": "stream",
          "name": "stdout",
          "text": "Looking in path: logs/PPO\n"
        }
      ],
      "execution_count": 6,
      "metadata": {
        "jupyter": {
          "source_hidden": false,
          "outputs_hidden": false
        },
        "nteract": {
          "transient": {
            "deleting": false
          }
        },
        "gather": {
          "logged": 1645253536085
        }
      }
    },
    {
      "cell_type": "code",
      "source": [
        "# Find checkpoints and last checkpoint number\r\n",
        "checkpoint_numbers = []\r\n",
        "for file in checkpoint_files:\r\n",
        "    file = os.path.basename(file)\r\n",
        "    if file.startswith('checkpoint-') and not file.endswith('.tune_metadata'):\r\n",
        "        checkpoint_numbers.append(int(file.split('-')[-1]))\r\n",
        "\r\n",
        "print(\"Checkpoints:\", checkpoint_numbers)\r\n",
        "\r\n",
        "last_checkpoint_number = max(checkpoint_numbers)\r\n",
        "print(\"Last checkpoint number:\", last_checkpoint_number)"
      ],
      "outputs": [
        {
          "output_type": "stream",
          "name": "stdout",
          "text": "Checkpoints: [143, 186, 191, 212, 239, 27, 302, 368, 390, 93]\nLast checkpoint number: 390\n"
        }
      ],
      "execution_count": 7,
      "metadata": {
        "jupyter": {
          "source_hidden": false,
          "outputs_hidden": false
        },
        "nteract": {
          "transient": {
            "deleting": false
          }
        },
        "gather": {
          "logged": 1645253536256
        }
      }
    },
    {
      "cell_type": "code",
      "source": [
        "from \tazureml.data.data_reference import DataReference\r\n",
        "from azureml.core import Dataset\r\n",
        "\r\n",
        "datastore = ws.get_default_datastore()\r\n",
        "x = DataReference(datastore, path_\r\n",
        "checkpoint_ds= Dataset.File.from_files(DataReference(datastore, path_on_datastore='checkpoints_BCTrade-Btc_with_indicators_1643483635_6b6906f0_head'))\r\n",
        "\r\n"
      ],
      "outputs": [
        {
          "output_type": "error",
          "ename": "SyntaxError",
          "evalue": "invalid syntax (<ipython-input-9-51b9310036f0>, line 6)",
          "traceback": [
            "\u001b[0;36m  File \u001b[0;32m\"<ipython-input-9-51b9310036f0>\"\u001b[0;36m, line \u001b[0;32m6\u001b[0m\n\u001b[0;31m    checkpoint_ds= Dataset.File.from_files(DataReference(datastore, path_on_datastore='checkpoints_BCTrade-Btc_with_indicators_1643483635_6b6906f0_head'))\u001b[0m\n\u001b[0m                ^\u001b[0m\n\u001b[0;31mSyntaxError\u001b[0m\u001b[0;31m:\u001b[0m invalid syntax\n"
          ]
        }
      ],
      "execution_count": 9,
      "metadata": {
        "jupyter": {
          "source_hidden": false,
          "outputs_hidden": false
        },
        "nteract": {
          "transient": {
            "deleting": false
          }
        },
        "gather": {
          "logged": 1644958653586
        }
      }
    },
    {
      "cell_type": "code",
      "source": [
        "# Upload the checkpoint files and create a DataSet\r\n",
        "from azureml.core import Dataset\r\n",
        "\r\n",
        "datastore = ws.get_default_datastore()\r\n",
        "checkpoint_dataref = datastore.upload_files(checkpoint_files, target_path='checkpoints_' + run_id, overwrite=True)\r\n",
        "checkpoint_ds = Dataset.File.from_files(checkpoint_dataref)\r\n",
        "print(checkpoint_ds)\r\n",
        "print(checkpoint_ds.as_mount())\r\n",
        "#inputs=[\r\n",
        "#        checkpoint_ds.as_named_input('artifacts_dataset'),\r\n",
        "#        checkpoint_ds.as_named_input('artifacts_path').as_mount()]"
      ],
      "outputs": [
        {
          "output_type": "stream",
          "name": "stderr",
          "text": "\"datastore.upload_files\" is deprecated after version 1.0.69. Please use \"FileDatasetFactory.upload_directory\" instead. See Dataset API change notice at https://aka.ms/dataset-deprecation.\n"
        },
        {
          "output_type": "stream",
          "name": "stdout",
          "text": "Uploading an estimated of 20 files\nUploading logs/PPO/PPO_BCTrade-Bitstamp_1_42aa0f44_2022-02-18_21-10-55ojfmx2pr/checkpoint_143/checkpoint-143\nUploaded logs/PPO/PPO_BCTrade-Bitstamp_1_42aa0f44_2022-02-18_21-10-55ojfmx2pr/checkpoint_143/checkpoint-143, 1 files out of an estimated total of 20\nUploading logs/PPO/PPO_BCTrade-Bitstamp_1_42aa0f44_2022-02-18_21-10-55ojfmx2pr/checkpoint_143/checkpoint-143.tune_metadata\nUploaded logs/PPO/PPO_BCTrade-Bitstamp_1_42aa0f44_2022-02-18_21-10-55ojfmx2pr/checkpoint_143/checkpoint-143.tune_metadata, 2 files out of an estimated total of 20\nUploading logs/PPO/PPO_BCTrade-Bitstamp_1_42aa0f44_2022-02-18_21-10-55ojfmx2pr/checkpoint_186/checkpoint-186\nUploaded logs/PPO/PPO_BCTrade-Bitstamp_1_42aa0f44_2022-02-18_21-10-55ojfmx2pr/checkpoint_186/checkpoint-186, 3 files out of an estimated total of 20\nUploading logs/PPO/PPO_BCTrade-Bitstamp_1_42aa0f44_2022-02-18_21-10-55ojfmx2pr/checkpoint_191/checkpoint-191\nUploaded logs/PPO/PPO_BCTrade-Bitstamp_1_42aa0f44_2022-02-18_21-10-55ojfmx2pr/checkpoint_191/checkpoint-191, 4 files out of an estimated total of 20\nUploading logs/PPO/PPO_BCTrade-Bitstamp_1_42aa0f44_2022-02-18_21-10-55ojfmx2pr/checkpoint_191/checkpoint-191.tune_metadata\nUploaded logs/PPO/PPO_BCTrade-Bitstamp_1_42aa0f44_2022-02-18_21-10-55ojfmx2pr/checkpoint_191/checkpoint-191.tune_metadata, 5 files out of an estimated total of 20\nUploading logs/PPO/PPO_BCTrade-Bitstamp_1_42aa0f44_2022-02-18_21-10-55ojfmx2pr/checkpoint_212/checkpoint-212\nUploaded logs/PPO/PPO_BCTrade-Bitstamp_1_42aa0f44_2022-02-18_21-10-55ojfmx2pr/checkpoint_212/checkpoint-212, 6 files out of an estimated total of 20\nUploading logs/PPO/PPO_BCTrade-Bitstamp_1_42aa0f44_2022-02-18_21-10-55ojfmx2pr/checkpoint_212/checkpoint-212.tune_metadata\nUploaded logs/PPO/PPO_BCTrade-Bitstamp_1_42aa0f44_2022-02-18_21-10-55ojfmx2pr/checkpoint_212/checkpoint-212.tune_metadata, 7 files out of an estimated total of 20\nUploading logs/PPO/PPO_BCTrade-Bitstamp_1_42aa0f44_2022-02-18_21-10-55ojfmx2pr/checkpoint_239/checkpoint-239\nUploaded logs/PPO/PPO_BCTrade-Bitstamp_1_42aa0f44_2022-02-18_21-10-55ojfmx2pr/checkpoint_239/checkpoint-239, 8 files out of an estimated total of 20\nUploading logs/PPO/PPO_BCTrade-Bitstamp_1_42aa0f44_2022-02-18_21-10-55ojfmx2pr/checkpoint_239/checkpoint-239.tune_metadata\nUploaded logs/PPO/PPO_BCTrade-Bitstamp_1_42aa0f44_2022-02-18_21-10-55ojfmx2pr/checkpoint_239/checkpoint-239.tune_metadata, 9 files out of an estimated total of 20\nUploading logs/PPO/PPO_BCTrade-Bitstamp_1_42aa0f44_2022-02-18_21-10-55ojfmx2pr/checkpoint_27/checkpoint-27.tune_metadata\nUploaded logs/PPO/PPO_BCTrade-Bitstamp_1_42aa0f44_2022-02-18_21-10-55ojfmx2pr/checkpoint_27/checkpoint-27.tune_metadata, 10 files out of an estimated total of 20\nUploading logs/PPO/PPO_BCTrade-Bitstamp_1_42aa0f44_2022-02-18_21-10-55ojfmx2pr/checkpoint_302/checkpoint-302.tune_metadata\nUploaded logs/PPO/PPO_BCTrade-Bitstamp_1_42aa0f44_2022-02-18_21-10-55ojfmx2pr/checkpoint_302/checkpoint-302.tune_metadata, 11 files out of an estimated total of 20\nUploading logs/PPO/PPO_BCTrade-Bitstamp_1_42aa0f44_2022-02-18_21-10-55ojfmx2pr/checkpoint_368/checkpoint-368.tune_metadata\nUploaded logs/PPO/PPO_BCTrade-Bitstamp_1_42aa0f44_2022-02-18_21-10-55ojfmx2pr/checkpoint_368/checkpoint-368.tune_metadata, 12 files out of an estimated total of 20\nUploading logs/PPO/PPO_BCTrade-Bitstamp_1_42aa0f44_2022-02-18_21-10-55ojfmx2pr/checkpoint_27/checkpoint-27\nUploaded logs/PPO/PPO_BCTrade-Bitstamp_1_42aa0f44_2022-02-18_21-10-55ojfmx2pr/checkpoint_27/checkpoint-27, 13 files out of an estimated total of 20\nUploading logs/PPO/PPO_BCTrade-Bitstamp_1_42aa0f44_2022-02-18_21-10-55ojfmx2pr/checkpoint_302/checkpoint-302\nUploaded logs/PPO/PPO_BCTrade-Bitstamp_1_42aa0f44_2022-02-18_21-10-55ojfmx2pr/checkpoint_302/checkpoint-302, 14 files out of an estimated total of 20\nUploading logs/PPO/PPO_BCTrade-Bitstamp_1_42aa0f44_2022-02-18_21-10-55ojfmx2pr/checkpoint_368/checkpoint-368\nUploaded logs/PPO/PPO_BCTrade-Bitstamp_1_42aa0f44_2022-02-18_21-10-55ojfmx2pr/checkpoint_368/checkpoint-368, 15 files out of an estimated total of 20\nUploading logs/PPO/PPO_BCTrade-Bitstamp_1_42aa0f44_2022-02-18_21-10-55ojfmx2pr/checkpoint_390/checkpoint-390\nUploaded logs/PPO/PPO_BCTrade-Bitstamp_1_42aa0f44_2022-02-18_21-10-55ojfmx2pr/checkpoint_390/checkpoint-390, 16 files out of an estimated total of 20\nUploading logs/PPO/PPO_BCTrade-Bitstamp_1_42aa0f44_2022-02-18_21-10-55ojfmx2pr/checkpoint_390/checkpoint-390.tune_metadata\nUploaded logs/PPO/PPO_BCTrade-Bitstamp_1_42aa0f44_2022-02-18_21-10-55ojfmx2pr/checkpoint_390/checkpoint-390.tune_metadata, 17 files out of an estimated total of 20\nUploading logs/PPO/PPO_BCTrade-Bitstamp_1_42aa0f44_2022-02-18_21-10-55ojfmx2pr/checkpoint_93/checkpoint-93\nUploaded logs/PPO/PPO_BCTrade-Bitstamp_1_42aa0f44_2022-02-18_21-10-55ojfmx2pr/checkpoint_93/checkpoint-93, 18 files out of an estimated total of 20\nUploading logs/PPO/PPO_BCTrade-Bitstamp_1_42aa0f44_2022-02-18_21-10-55ojfmx2pr/checkpoint_93/checkpoint-93.tune_metadata\nUploaded logs/PPO/PPO_BCTrade-Bitstamp_1_42aa0f44_2022-02-18_21-10-55ojfmx2pr/checkpoint_93/checkpoint-93.tune_metadata, 19 files out of an estimated total of 20\nUploading logs/PPO/PPO_BCTrade-Bitstamp_1_42aa0f44_2022-02-18_21-10-55ojfmx2pr/checkpoint_186/checkpoint-186.tune_metadata\nUploaded logs/PPO/PPO_BCTrade-Bitstamp_1_42aa0f44_2022-02-18_21-10-55ojfmx2pr/checkpoint_186/checkpoint-186.tune_metadata, 20 files out of an estimated total of 20\nUploaded 20 files\nFileDataset\n{\n  \"source\": [\n    \"('workspaceblobstore', 'checkpoints_BCTrade-Bitstamp_1_1645218103_43d2dc6b_head')\"\n  ],\n  \"definition\": [\n    \"GetDatastoreFiles\"\n  ]\n}\n<azureml.data.dataset_consumption_config.DatasetConsumptionConfig object at 0x7f124c525208>\n"
        }
      ],
      "execution_count": 10,
      "metadata": {
        "jupyter": {
          "source_hidden": false,
          "outputs_hidden": false
        },
        "nteract": {
          "transient": {
            "deleting": false
          }
        },
        "gather": {
          "logged": 1645253775548
        }
      }
    }
  ],
  "metadata": {
    "kernelspec": {
      "name": "python3-azureml",
      "language": "python",
      "display_name": "Python 3.6 - AzureML"
    },
    "language_info": {
      "name": "python",
      "version": "3.6.9",
      "mimetype": "text/x-python",
      "codemirror_mode": {
        "name": "ipython",
        "version": 3
      },
      "pygments_lexer": "ipython3",
      "nbconvert_exporter": "python",
      "file_extension": ".py"
    },
    "kernel_info": {
      "name": "python3-azureml"
    },
    "microsoft": {
      "host": {
        "AzureML": {
          "notebookHasBeenCompleted": true
        }
      }
    },
    "nteract": {
      "version": "nteract-front-end@1.0.0"
    }
  },
  "nbformat": 4,
  "nbformat_minor": 2
}